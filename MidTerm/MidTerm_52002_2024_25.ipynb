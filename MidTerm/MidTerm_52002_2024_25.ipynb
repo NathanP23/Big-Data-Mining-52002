{
  "cells": [
    {
      "cell_type": "markdown",
      "metadata": {
        "id": "view-in-github",
        "colab_type": "text"
      },
      "source": [
        "<a href=\"https://colab.research.google.com/github/NathanP23/Big-Data-Mining-52002/blob/main/MidTerm/MidTerm_52002_2024_25.ipynb\" target=\"_parent\"><img src=\"https://colab.research.google.com/assets/colab-badge.svg\" alt=\"Open In Colab\"/></a>"
      ]
    },
    {
      "cell_type": "markdown",
      "id": "c71a501a-e69f-4db7-871f-905e9861fe4a",
      "metadata": {
        "id": "c71a501a-e69f-4db7-871f-905e9861fe4a"
      },
      "source": [
        "# Midterm 52002 - 2024-2025\n",
        "\n",
        "**General instructions:** The mid-term should be done in pairs. Submit your solutions in the course by uploading the solution files to the course Moodle page by 10.1.2025\n",
        "\n",
        "**.ipynb solution file:** Fill-in the missing code blocks (for parts 1 and 3)and text blocks (for all three parts) in this ipynb notebook, change the name to `MidTerm_52002_2025_25_<ID1>_<ID2>.ipynb` where replace `<ID1>` and `<ID2>` by your ID nuymbers. Run the filled-notebook it in jupyter notebooks/google colab and upload to moodle the **filled** notebook with results (tables, graphs etc.).\n",
        "\n",
        "**In addition**, submit a pdf/html export of the executed notebook with all the output, named `MidTerm_52002_2025_25_<ID1>_<ID2>.html` (or `.pdf`). Failing to submit both files as instructed will lead to a reduction in your midtem grade.\n",
        "\n",
        "\n",
        "**Good luck!**"
      ]
    },
    {
      "cell_type": "markdown",
      "id": "48TT9I9BGWd9",
      "metadata": {
        "id": "48TT9I9BGWd9"
      },
      "source": [
        "\n",
        "# BigQuery & SQL - 40 points\n",
        "There are 5 sub-questions in this part. Each sub-question is worth 8 points"
      ]
    },
    {
      "cell_type": "markdown",
      "id": "b756e1fb-959f-4a1c-b78c-ab714b3f2c52",
      "metadata": {
        "id": "b756e1fb-959f-4a1c-b78c-ab714b3f2c52"
      },
      "source": [
        "BigQuery is Google's serverless data warehouse that enables scalable analysis   \n",
        "over petabytes of data. It is a Platform as a Service (PaaS) that supports querying   \n",
        "using SQL. In this part of the midterm you'll be asked to query BigQuery tables    \n",
        "using its python API. Please use the `sandbox` BigQuery environment and query   \n",
        "only public datasets.\n",
        "\n",
        "**Please note:**\n",
        "Your BigQuery's resources are limited to `1 TB` per user per month - be mindful with how many queries you   \n",
        "execute and try to optimize your queries as much as possible.\n",
        "\n",
        "\n",
        "**We will utilize two datasets about New-York City:**\n",
        "\n",
        "The first one called `new_york_311` is the 311 calls or service requests dataset, which contains resident complaints from 2010 to 2022.\n",
        "\n",
        "The second dataset called `new_york_trees` is the \"2015 Street Tree Census - Tree Data,\" which includes information from the 1995, 2005, and 2015 Street Tree Censuses. This dataset catalogs trees by address and provides details such as species, diameter, and condition.\n",
        "\n",
        "More information on the two datasets can be found [here](https://data.cityofnewyork.us/Social-Services/311-Service-Requests-from-2010-to-Present/erm2-nwe9) and [here](https://data.cityofnewyork.us/Environment/2015-Street-Tree-Census-Tree-Data/uvpi-gqnh/about_data).   \n",
        "\n",
        "**Guidelines:**  \n",
        "1. Fill this notebook with python commands including SQL queries in the designated places and run it using a jupyter notebook environment (e.g. google colab)\n",
        "2. Write efficient SQL queries and code. Points may be taken off for inefficient queries and code.\n",
        "3. The python API enables us to write code that interacts with BigQuery and convert between the SQL tables to python objects, thus allowing analysis and plotting using python code. You should write your SQL commands within the API. It is recommended to first browse the dataset and run the SQL command manualy in the BigQuery web-browser environment, before copying it to the python notebool.      \n",
        "4. Your plots should be clear, with titles, and with propoer x-y labels.\n",
        "You may use the `matplotlib` library, or `pandas.DataFrame.plot` for your plots.\n",
        "5. When reading BigQuery tables, used the `` symbols to around the table's name, and use as prefix `'Big Query'` and the name of the dataset. For example, to extract a table present in the `new_york_trees` dataset you should use the name\n",
        "`'bigquery-public-data.new_york_trees.<table-name>'` where `<table-name>` is replaced by the name of the table."
      ]
    },
    {
      "cell_type": "markdown",
      "id": "c9a40f98-4fa1-40f2-8d3a-2cacb87cf149",
      "metadata": {
        "id": "c9a40f98-4fa1-40f2-8d3a-2cacb87cf149"
      },
      "source": [
        "**Necessary Libraries:**  \n",
        "(Do not use any libraries that are not in this list without permission in writing form the course staff)"
      ]
    },
    {
      "cell_type": "code",
      "execution_count": 7,
      "id": "7d8b6eba-d97c-424d-aa1a-0d082e3933f3",
      "metadata": {
        "id": "7d8b6eba-d97c-424d-aa1a-0d082e3933f3"
      },
      "outputs": [],
      "source": [
        "import pandas as pd\n",
        "import matplotlib as plt\n",
        "from google.cloud import bigquery\n",
        "from sqlite3 import connect"
      ]
    },
    {
      "cell_type": "markdown",
      "id": "LYGolbl4zxOi",
      "metadata": {
        "id": "LYGolbl4zxOi"
      },
      "source": [
        "### Q1: BigQuery client & Initital Query"
      ]
    },
    {
      "cell_type": "code",
      "execution_count": 8,
      "id": "QR9d8etrFl8R",
      "metadata": {
        "colab": {
          "base_uri": "https://localhost:8080/"
        },
        "id": "QR9d8etrFl8R",
        "outputId": "1ceef908-c60f-40fe-a787-bc48b3ea0ac3"
      },
      "outputs": [
        {
          "output_type": "stream",
          "name": "stdout",
          "text": [
            "Authenticated\n"
          ]
        }
      ],
      "source": [
        "from google.colab import auth\n",
        "auth.authenticate_user()\n",
        "print('Authenticated')"
      ]
    },
    {
      "cell_type": "markdown",
      "id": "Yg2vHgeGz8KF",
      "metadata": {
        "id": "Yg2vHgeGz8KF"
      },
      "source": [
        "Construct a BigQuery client object using the `client` method of the `bigquery` module.  The project name you use here should match the name of the project you open in the BigQuery environment. You should use in both places the same **non-huji** google user name"
      ]
    },
    {
      "cell_type": "code",
      "execution_count": 9,
      "id": "or07V0Fpz8vk",
      "metadata": {
        "id": "or07V0Fpz8vk"
      },
      "outputs": [],
      "source": [
        "client = bigquery.Client(project=\"big-data-mining-52002-midterm\")"
      ]
    },
    {
      "cell_type": "markdown",
      "id": "XpET35_D0Gcn",
      "metadata": {
        "id": "XpET35_D0Gcn"
      },
      "source": [
        "Make a simple query displaying five columns of your choice from one of the tables of your choice in the two datasetsin order to check the connection. Limit the number of rows in the displayed output to 10"
      ]
    },
    {
      "cell_type": "code",
      "execution_count": 10,
      "id": "PH2IE4kg0IzJ",
      "metadata": {
        "id": "PH2IE4kg0IzJ",
        "outputId": "9bd629fe-208e-401d-e61e-06ac4a2cccbc",
        "colab": {
          "base_uri": "https://localhost:8080/",
          "height": 363
        }
      },
      "outputs": [
        {
          "output_type": "execute_result",
          "data": {
            "text/plain": [
              "   block_id  tree_id  created_at  tree_dbh status\n",
              "0    502982    80548  2015-07-20         0  Stump\n",
              "1    503216   449489  2015-11-12         0  Stump\n",
              "2    503196   449293  2015-11-12         0  Stump\n",
              "3    503188   449153  2015-11-12         0  Stump\n",
              "4    503152   449148  2015-11-12         0  Stump\n",
              "5    503778    68192  2015-07-15         0  Stump\n",
              "6    503349    68347  2015-07-15         0  Stump\n",
              "7    503884    68393  2015-07-15         0  Stump\n",
              "8    503258   324827  2015-10-14         0  Stump\n",
              "9    503263   325180  2015-10-14         0  Stump"
            ],
            "text/html": [
              "\n",
              "  <div id=\"df-f0fee212-45ef-491a-a108-4c139b3e4802\" class=\"colab-df-container\">\n",
              "    <div>\n",
              "<style scoped>\n",
              "    .dataframe tbody tr th:only-of-type {\n",
              "        vertical-align: middle;\n",
              "    }\n",
              "\n",
              "    .dataframe tbody tr th {\n",
              "        vertical-align: top;\n",
              "    }\n",
              "\n",
              "    .dataframe thead th {\n",
              "        text-align: right;\n",
              "    }\n",
              "</style>\n",
              "<table border=\"1\" class=\"dataframe\">\n",
              "  <thead>\n",
              "    <tr style=\"text-align: right;\">\n",
              "      <th></th>\n",
              "      <th>block_id</th>\n",
              "      <th>tree_id</th>\n",
              "      <th>created_at</th>\n",
              "      <th>tree_dbh</th>\n",
              "      <th>status</th>\n",
              "    </tr>\n",
              "  </thead>\n",
              "  <tbody>\n",
              "    <tr>\n",
              "      <th>0</th>\n",
              "      <td>502982</td>\n",
              "      <td>80548</td>\n",
              "      <td>2015-07-20</td>\n",
              "      <td>0</td>\n",
              "      <td>Stump</td>\n",
              "    </tr>\n",
              "    <tr>\n",
              "      <th>1</th>\n",
              "      <td>503216</td>\n",
              "      <td>449489</td>\n",
              "      <td>2015-11-12</td>\n",
              "      <td>0</td>\n",
              "      <td>Stump</td>\n",
              "    </tr>\n",
              "    <tr>\n",
              "      <th>2</th>\n",
              "      <td>503196</td>\n",
              "      <td>449293</td>\n",
              "      <td>2015-11-12</td>\n",
              "      <td>0</td>\n",
              "      <td>Stump</td>\n",
              "    </tr>\n",
              "    <tr>\n",
              "      <th>3</th>\n",
              "      <td>503188</td>\n",
              "      <td>449153</td>\n",
              "      <td>2015-11-12</td>\n",
              "      <td>0</td>\n",
              "      <td>Stump</td>\n",
              "    </tr>\n",
              "    <tr>\n",
              "      <th>4</th>\n",
              "      <td>503152</td>\n",
              "      <td>449148</td>\n",
              "      <td>2015-11-12</td>\n",
              "      <td>0</td>\n",
              "      <td>Stump</td>\n",
              "    </tr>\n",
              "    <tr>\n",
              "      <th>5</th>\n",
              "      <td>503778</td>\n",
              "      <td>68192</td>\n",
              "      <td>2015-07-15</td>\n",
              "      <td>0</td>\n",
              "      <td>Stump</td>\n",
              "    </tr>\n",
              "    <tr>\n",
              "      <th>6</th>\n",
              "      <td>503349</td>\n",
              "      <td>68347</td>\n",
              "      <td>2015-07-15</td>\n",
              "      <td>0</td>\n",
              "      <td>Stump</td>\n",
              "    </tr>\n",
              "    <tr>\n",
              "      <th>7</th>\n",
              "      <td>503884</td>\n",
              "      <td>68393</td>\n",
              "      <td>2015-07-15</td>\n",
              "      <td>0</td>\n",
              "      <td>Stump</td>\n",
              "    </tr>\n",
              "    <tr>\n",
              "      <th>8</th>\n",
              "      <td>503258</td>\n",
              "      <td>324827</td>\n",
              "      <td>2015-10-14</td>\n",
              "      <td>0</td>\n",
              "      <td>Stump</td>\n",
              "    </tr>\n",
              "    <tr>\n",
              "      <th>9</th>\n",
              "      <td>503263</td>\n",
              "      <td>325180</td>\n",
              "      <td>2015-10-14</td>\n",
              "      <td>0</td>\n",
              "      <td>Stump</td>\n",
              "    </tr>\n",
              "  </tbody>\n",
              "</table>\n",
              "</div>\n",
              "    <div class=\"colab-df-buttons\">\n",
              "\n",
              "  <div class=\"colab-df-container\">\n",
              "    <button class=\"colab-df-convert\" onclick=\"convertToInteractive('df-f0fee212-45ef-491a-a108-4c139b3e4802')\"\n",
              "            title=\"Convert this dataframe to an interactive table.\"\n",
              "            style=\"display:none;\">\n",
              "\n",
              "  <svg xmlns=\"http://www.w3.org/2000/svg\" height=\"24px\" viewBox=\"0 -960 960 960\">\n",
              "    <path d=\"M120-120v-720h720v720H120Zm60-500h600v-160H180v160Zm220 220h160v-160H400v160Zm0 220h160v-160H400v160ZM180-400h160v-160H180v160Zm440 0h160v-160H620v160ZM180-180h160v-160H180v160Zm440 0h160v-160H620v160Z\"/>\n",
              "  </svg>\n",
              "    </button>\n",
              "\n",
              "  <style>\n",
              "    .colab-df-container {\n",
              "      display:flex;\n",
              "      gap: 12px;\n",
              "    }\n",
              "\n",
              "    .colab-df-convert {\n",
              "      background-color: #E8F0FE;\n",
              "      border: none;\n",
              "      border-radius: 50%;\n",
              "      cursor: pointer;\n",
              "      display: none;\n",
              "      fill: #1967D2;\n",
              "      height: 32px;\n",
              "      padding: 0 0 0 0;\n",
              "      width: 32px;\n",
              "    }\n",
              "\n",
              "    .colab-df-convert:hover {\n",
              "      background-color: #E2EBFA;\n",
              "      box-shadow: 0px 1px 2px rgba(60, 64, 67, 0.3), 0px 1px 3px 1px rgba(60, 64, 67, 0.15);\n",
              "      fill: #174EA6;\n",
              "    }\n",
              "\n",
              "    .colab-df-buttons div {\n",
              "      margin-bottom: 4px;\n",
              "    }\n",
              "\n",
              "    [theme=dark] .colab-df-convert {\n",
              "      background-color: #3B4455;\n",
              "      fill: #D2E3FC;\n",
              "    }\n",
              "\n",
              "    [theme=dark] .colab-df-convert:hover {\n",
              "      background-color: #434B5C;\n",
              "      box-shadow: 0px 1px 3px 1px rgba(0, 0, 0, 0.15);\n",
              "      filter: drop-shadow(0px 1px 2px rgba(0, 0, 0, 0.3));\n",
              "      fill: #FFFFFF;\n",
              "    }\n",
              "  </style>\n",
              "\n",
              "    <script>\n",
              "      const buttonEl =\n",
              "        document.querySelector('#df-f0fee212-45ef-491a-a108-4c139b3e4802 button.colab-df-convert');\n",
              "      buttonEl.style.display =\n",
              "        google.colab.kernel.accessAllowed ? 'block' : 'none';\n",
              "\n",
              "      async function convertToInteractive(key) {\n",
              "        const element = document.querySelector('#df-f0fee212-45ef-491a-a108-4c139b3e4802');\n",
              "        const dataTable =\n",
              "          await google.colab.kernel.invokeFunction('convertToInteractive',\n",
              "                                                    [key], {});\n",
              "        if (!dataTable) return;\n",
              "\n",
              "        const docLinkHtml = 'Like what you see? Visit the ' +\n",
              "          '<a target=\"_blank\" href=https://colab.research.google.com/notebooks/data_table.ipynb>data table notebook</a>'\n",
              "          + ' to learn more about interactive tables.';\n",
              "        element.innerHTML = '';\n",
              "        dataTable['output_type'] = 'display_data';\n",
              "        await google.colab.output.renderOutput(dataTable, element);\n",
              "        const docLink = document.createElement('div');\n",
              "        docLink.innerHTML = docLinkHtml;\n",
              "        element.appendChild(docLink);\n",
              "      }\n",
              "    </script>\n",
              "  </div>\n",
              "\n",
              "\n",
              "<div id=\"df-9672176f-8b67-4ef0-845e-8bc8f7d39cf3\">\n",
              "  <button class=\"colab-df-quickchart\" onclick=\"quickchart('df-9672176f-8b67-4ef0-845e-8bc8f7d39cf3')\"\n",
              "            title=\"Suggest charts\"\n",
              "            style=\"display:none;\">\n",
              "\n",
              "<svg xmlns=\"http://www.w3.org/2000/svg\" height=\"24px\"viewBox=\"0 0 24 24\"\n",
              "     width=\"24px\">\n",
              "    <g>\n",
              "        <path d=\"M19 3H5c-1.1 0-2 .9-2 2v14c0 1.1.9 2 2 2h14c1.1 0 2-.9 2-2V5c0-1.1-.9-2-2-2zM9 17H7v-7h2v7zm4 0h-2V7h2v10zm4 0h-2v-4h2v4z\"/>\n",
              "    </g>\n",
              "</svg>\n",
              "  </button>\n",
              "\n",
              "<style>\n",
              "  .colab-df-quickchart {\n",
              "      --bg-color: #E8F0FE;\n",
              "      --fill-color: #1967D2;\n",
              "      --hover-bg-color: #E2EBFA;\n",
              "      --hover-fill-color: #174EA6;\n",
              "      --disabled-fill-color: #AAA;\n",
              "      --disabled-bg-color: #DDD;\n",
              "  }\n",
              "\n",
              "  [theme=dark] .colab-df-quickchart {\n",
              "      --bg-color: #3B4455;\n",
              "      --fill-color: #D2E3FC;\n",
              "      --hover-bg-color: #434B5C;\n",
              "      --hover-fill-color: #FFFFFF;\n",
              "      --disabled-bg-color: #3B4455;\n",
              "      --disabled-fill-color: #666;\n",
              "  }\n",
              "\n",
              "  .colab-df-quickchart {\n",
              "    background-color: var(--bg-color);\n",
              "    border: none;\n",
              "    border-radius: 50%;\n",
              "    cursor: pointer;\n",
              "    display: none;\n",
              "    fill: var(--fill-color);\n",
              "    height: 32px;\n",
              "    padding: 0;\n",
              "    width: 32px;\n",
              "  }\n",
              "\n",
              "  .colab-df-quickchart:hover {\n",
              "    background-color: var(--hover-bg-color);\n",
              "    box-shadow: 0 1px 2px rgba(60, 64, 67, 0.3), 0 1px 3px 1px rgba(60, 64, 67, 0.15);\n",
              "    fill: var(--button-hover-fill-color);\n",
              "  }\n",
              "\n",
              "  .colab-df-quickchart-complete:disabled,\n",
              "  .colab-df-quickchart-complete:disabled:hover {\n",
              "    background-color: var(--disabled-bg-color);\n",
              "    fill: var(--disabled-fill-color);\n",
              "    box-shadow: none;\n",
              "  }\n",
              "\n",
              "  .colab-df-spinner {\n",
              "    border: 2px solid var(--fill-color);\n",
              "    border-color: transparent;\n",
              "    border-bottom-color: var(--fill-color);\n",
              "    animation:\n",
              "      spin 1s steps(1) infinite;\n",
              "  }\n",
              "\n",
              "  @keyframes spin {\n",
              "    0% {\n",
              "      border-color: transparent;\n",
              "      border-bottom-color: var(--fill-color);\n",
              "      border-left-color: var(--fill-color);\n",
              "    }\n",
              "    20% {\n",
              "      border-color: transparent;\n",
              "      border-left-color: var(--fill-color);\n",
              "      border-top-color: var(--fill-color);\n",
              "    }\n",
              "    30% {\n",
              "      border-color: transparent;\n",
              "      border-left-color: var(--fill-color);\n",
              "      border-top-color: var(--fill-color);\n",
              "      border-right-color: var(--fill-color);\n",
              "    }\n",
              "    40% {\n",
              "      border-color: transparent;\n",
              "      border-right-color: var(--fill-color);\n",
              "      border-top-color: var(--fill-color);\n",
              "    }\n",
              "    60% {\n",
              "      border-color: transparent;\n",
              "      border-right-color: var(--fill-color);\n",
              "    }\n",
              "    80% {\n",
              "      border-color: transparent;\n",
              "      border-right-color: var(--fill-color);\n",
              "      border-bottom-color: var(--fill-color);\n",
              "    }\n",
              "    90% {\n",
              "      border-color: transparent;\n",
              "      border-bottom-color: var(--fill-color);\n",
              "    }\n",
              "  }\n",
              "</style>\n",
              "\n",
              "  <script>\n",
              "    async function quickchart(key) {\n",
              "      const quickchartButtonEl =\n",
              "        document.querySelector('#' + key + ' button');\n",
              "      quickchartButtonEl.disabled = true;  // To prevent multiple clicks.\n",
              "      quickchartButtonEl.classList.add('colab-df-spinner');\n",
              "      try {\n",
              "        const charts = await google.colab.kernel.invokeFunction(\n",
              "            'suggestCharts', [key], {});\n",
              "      } catch (error) {\n",
              "        console.error('Error during call to suggestCharts:', error);\n",
              "      }\n",
              "      quickchartButtonEl.classList.remove('colab-df-spinner');\n",
              "      quickchartButtonEl.classList.add('colab-df-quickchart-complete');\n",
              "    }\n",
              "    (() => {\n",
              "      let quickchartButtonEl =\n",
              "        document.querySelector('#df-9672176f-8b67-4ef0-845e-8bc8f7d39cf3 button');\n",
              "      quickchartButtonEl.style.display =\n",
              "        google.colab.kernel.accessAllowed ? 'block' : 'none';\n",
              "    })();\n",
              "  </script>\n",
              "</div>\n",
              "\n",
              "    </div>\n",
              "  </div>\n"
            ],
            "application/vnd.google.colaboratory.intrinsic+json": {
              "type": "dataframe",
              "variable_name": "results",
              "summary": "{\n  \"name\": \"results\",\n  \"rows\": 10,\n  \"fields\": [\n    {\n      \"column\": \"block_id\",\n      \"properties\": {\n        \"dtype\": \"Int64\",\n        \"num_unique_values\": 10,\n        \"samples\": [\n          503258,\n          503216,\n          503778\n        ],\n        \"semantic_type\": \"\",\n        \"description\": \"\"\n      }\n    },\n    {\n      \"column\": \"tree_id\",\n      \"properties\": {\n        \"dtype\": \"Int64\",\n        \"num_unique_values\": 10,\n        \"samples\": [\n          324827,\n          449489,\n          68192\n        ],\n        \"semantic_type\": \"\",\n        \"description\": \"\"\n      }\n    },\n    {\n      \"column\": \"created_at\",\n      \"properties\": {\n        \"dtype\": \"dbdate\",\n        \"num_unique_values\": 4,\n        \"samples\": [\n          \"2015-11-12\",\n          \"2015-10-14\",\n          \"2015-07-20\"\n        ],\n        \"semantic_type\": \"\",\n        \"description\": \"\"\n      }\n    },\n    {\n      \"column\": \"tree_dbh\",\n      \"properties\": {\n        \"dtype\": \"Int64\",\n        \"num_unique_values\": 1,\n        \"samples\": [\n          0\n        ],\n        \"semantic_type\": \"\",\n        \"description\": \"\"\n      }\n    },\n    {\n      \"column\": \"status\",\n      \"properties\": {\n        \"dtype\": \"category\",\n        \"num_unique_values\": 1,\n        \"samples\": [\n          \"Stump\"\n        ],\n        \"semantic_type\": \"\",\n        \"description\": \"\"\n      }\n    }\n  ]\n}"
            }
          },
          "metadata": {},
          "execution_count": 10
        }
      ],
      "source": [
        "my_query = \"\"\"\n",
        "SELECT block_id, tree_id, created_at, tree_dbh, status\n",
        "FROM `bigquery-public-data.new_york_trees.tree_census_2015`\n",
        "LIMIT 10\n",
        "\"\"\"\n",
        "\n",
        "# Execute the query\n",
        "query_job = client.query(my_query)  # Make an API request\n",
        "results = query_job.result().to_dataframe()  # Convert results to a pandas DataFrame\n",
        "\n",
        "# Display the output\n",
        "results.head(10)"
      ]
    },
    {
      "cell_type": "markdown",
      "id": "CO-p0SuE-Z_x",
      "metadata": {
        "id": "CO-p0SuE-Z_x"
      },
      "source": [
        "#### Q1 Explanations\n",
        "The query was executed to test the connection to the BigQuery environment and validate access to the public dataset `new_york_trees.tree_census_2015`. It retrieves five columns:\n",
        "- **block_id**: Identifies the block where the tree is located.\n",
        "- **tree_id**: A unique identifier for each tree in the census.\n",
        "- **created_at**: The timestamp when the record was created.\n",
        "- **tree_dbh**: The diameter at breast height (DBH) of the tree, an indicator of its size.\n",
        "- **status**: The status of the tree (e.g., \"Alive\", \"Dead\", \"Stump\").\n",
        "\n",
        "The query limits the result to 10 rows for simplicity, ensuring minimal resource usage during this validation step.\n",
        "\n",
        "### Results:\n",
        "The output is a table containing sample rows from the dataset with the selected columns. This confirms:\n",
        "1. The connection to BigQuery was successfully established.\n",
        "2. The dataset is accessible, and data can be queried.\n"
      ]
    },
    {
      "cell_type": "markdown",
      "id": "5d3fc0bf-b611-40d4-92dd-020df6ec41c9",
      "metadata": {
        "id": "5d3fc0bf-b611-40d4-92dd-020df6ec41c9"
      },
      "source": [
        "### Q2: Exploratory Data Analysis\n",
        "**Remark:** unless specified otherwise, refer to the following dataset when considering data for trees:\n",
        "`'bigquery-public-data.new_york_trees.tree_census_2015'`\n",
        "\n",
        "2a. How many trees were there in New York in 2015, and how many of these were healthy (whose health status is not `Poor` or `null`)?\n",
        "\n",
        "2b. What are the ten most common tree species in New York?  Run a query that returns a table with the number of trees for each species, the number of healthy trees and the percentage of healthy trees within each species (relative to the total trees of that species).\n",
        "Display the output table with these details only for the ten species with the highest overall counts.\n",
        "\n",
        "2c. Analyze the status distribution of New York City's trees by examining each ZIP code area. Your analysis should reveal the total number of trees per ZIP code along with the percentage of trees in each of the health status categories within each ZIP code. Exclude records with missing data (`zipcode` or `status`) . Show a table with the results for the five ZIP codes with the highest number of total trees.\n",
        "\n",
        "\n"
      ]
    },
    {
      "cell_type": "markdown",
      "id": "b2808d85-5f31-485b-9b40-0c2ac68c9aa8",
      "metadata": {
        "id": "b2808d85-5f31-485b-9b40-0c2ac68c9aa8"
      },
      "source": [
        "**Answer:**"
      ]
    },
    {
      "cell_type": "markdown",
      "source": [
        "#### Q2a"
      ],
      "metadata": {
        "id": "f3M729G9nTLe"
      },
      "id": "f3M729G9nTLe"
    },
    {
      "cell_type": "code",
      "execution_count": 11,
      "id": "ca2f7f4e-fdfc-4a8f-bc50-57e0932085cc",
      "metadata": {
        "id": "ca2f7f4e-fdfc-4a8f-bc50-57e0932085cc"
      },
      "outputs": [],
      "source": [
        "# 2a)\n",
        "# Fill query here inside triple quotes:\n",
        "query2a = \"\"\"\n",
        "SELECT FROM WHERE ...\n",
        "\"\"\"\n",
        "\n",
        "# query_job2a = client.query(query2a)  # Make an API request.\n",
        "\n",
        "# Output and print\n",
        "# df2a = pd.DataFrame(query_job2a.result().to_dataframe())\n",
        "# df2a.head()\n",
        "\n",
        "# You may make additional queries and display their results here"
      ]
    },
    {
      "cell_type": "markdown",
      "id": "FNZxz2bzNw_M",
      "metadata": {
        "id": "FNZxz2bzNw_M"
      },
      "source": [
        "##### Q2a Explanations"
      ]
    },
    {
      "cell_type": "markdown",
      "source": [
        "#### Q2b"
      ],
      "metadata": {
        "id": "hu9OmdKBnc41"
      },
      "id": "hu9OmdKBnc41"
    },
    {
      "cell_type": "code",
      "execution_count": 12,
      "id": "YB1Q-oRNAKle",
      "metadata": {
        "id": "YB1Q-oRNAKle"
      },
      "outputs": [],
      "source": [
        "# 2b)\n",
        "# Fill query here inside triple quotes and display results:\n"
      ]
    },
    {
      "cell_type": "markdown",
      "id": "f6jfNQTasOpQ",
      "metadata": {
        "id": "f6jfNQTasOpQ"
      },
      "source": [
        "##### Q2b Explanations"
      ]
    },
    {
      "cell_type": "markdown",
      "source": [
        "#### Q2c"
      ],
      "metadata": {
        "id": "APJxXVSeneb8"
      },
      "id": "APJxXVSeneb8"
    },
    {
      "cell_type": "code",
      "execution_count": 13,
      "id": "hRfcs2LRsNvS",
      "metadata": {
        "id": "hRfcs2LRsNvS"
      },
      "outputs": [],
      "source": [
        "# 2c)\n",
        "# Your answer code with queries here:\n"
      ]
    },
    {
      "cell_type": "markdown",
      "id": "h4rtQxxx5PRo",
      "metadata": {
        "id": "h4rtQxxx5PRo"
      },
      "source": [
        "##### Q2c Explanations"
      ]
    },
    {
      "cell_type": "markdown",
      "id": "4e385915-367b-44dd-a3a8-beb143ad3f7d",
      "metadata": {
        "id": "4e385915-367b-44dd-a3a8-beb143ad3f7d"
      },
      "source": [
        "### Q3: Changes Over Time\n",
        "**3a.** Write a query that extracts for each tree species the change in the the number of trees in New York State from 1995 to 2015, using the dataset `'bigquery-public-data.new_york_trees.tree_census_1995'` in addition to `'bigquery-public-data.new_york_trees.tree_census_2015'`. Sort the resulting list by the absolute value of the change in the number of trees, and display the five species with the highest absolute change in the number of trees. Show the number of trees in 1995, in 2015 and the change for these species. Since the names sometimes differ between the years, use the uppercase version of `spc_latin` for each year. Then, merge the data using a `CROSS JOIN`, with the condition that the [`EDIT_DISTANCE`](https://cloud.google.com/bigquery/docs/reference/standard-sql/string_functions#edit_distance) between the names is less than or equal to 2.\n",
        "\n",
        "**3b.** Compare the percentage trees of each fall foliage color for the years 1995 and 2015 separately using the `bigquery-public-data.new_york_trees.tree_species` dataset. If a tree species is not found in the dataset, assume its foliage color is \"Unknown.\" Output a table showing for each fall foilage color the percent of trees in 1995, the percent of trees in 2015 and their difference, sorted by the aboslute value of the difference.\n",
        "Use the same criteria for `CROSS JOIN` as in 3a. ('EDIT_DISTANCE' at most 2 for the uppercase names).\n",
        "\n",
        "*Remark:* Consider each combination of colors (e.g. `Red/Bronze`) as a color of its own (different from the colors `Red` or `Bronze` in this example).\n"
      ]
    },
    {
      "cell_type": "markdown",
      "id": "bf834826-10d3-47a8-835f-c914eb4e4b68",
      "metadata": {
        "id": "bf834826-10d3-47a8-835f-c914eb4e4b68"
      },
      "source": [
        "**Answer:**"
      ]
    },
    {
      "cell_type": "markdown",
      "source": [
        "#### Q3a"
      ],
      "metadata": {
        "id": "dsY3vJ17n650"
      },
      "id": "dsY3vJ17n650"
    },
    {
      "cell_type": "code",
      "execution_count": 14,
      "id": "2976e53c-91b4-4ace-ac0a-1684cda8cddd",
      "metadata": {
        "id": "2976e53c-91b4-4ace-ac0a-1684cda8cddd"
      },
      "outputs": [],
      "source": [
        "# 3a)\n",
        "# Your answer here:\n"
      ]
    },
    {
      "cell_type": "markdown",
      "id": "UdoaqrSeNz7M",
      "metadata": {
        "id": "UdoaqrSeNz7M"
      },
      "source": [
        "##### Q3a Explanations"
      ]
    },
    {
      "cell_type": "markdown",
      "source": [
        "#### Q3b"
      ],
      "metadata": {
        "id": "rfsd0SBdoAf-"
      },
      "id": "rfsd0SBdoAf-"
    },
    {
      "cell_type": "code",
      "execution_count": 15,
      "id": "j9TR8gwSNuLF",
      "metadata": {
        "id": "j9TR8gwSNuLF"
      },
      "outputs": [],
      "source": [
        "# 3b)\n",
        "# Your answer here:\n"
      ]
    },
    {
      "cell_type": "markdown",
      "id": "npkm_MD5N2dJ",
      "metadata": {
        "id": "npkm_MD5N2dJ"
      },
      "source": [
        "##### Q3b Explanations"
      ]
    },
    {
      "cell_type": "markdown",
      "id": "YjDeurmON5TR",
      "metadata": {
        "id": "YjDeurmON5TR"
      },
      "source": [
        "### Q4: Broken Windows Theory\n",
        "**4a.** The [Broken Windows Theory](https://en.wikipedia.org/wiki/Broken_windows_theory) suggests that poor condition of city areas may affect crime levels. In this section, we’ll look for a correlation between the proportion of dead trees (relative to total trees) and the number of `NYPD` service requests in different zip codes.\n",
        "\n",
        "Before calculating the correlation, run a query showing the different categories of the service requests to the `NYPD` and their counts (number of requests for each category) and explain whether they can be used as an imperfect measure of crime trends.\n",
        "\n",
        "Next, extract the proportion of dead trees in 2015\n",
        "for each zip code that is not `null` and has at least 100 trees, and the number of `NYPD` servise request excluding `Noise` normalized by the total number of requests in each of these zip codes for that year using SQL commands within python.\n",
        "Next, extract the results as a python object (e.g. a pandas data-frame), display a scatter-plot showing the percent of dead trees and the number of service requests across the zip codes and compute their Pearson correlation.\n",
        "\n",
        "\n",
        "Analyze the results to determine if they support the hypothesis. If they do, provide an explanation; if they don't, propose a confounding variable that might lead to inaccuracies.\n",
        "\n",
        "**Hint:** Consider using `Having` in your query"
      ]
    },
    {
      "cell_type": "code",
      "execution_count": 16,
      "id": "CurIBhd3O0YV",
      "metadata": {
        "id": "CurIBhd3O0YV"
      },
      "outputs": [],
      "source": [
        "# 4a)\n",
        "# Your answer here:\n"
      ]
    },
    {
      "cell_type": "markdown",
      "id": "gOtBn9149GQF",
      "metadata": {
        "id": "gOtBn9149GQF"
      },
      "source": [
        "Explanation here"
      ]
    },
    {
      "cell_type": "code",
      "execution_count": 17,
      "id": "sk7jhLYHCIXs",
      "metadata": {
        "id": "sk7jhLYHCIXs"
      },
      "outputs": [],
      "source": [
        "# 4b)\n",
        "# Your answer here:"
      ]
    },
    {
      "cell_type": "markdown",
      "id": "1W4fRkOk-vOr",
      "metadata": {
        "id": "1W4fRkOk-vOr"
      },
      "source": [
        "Explanation here"
      ]
    },
    {
      "cell_type": "markdown",
      "id": "rbYLXPtPtROV",
      "metadata": {
        "id": "rbYLXPtPtROV"
      },
      "source": [
        "### Q5: Tree-Related Complaints  \n",
        "**5.a** Use the 311 dataset to count how many tree-related complaints each agency (for example `NYPD` or other agencies) received. Tree-related complaints are those that include the word `\"Tree\"` in the `complaint_type` field (case sensitive).\n",
        "\n",
        "**5.b** Filter the tree-related complaints to include only such complaints to the agency with the highest number of tree-related complaints you have found in (a.). Find the three most common types of these tree-related complains and display them in a table with their counts.\n",
        "Finally, create a bar chart that shows the number of the tree-related complaints of these three types for each year, where each bar is divided into three sub-bars of different colors, each indicating the tree-related complaint of each type in this year.\n",
        "\n",
        "**Hint:** consider using a window function and the pivot function in Python to simplify the plot."
      ]
    },
    {
      "cell_type": "code",
      "execution_count": 18,
      "id": "kNofek1DxGn1",
      "metadata": {
        "id": "kNofek1DxGn1"
      },
      "outputs": [],
      "source": [
        "# 5a)\n",
        "# Your answer here:\n"
      ]
    },
    {
      "cell_type": "markdown",
      "id": "d2PL4G3o-wk3",
      "metadata": {
        "id": "d2PL4G3o-wk3"
      },
      "source": [
        "Explanation here"
      ]
    },
    {
      "cell_type": "code",
      "execution_count": 19,
      "id": "dVy3v62Isdq-",
      "metadata": {
        "id": "dVy3v62Isdq-"
      },
      "outputs": [],
      "source": [
        "# # 5b)\n",
        "# Your answer here:\n"
      ]
    },
    {
      "cell_type": "markdown",
      "id": "Lm_2bosp-xJv",
      "metadata": {
        "id": "Lm_2bosp-xJv"
      },
      "source": [
        "Explanation here"
      ]
    },
    {
      "cell_type": "markdown",
      "id": "-JLTtQ7KGSsI",
      "metadata": {
        "id": "-JLTtQ7KGSsI"
      },
      "source": [
        "# Unix  - 32 points\n",
        "There are 5 questions in this part. Every question is worth 6 points except question 5 that is worth 8 points. You should solve all the questions using unix commands and include them in your answer, together with additional code/analysis required and the requested results."
      ]
    },
    {
      "cell_type": "markdown",
      "id": "EPHyPaqyHt1z",
      "metadata": {
        "id": "EPHyPaqyHt1z"
      },
      "source": [
        "## Q1: Simple Counting\n",
        " Copy the `review-Oregon.json.gz` file from the moriah cluster, located at\n",
        " the path `/sci/labs/orzuk/orzuk/teaching/big_data_mining_52002/midterm_2024_25` or at `/sci/home/orzuk`.\n",
        " You may work at the moriah cluster (recommended) or your personal computer.\n",
        "Extract the file's content, and use the `wc` command to display the number of lines,words, and characters in the `review-Oregon.json` file. Print the first line of the file and briefly explain what the data represents.  \n"
      ]
    },
    {
      "cell_type": "markdown",
      "id": "PmhRD0ttIID8",
      "metadata": {
        "id": "PmhRD0ttIID8"
      },
      "source": [
        "**Solutions:**\n",
        "\n",
        "**Add Question 1 Shell Commands here:**\n",
        "```\n",
        "[commands to add]\n",
        "```\n",
        "\n",
        "**Add Question 1 Shell Output here:**\n",
        "```\n",
        "[copy output to here]\n",
        "```\n",
        "\n",
        "\n",
        "**Explanation:**\n",
        "\n",
        "\n",
        "[Explain your solution here]\n",
        "\n"
      ]
    },
    {
      "cell_type": "markdown",
      "id": "w2uUdkSvHwxQ",
      "metadata": {
        "id": "w2uUdkSvHwxQ"
      },
      "source": [
        "## Q2: Food and Images\n",
        "Count the number of comments that include the word `\"food\"` (**not** case sensative). Out of those comments, determine how many included at least one image.\n",
        "\n",
        "Next, perform the same query for the rest of the comments (that don't contain the word \"food\") and compare the proportions of comments with an image in the two categories. Is the difference in proportions statistically significant?\n",
        "\n",
        "Describe a statistical test and test statistic and display the results. For the last calculation of the `test statistic` and `p-value` manual computation is allowed, but all previous steps should be implemented in unix commands. Explain the Unix command you wrote in simple language.\n",
        "\n",
        "**Solutions:**\n",
        "\n",
        "**Add Question 2 Shell Commands here:**\n",
        "```\n",
        "[commands to add]\n",
        "```\n",
        "\n",
        "**Add Question 2 Shell Output here:**\n",
        "```\n",
        "[copy output to here]\n",
        "```\n",
        "\n",
        "**Add Question 2 Statistical analysis here:**\n",
        "\n",
        "\n",
        "**Explanation:**\n",
        "\n",
        "\n",
        "[Explain your solution here]\n",
        "\n",
        "\n"
      ]
    },
    {
      "cell_type": "markdown",
      "id": "edXz-xv0Hzit",
      "metadata": {
        "id": "edXz-xv0Hzit"
      },
      "source": [
        "## Q3: Top Users\n",
        "From the people who mentioned `\"food\"` (**not** case sensative) in their comments, find the three users with the highest number of comments about `food` and display their user-ids together with the number of such comments for each one.\n",
        "\n",
        "\n",
        "\n"
      ]
    },
    {
      "cell_type": "markdown",
      "id": "YejuijfxI9Zl",
      "metadata": {
        "id": "YejuijfxI9Zl"
      },
      "source": [
        "**Solutions:**\n",
        "\n",
        "**Add Question 3 Shell Commands here:**\n",
        "```\n",
        "[commands to add]\n",
        "```\n",
        "\n",
        "**Add Question 3 Shell Output here:**\n",
        "```\n",
        "[copy output to here]\n",
        "```\n",
        "\n",
        "\n",
        "**Explanation:**\n",
        "\n",
        "\n",
        "[Explain your solution here]\n",
        "\n"
      ]
    },
    {
      "cell_type": "markdown",
      "id": "lRXMOhkmH3rx",
      "metadata": {
        "id": "lRXMOhkmH3rx"
      },
      "source": [
        "## Q4: Splitting\n",
        "Split the `review-Oregon.json` file into different files based on the `rating` value. Name each file as `reviews_rating_i`, where `i` represents the rating value, and count the number of comments in each of these files.  \n"
      ]
    },
    {
      "cell_type": "markdown",
      "id": "Tu2K9_99Xi4J",
      "metadata": {
        "id": "Tu2K9_99Xi4J"
      },
      "source": [
        "**Solutions:**\n",
        "\n",
        "**Add Question 4 Shell Commands here:**\n",
        "```\n",
        "[commands to add]\n",
        "```\n",
        "\n",
        "**Add Question 4 Shell Output here:**\n",
        "```\n",
        "[copy output to here]\n",
        "```\n",
        "\n",
        "\n",
        "**Explanation:**\n",
        "\n",
        "\n",
        "[Explain your solution here]\n",
        "\n"
      ]
    },
    {
      "cell_type": "markdown",
      "id": "aEE0dOB6H6N7",
      "metadata": {
        "id": "aEE0dOB6H6N7"
      },
      "source": [
        "##Q5: Count Frequent Words\n",
        " Write a Python program (.py format) that takes a file name (as a string) and a natural number `k` as input. The program should read the file, extract the words from the reviews, split them into individual words, and print the top `k` most frequent words. Remove any stop words (common words) before computing the frequencies.  \n",
        "\n",
        " Next, run a shell script that runs the Python program you wrote on all the different rating files created earlier in Qu. 4 and print the top 5 most frequent words for each rating.  \n",
        "\n"
      ]
    },
    {
      "cell_type": "code",
      "execution_count": 20,
      "id": "bMYXuvBT7NuS",
      "metadata": {
        "id": "bMYXuvBT7NuS"
      },
      "outputs": [],
      "source": [
        "# Copy code of python program here"
      ]
    },
    {
      "cell_type": "markdown",
      "id": "s_xqX98fXxML",
      "metadata": {
        "id": "s_xqX98fXxML"
      },
      "source": [
        "**Solutions:**\n",
        "\n",
        "**Add Question 5 Shell Commands here:**\n",
        "```\n",
        "[commands to add]\n",
        "```\n",
        "\n",
        "**Add Question 5 Shell Output here:**\n",
        "```\n",
        "[copy output to here]\n",
        "```\n",
        "\n",
        "\n",
        "**Explanation:**\n",
        "\n",
        "\n",
        "[Explain your solution here]\n",
        "\n",
        "\n"
      ]
    },
    {
      "cell_type": "markdown",
      "id": "wgMLZFaFnP2g",
      "metadata": {
        "id": "wgMLZFaFnP2g"
      },
      "source": [
        "# Networks - 28 points\n",
        "There are 4 questions in this part. Every question is worth 7 points"
      ]
    },
    {
      "cell_type": "code",
      "execution_count": 21,
      "id": "CMyl4Y4sFu60",
      "metadata": {
        "id": "CMyl4Y4sFu60"
      },
      "outputs": [],
      "source": [
        "import pandas as pd\n",
        "import networkx as nx\n",
        "import matplotlib.pyplot as plt\n",
        "import numpy as np\n",
        "from geopy.distance import geodesic\n",
        "import random\n",
        "from scipy.sparse import csr_matrix\n",
        "import time\n",
        "import copy\n"
      ]
    },
    {
      "cell_type": "markdown",
      "id": "l0Lwtv82MlWd",
      "metadata": {
        "id": "l0Lwtv82MlWd"
      },
      "source": [
        "## Q1: Exploratory Data Analysis"
      ]
    },
    {
      "cell_type": "markdown",
      "id": "pSe2zDpdnQ0o",
      "metadata": {
        "id": "pSe2zDpdnQ0o"
      },
      "source": [
        "*Download* the `web-sk-2005` network dataset available here:\n",
        "https://networkrepository.com/web.php.  \n",
        "Unzip the file and read it to python (*Note:* this can take a few minutes to upload)\n",
        "\n",
        "Display the first five rows of the dataset and explain what is shown and what the data represents.\n",
        "Count the number of nodes and edges and display them to verify that your file is correct.\n",
        "\n",
        "Finally, show two separate histograms, one for the distribution of in-degrees in the network, and one for the distribution of out-degrees. Descrbine your results."
      ]
    },
    {
      "cell_type": "code",
      "execution_count": 22,
      "id": "EAGrjdMmbeB1",
      "metadata": {
        "id": "EAGrjdMmbeB1"
      },
      "outputs": [],
      "source": [
        "from google.colab import files\n",
        "\n",
        "# Upload the dataset file here\n",
        "# uploaded = files.upload()"
      ]
    },
    {
      "cell_type": "code",
      "execution_count": 23,
      "id": "i2P53q4NMtzJ",
      "metadata": {
        "id": "i2P53q4NMtzJ"
      },
      "outputs": [],
      "source": [
        "def load_network_data(file_name):\n",
        "    \"\"\"\n",
        "    Write a function that loads the graph data\n",
        "    \"\"\"\n",
        "\n",
        "# Load Filepath to the web-network dataset\n",
        "graph = load_network_data(\"web-sk-2005.mtx\")\n",
        "\n",
        "# Display number of nodes and edges, and first 10 lines\n",
        "\n",
        "# Comptue and plot degree distributions"
      ]
    },
    {
      "cell_type": "markdown",
      "id": "JbraxICSAL4Y",
      "metadata": {
        "id": "JbraxICSAL4Y"
      },
      "source": [
        "[Explanation of results here]"
      ]
    },
    {
      "cell_type": "markdown",
      "id": "RW1u6ZryTnM6",
      "metadata": {
        "id": "RW1u6ZryTnM6"
      },
      "source": [
        "## Q2: Page Rank Analysis\n",
        "Run the PageRank algorithm with $\\beta=0.9$ (i.e. teleport probability of $0.1$) and with tolerance of $\\epsilon = 10^{-6}$. Plot the tolerance at each iteraction. Record the number of iterations needed for convergence.\n",
        "\n",
        "Plot the *in-degree* vs. PageRank of each node in a scatter plot. Next, plot the *out-degree* vs. PageRank of each node in a separate scatter-plot. Compute in each plot the correlation coefficient. Which one of them is more correlated to PageRank? are the results surprising? explain\n"
      ]
    },
    {
      "cell_type": "markdown",
      "id": "0tCRKrdhhEkC",
      "metadata": {
        "id": "0tCRKrdhhEkC"
      },
      "source": [
        "Explain in words -\n"
      ]
    },
    {
      "cell_type": "code",
      "execution_count": 24,
      "id": "TmPibyoqFxMJ",
      "metadata": {
        "id": "TmPibyoqFxMJ"
      },
      "outputs": [],
      "source": [
        "\n",
        "# Code for computing pagerank here\n",
        "\n",
        "\n",
        "# Display nodes with top pagerank score , with node ids\n",
        "\n"
      ]
    },
    {
      "cell_type": "markdown",
      "id": "HjHw5EHTn41K",
      "metadata": {
        "id": "HjHw5EHTn41K"
      },
      "source": [
        "[Explanation of results here]"
      ]
    },
    {
      "cell_type": "code",
      "execution_count": 25,
      "id": "oqi_oHR2p-Dy",
      "metadata": {
        "id": "oqi_oHR2p-Dy"
      },
      "outputs": [],
      "source": [
        "# Plot degrees histograms and degrees vs. pagerank scatter plots here\n",
        "\n"
      ]
    },
    {
      "cell_type": "markdown",
      "id": "8_Q46wvV46nw",
      "metadata": {
        "id": "8_Q46wvV46nw"
      },
      "source": [
        "[Explanation of results here]\n"
      ]
    },
    {
      "cell_type": "markdown",
      "id": "jFUofGrUaBaz",
      "metadata": {
        "id": "jFUofGrUaBaz"
      },
      "source": [
        "## Q3: PageRank Analysis of Spammers\n",
        "\n",
        "Suppose that a spammer wants to inflater the PageRank of some pages. Choose random 100 pages and add edges between every pair of them (in both directions). Comptue the resulting PageRank for the new network. Next make two scatter plots:\n",
        "(i.) The page-rank of each page before and after the change to the network by the spammers\n",
        "(ii.) The in-degree vs. the pagerank after the change to the network by the spammer\n",
        "\n",
        "Explain the changes observed after spamming.\n",
        "\n",
        "Finally, repeat all steps above (adding spam edges, computing modified page-rank, plotting and explaining the results) for a different spammer strategy: choosing two distinct random sets of 100 nodes, and adding all possible links form the first set to the second set.\n",
        "Which spamming strategy is more effective?\n",
        "\n",
        "*Note:* Highlight in different colors the different sets of nodes in your scatter plots"
      ]
    },
    {
      "cell_type": "code",
      "execution_count": 26,
      "id": "qGkiLLhtazLd",
      "metadata": {
        "id": "qGkiLLhtazLd"
      },
      "outputs": [],
      "source": [
        "# Code for adding edges here"
      ]
    },
    {
      "cell_type": "markdown",
      "id": "7YJ5PzDa5OIa",
      "metadata": {
        "id": "7YJ5PzDa5OIa"
      },
      "source": [
        "[Explanation  here]"
      ]
    },
    {
      "cell_type": "code",
      "execution_count": 27,
      "id": "exReS8t-d4T5",
      "metadata": {
        "id": "exReS8t-d4T5"
      },
      "outputs": [],
      "source": [
        "# Code for computing and displaying updated pagerank and degrees here"
      ]
    },
    {
      "cell_type": "markdown",
      "id": "1FGQ9IeeB7K4",
      "metadata": {
        "id": "1FGQ9IeeB7K4"
      },
      "source": [
        "[Explanation of results here]\n",
        "\n",
        "\n",
        "\n",
        "\n",
        "\n",
        "\n"
      ]
    },
    {
      "cell_type": "markdown",
      "id": "xOi47Rn9UGhP",
      "metadata": {
        "id": "xOi47Rn9UGhP"
      },
      "source": [
        "## Q4: PageRank Computational Complexity\n",
        "\n",
        "Suppose that $A$ is an $n \\times n$ matrix with distinct real eigenvalues and we implement the power method to find the leading eigenvector of $A$.\n",
        "\n",
        "- What is the computational complexity of each iteration of the Power method as a function of $n$ for a general (dense) matrix $A$ as a function of $n$ (use Big-O notation)?\n",
        "\n",
        "- Suppose that we know that $A = B+C$ where $B$ is a sparse matrix with $s$ non-zero values, and $C$ is a low-rank matrix with $rank(C)=k$. Write the algorithm of the Power method using $C$ and $B$ as input and utilizing their structure. What is the computational complexity as a function of $n$, $k$ and $s$? (use Big-O notation). You should represent $B$ and $C$ in a way that will minimize memory usage and computations.\n",
        "\n",
        "- Suppose that we know that the convergence rate of the Power method is quadratic. That is, after $t$ iterations the $L_2$ distance between the pagerank vector $r^t$ computed after $t$ iterations and the true pagerank vector $r$ satisfies $||r^t - r||_2 \\leq \\frac{a}{t^2}$ for some constant $a > 0$. \\\\\n",
        "We run the algorithm until reaching tolearance $\\epsilon$ , i.e. our algorithm should return a vector $r'$ such that $||r'-r||_2 \\leq \\epsilon$. What will be the computational complexity of the entire algorithm for the above two cases as a function of $n,k,s$ and $\\epsilon$? (you may assume that the constant $a$ is known)."
      ]
    },
    {
      "cell_type": "markdown",
      "id": "pPeQO3en5dNC",
      "metadata": {
        "id": "pPeQO3en5dNC"
      },
      "source": [
        "[Solution text with Explanations of Computational Complexity of the different algorithms here]"
      ]
    }
  ],
  "metadata": {
    "colab": {
      "provenance": [],
      "toc_visible": true,
      "include_colab_link": true
    },
    "kernelspec": {
      "display_name": "Python 3",
      "name": "python3"
    },
    "language_info": {
      "name": "python"
    }
  },
  "nbformat": 4,
  "nbformat_minor": 5
}