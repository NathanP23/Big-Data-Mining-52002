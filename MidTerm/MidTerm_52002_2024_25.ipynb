{
  "cells": [
    {
      "cell_type": "markdown",
      "id": "c71a501a-e69f-4db7-871f-905e9861fe4a",
      "metadata": {
        "id": "c71a501a-e69f-4db7-871f-905e9861fe4a"
      },
      "source": [
        "# Midterm 52002 - 2024-2025\n",
        "\n",
        "**General instructions:** The mid-term should be done in pairs. Submit your solutions in the course by uploading the solution files to the course Moodle page by 10.1.2025\n",
        "\n",
        "**.ipynb solution file:** Fill-in the missing code blocks (for parts 1 and 3)and text blocks (for all three parts) in this ipynb notebook, change the name to `MidTerm_52002_2025_25_<ID1>_<ID2>.ipynb` where replace `<ID1>` and `<ID2>` by your ID nuymbers. Run the filled-notebook it in jupyter notebooks/google colab and upload to moodle the **filled** notebook with results (tables, graphs etc.).\n",
        "\n",
        "**In addition**, submit a pdf/html export of the executed notebook with all the output, named `MidTerm_52002_2025_25_<ID1>_<ID2>.html` (or `.pdf`). Failing to submit both files as instructed will lead to a reduction in your midtem grade.\n",
        "\n",
        "\n",
        "**Good luck!**"
      ]
    },
    {
      "cell_type": "markdown",
      "id": "48TT9I9BGWd9",
      "metadata": {
        "id": "48TT9I9BGWd9"
      },
      "source": [
        "\n",
        "# BigQuery & SQL - 40 points\n",
        "There are 5 sub-questions in this part. Each sub-question is worth 8 points"
      ]
    },
    {
      "cell_type": "markdown",
      "id": "b756e1fb-959f-4a1c-b78c-ab714b3f2c52",
      "metadata": {
        "id": "b756e1fb-959f-4a1c-b78c-ab714b3f2c52"
      },
      "source": [
        "BigQuery is Google's serverless data warehouse that enables scalable analysis   \n",
        "over petabytes of data. It is a Platform as a Service (PaaS) that supports querying   \n",
        "using SQL. In this part of the midterm you'll be asked to query BigQuery tables    \n",
        "using its python API. Please use the `sandbox` BigQuery environment and query   \n",
        "only public datasets.\n",
        "\n",
        "**Please note:**\n",
        "Your BigQuery's resources are limited to `1 TB` per user per month - be mindful with how many queries you   \n",
        "execute and try to optimize your queries as much as possible.\n",
        "\n",
        "\n",
        "**We will utilize two datasets about New-York City:**\n",
        "\n",
        "The first one called `new_york_311` is the 311 calls or service requests dataset, which contains resident complaints from 2010 to 2022.\n",
        "\n",
        "The second dataset called `new_york_trees` is the \"2015 Street Tree Census - Tree Data,\" which includes information from the 1995, 2005, and 2015 Street Tree Censuses. This dataset catalogs trees by address and provides details such as species, diameter, and condition.\n",
        "\n",
        "More information on the two datasets can be found [here](https://data.cityofnewyork.us/Social-Services/311-Service-Requests-from-2010-to-Present/erm2-nwe9) and [here](https://data.cityofnewyork.us/Environment/2015-Street-Tree-Census-Tree-Data/uvpi-gqnh/about_data).   \n",
        "\n",
        "**Guidelines:**  \n",
        "1. Fill this notebook with python commands including SQL queries in the designated places and run it using a jupyter notebook environment (e.g. google colab)\n",
        "2. Write efficient SQL queries and code. Points may be taken off for inefficient queries and code.\n",
        "3. The python API enables us to write code that interacts with BigQuery and convert between the SQL tables to python objects, thus allowing analysis and plotting using python code. You should write your SQL commands within the API. It is recommended to first browse the dataset and run the SQL command manualy in the BigQuery web-browser environment, before copying it to the python notebool.      \n",
        "4. Your plots should be clear, with titles, and with propoer x-y labels.\n",
        "You may use the `matplotlib` library, or `pandas.DataFrame.plot` for your plots.\n",
        "5. When reading BigQuery tables, used the `` symbols to around the table's name, and use as prefix `'Big Query'` and the name of the dataset. For example, to extract a table present in the `new_york_trees` dataset you should use the name\n",
        "`'bigquery-public-data.new_york_trees.<table-name>'` where `<table-name>` is replaced by the name of the table."
      ]
    },
    {
      "cell_type": "markdown",
      "id": "c9a40f98-4fa1-40f2-8d3a-2cacb87cf149",
      "metadata": {
        "id": "c9a40f98-4fa1-40f2-8d3a-2cacb87cf149"
      },
      "source": [
        "**Necessary Libraries:**  \n",
        "(Do not use any libraries that are not in this list without permission in writing form the course staff)"
      ]
    },
    {
      "cell_type": "code",
      "execution_count": 19,
      "id": "7d8b6eba-d97c-424d-aa1a-0d082e3933f3",
      "metadata": {
        "id": "7d8b6eba-d97c-424d-aa1a-0d082e3933f3"
      },
      "outputs": [],
      "source": [
        "import pandas as pd\n",
        "import matplotlib as plt\n",
        "from google.cloud import bigquery\n",
        "from sqlite3 import connect"
      ]
    },
    {
      "cell_type": "code",
      "execution_count": 20,
      "id": "572d9bf0",
      "metadata": {},
      "outputs": [
        {
          "name": "stdout",
          "output_type": "stream",
          "text": [
            "Note: you may need to restart the kernel to use updated packages.\n",
            "Note: you may need to restart the kernel to use updated packages.\n",
            "Note: you may need to restart the kernel to use updated packages.\n"
          ]
        },
        {
          "data": {
            "text/plain": [
              "RendererRegistry.enable('mimetype')"
            ]
          },
          "execution_count": 20,
          "metadata": {},
          "output_type": "execute_result"
        }
      ],
      "source": [
        "# Suppress pip output and warnings\n",
        "import warnings\n",
        "warnings.filterwarnings('ignore')\n",
        "\n",
        "# Install the required package quietly\n",
        "%pip install -q db-dtypes\n",
        "\n",
        "import db_dtypes\n",
        "\n",
        "%pip install -q altair\n",
        "import altair as alt\n",
        "\n",
        "# Enable Altair rendering for google colab\n",
        "# alt.renderers.enable('png') \n",
        "\n",
        "# Enable Altair rendering for vs-code\n",
        "%pip install -q vl-convert-python\n",
        "alt.renderers.enable(\"mimetype\")\n",
        "\n"
      ]
    },
    {
      "cell_type": "markdown",
      "id": "LYGolbl4zxOi",
      "metadata": {
        "id": "LYGolbl4zxOi"
      },
      "source": [
        "### Q1: BigQuery client & Initital Query"
      ]
    },
    {
      "cell_type": "code",
      "execution_count": 21,
      "id": "QR9d8etrFl8R",
      "metadata": {
        "colab": {
          "base_uri": "https://localhost:8080/"
        },
        "id": "QR9d8etrFl8R",
        "outputId": "86b2105a-1777-4a4b-8260-7a87b6533ea3"
      },
      "outputs": [
        {
          "name": "stdout",
          "output_type": "stream",
          "text": [
            "Authenticated\n"
          ]
        }
      ],
      "source": [
        "\n",
        "# Enable google cloud login for google colab\n",
        "\"\"\"\n",
        "from google.colab import auth\n",
        "auth.authenticate_user()\n",
        "\"\"\"\n",
        "\n",
        "# Enable google cloud login for vs-code\n",
        "from google.cloud import storage\n",
        "\n",
        "def authenticate_implicit_with_adc(project_id=\"big-data-mining-52002-midterm\"):\n",
        "    \"\"\"\n",
        "    When interacting with Google Cloud Client libraries, the library can auto-detect the\n",
        "    credentials to use.\n",
        "\n",
        "    // TODO(Developer):\n",
        "    //  1. Before running this sample,\n",
        "    //  set up ADC as described in https://cloud.google.com/docs/authentication/external/set-up-adc\n",
        "    //  2. Replace the project variable.\n",
        "    //  3. Make sure that the user account or service account that you are using\n",
        "    //  has the required permissions. For this sample, you must have \"storage.buckets.list\".\n",
        "    Args:\n",
        "        project_id: The project id of your Google Cloud project.\n",
        "    \"\"\"\n",
        "\n",
        "    # This snippet demonstrates how to list buckets.\n",
        "    # *NOTE*: Replace the client created below with the client required for your application.\n",
        "    # Note that the credentials are not specified when constructing the client.\n",
        "    # Hence, the client library will look for credentials using ADC.\n",
        "    storage_client = storage.Client(project=project_id)\n",
        "    buckets = storage_client.list_buckets()\n",
        "    print(\"Buckets:\")\n",
        "    for bucket in buckets:\n",
        "        print(bucket.name)\n",
        "    print(\"Listed all storage buckets.\")\n",
        "\n",
        "\n",
        "print('Authenticated')\n"
      ]
    },
    {
      "cell_type": "markdown",
      "id": "Yg2vHgeGz8KF",
      "metadata": {
        "id": "Yg2vHgeGz8KF"
      },
      "source": [
        "Construct a BigQuery client object using the `client` method of the `bigquery` module.  The project name you use here should match the name of the project you open in the BigQuery environment. You should use in both places the same **non-huji** google user name"
      ]
    },
    {
      "cell_type": "code",
      "execution_count": 22,
      "id": "or07V0Fpz8vk",
      "metadata": {
        "id": "or07V0Fpz8vk"
      },
      "outputs": [],
      "source": [
        "client = bigquery.Client(project=\"big-data-mining-52002-midterm\")"
      ]
    },
    {
      "cell_type": "markdown",
      "id": "XpET35_D0Gcn",
      "metadata": {
        "id": "XpET35_D0Gcn"
      },
      "source": [
        "Make a simple query displaying five columns of your choice from one of the tables of your choice in the two datasetsin order to check the connection. Limit the number of rows in the displayed output to 10"
      ]
    },
    {
      "cell_type": "code",
      "execution_count": 23,
      "id": "PH2IE4kg0IzJ",
      "metadata": {
        "colab": {
          "base_uri": "https://localhost:8080/",
          "height": 363
        },
        "id": "PH2IE4kg0IzJ",
        "outputId": "11c250c3-5ea2-488b-e417-8f1e445ceff0"
      },
      "outputs": [
        {
          "data": {
            "text/html": [
              "<div>\n",
              "<style scoped>\n",
              "    .dataframe tbody tr th:only-of-type {\n",
              "        vertical-align: middle;\n",
              "    }\n",
              "\n",
              "    .dataframe tbody tr th {\n",
              "        vertical-align: top;\n",
              "    }\n",
              "\n",
              "    .dataframe thead th {\n",
              "        text-align: right;\n",
              "    }\n",
              "</style>\n",
              "<table border=\"1\" class=\"dataframe\">\n",
              "  <thead>\n",
              "    <tr style=\"text-align: right;\">\n",
              "      <th></th>\n",
              "      <th>block_id</th>\n",
              "      <th>tree_id</th>\n",
              "      <th>created_at</th>\n",
              "      <th>tree_dbh</th>\n",
              "      <th>status</th>\n",
              "    </tr>\n",
              "  </thead>\n",
              "  <tbody>\n",
              "    <tr>\n",
              "      <th>0</th>\n",
              "      <td>502982</td>\n",
              "      <td>80548</td>\n",
              "      <td>2015-07-20</td>\n",
              "      <td>0</td>\n",
              "      <td>Stump</td>\n",
              "    </tr>\n",
              "    <tr>\n",
              "      <th>1</th>\n",
              "      <td>503216</td>\n",
              "      <td>449489</td>\n",
              "      <td>2015-11-12</td>\n",
              "      <td>0</td>\n",
              "      <td>Stump</td>\n",
              "    </tr>\n",
              "    <tr>\n",
              "      <th>2</th>\n",
              "      <td>503196</td>\n",
              "      <td>449293</td>\n",
              "      <td>2015-11-12</td>\n",
              "      <td>0</td>\n",
              "      <td>Stump</td>\n",
              "    </tr>\n",
              "    <tr>\n",
              "      <th>3</th>\n",
              "      <td>503188</td>\n",
              "      <td>449153</td>\n",
              "      <td>2015-11-12</td>\n",
              "      <td>0</td>\n",
              "      <td>Stump</td>\n",
              "    </tr>\n",
              "    <tr>\n",
              "      <th>4</th>\n",
              "      <td>503152</td>\n",
              "      <td>449148</td>\n",
              "      <td>2015-11-12</td>\n",
              "      <td>0</td>\n",
              "      <td>Stump</td>\n",
              "    </tr>\n",
              "    <tr>\n",
              "      <th>5</th>\n",
              "      <td>503778</td>\n",
              "      <td>68192</td>\n",
              "      <td>2015-07-15</td>\n",
              "      <td>0</td>\n",
              "      <td>Stump</td>\n",
              "    </tr>\n",
              "    <tr>\n",
              "      <th>6</th>\n",
              "      <td>503349</td>\n",
              "      <td>68347</td>\n",
              "      <td>2015-07-15</td>\n",
              "      <td>0</td>\n",
              "      <td>Stump</td>\n",
              "    </tr>\n",
              "    <tr>\n",
              "      <th>7</th>\n",
              "      <td>503884</td>\n",
              "      <td>68393</td>\n",
              "      <td>2015-07-15</td>\n",
              "      <td>0</td>\n",
              "      <td>Stump</td>\n",
              "    </tr>\n",
              "    <tr>\n",
              "      <th>8</th>\n",
              "      <td>503258</td>\n",
              "      <td>324827</td>\n",
              "      <td>2015-10-14</td>\n",
              "      <td>0</td>\n",
              "      <td>Stump</td>\n",
              "    </tr>\n",
              "    <tr>\n",
              "      <th>9</th>\n",
              "      <td>503263</td>\n",
              "      <td>325180</td>\n",
              "      <td>2015-10-14</td>\n",
              "      <td>0</td>\n",
              "      <td>Stump</td>\n",
              "    </tr>\n",
              "  </tbody>\n",
              "</table>\n",
              "</div>"
            ],
            "text/plain": [
              "   block_id  tree_id  created_at  tree_dbh status\n",
              "0    502982    80548  2015-07-20         0  Stump\n",
              "1    503216   449489  2015-11-12         0  Stump\n",
              "2    503196   449293  2015-11-12         0  Stump\n",
              "3    503188   449153  2015-11-12         0  Stump\n",
              "4    503152   449148  2015-11-12         0  Stump\n",
              "5    503778    68192  2015-07-15         0  Stump\n",
              "6    503349    68347  2015-07-15         0  Stump\n",
              "7    503884    68393  2015-07-15         0  Stump\n",
              "8    503258   324827  2015-10-14         0  Stump\n",
              "9    503263   325180  2015-10-14         0  Stump"
            ]
          },
          "execution_count": 23,
          "metadata": {},
          "output_type": "execute_result"
        }
      ],
      "source": [
        "my_query = \"\"\"\n",
        "SELECT block_id, tree_id, created_at, tree_dbh, status\n",
        "FROM `bigquery-public-data.new_york_trees.tree_census_2015`\n",
        "LIMIT 10\n",
        "\"\"\"\n",
        "\n",
        "# Execute the query\n",
        "query_job = client.query(my_query)  # Make an API request\n",
        "results = query_job.result().to_dataframe()  # Convert results to a pandas DataFrame\n",
        "\n",
        "# Display the output\n",
        "results.head(10)"
      ]
    },
    {
      "cell_type": "markdown",
      "id": "CO-p0SuE-Z_x",
      "metadata": {
        "id": "CO-p0SuE-Z_x"
      },
      "source": [
        "#### Q1 Explanations\n",
        "The query was executed to test the connection to the BigQuery environment and validate access to the public dataset `new_york_trees.tree_census_2015`. It retrieves five columns:\n",
        "- **block_id**: Identifies the block where the tree is located.\n",
        "- **tree_id**: A unique identifier for each tree in the census.\n",
        "- **created_at**: The timestamp when the record was created.\n",
        "- **tree_dbh**: The diameter at breast height (DBH) of the tree, an indicator of its size.\n",
        "- **status**: The status of the tree (e.g., \"Alive\", \"Dead\", \"Stump\").\n",
        "\n",
        "The query limits the result to 10 rows for simplicity, ensuring minimal resource usage during this validation step.\n",
        "\n",
        "#### Results:\n",
        "The output is a table containing sample rows from the dataset with the selected columns. This confirms:\n",
        "1. The connection to BigQuery was successfully established.\n",
        "2. The dataset is accessible, and data can be queried.\n"
      ]
    },
    {
      "cell_type": "markdown",
      "id": "5d3fc0bf-b611-40d4-92dd-020df6ec41c9",
      "metadata": {
        "id": "5d3fc0bf-b611-40d4-92dd-020df6ec41c9"
      },
      "source": [
        "### Q2: Exploratory Data Analysis\n",
        "**Remark:** unless specified otherwise, refer to the following dataset when considering data for trees:\n",
        "`'bigquery-public-data.new_york_trees.tree_census_2015'`\n",
        "\n",
        "2a. How many trees were there in New York in 2015, and how many of these were healthy (whose health status is not `Poor` or `null`)?\n",
        "\n",
        "2b. What are the ten most common tree species in New York?  Run a query that returns a table with the number of trees for each species, the number of healthy trees and the percentage of healthy trees within each species (relative to the total trees of that species).\n",
        "Display the output table with these details only for the ten species with the highest overall counts.\n",
        "\n",
        "2c. Analyze the status distribution of New York City's trees by examining each ZIP code area. Your analysis should reveal the total number of trees per ZIP code along with the percentage of trees in each of the health status categories within each ZIP code. Exclude records with missing data (`zipcode` or `status`) . Show a table with the results for the five ZIP codes with the highest number of total trees.\n",
        "\n",
        "\n"
      ]
    },
    {
      "cell_type": "markdown",
      "id": "b2808d85-5f31-485b-9b40-0c2ac68c9aa8",
      "metadata": {
        "id": "b2808d85-5f31-485b-9b40-0c2ac68c9aa8"
      },
      "source": [
        "**Answer:**"
      ]
    },
    {
      "cell_type": "markdown",
      "id": "f3M729G9nTLe",
      "metadata": {
        "id": "f3M729G9nTLe"
      },
      "source": [
        "#### Q2a"
      ]
    },
    {
      "cell_type": "code",
      "execution_count": 24,
      "id": "ca2f7f4e-fdfc-4a8f-bc50-57e0932085cc",
      "metadata": {
        "colab": {
          "base_uri": "https://localhost:8080/",
          "height": 81
        },
        "id": "ca2f7f4e-fdfc-4a8f-bc50-57e0932085cc",
        "outputId": "2e4b9e2e-1c35-4164-fb69-8bfbb037d935"
      },
      "outputs": [
        {
          "data": {
            "text/html": [
              "<div>\n",
              "<style scoped>\n",
              "    .dataframe tbody tr th:only-of-type {\n",
              "        vertical-align: middle;\n",
              "    }\n",
              "\n",
              "    .dataframe tbody tr th {\n",
              "        vertical-align: top;\n",
              "    }\n",
              "\n",
              "    .dataframe thead th {\n",
              "        text-align: right;\n",
              "    }\n",
              "</style>\n",
              "<table border=\"1\" class=\"dataframe\">\n",
              "  <thead>\n",
              "    <tr style=\"text-align: right;\">\n",
              "      <th></th>\n",
              "      <th>total_trees</th>\n",
              "      <th>healthy_trees</th>\n",
              "    </tr>\n",
              "  </thead>\n",
              "  <tbody>\n",
              "    <tr>\n",
              "      <th>0</th>\n",
              "      <td>683788</td>\n",
              "      <td>625354</td>\n",
              "    </tr>\n",
              "  </tbody>\n",
              "</table>\n",
              "</div>"
            ],
            "text/plain": [
              "   total_trees  healthy_trees\n",
              "0       683788         625354"
            ]
          },
          "execution_count": 24,
          "metadata": {},
          "output_type": "execute_result"
        }
      ],
      "source": [
        "# 2a)\n",
        "query2a = \"\"\"\n",
        "SELECT\n",
        "  COUNT(*) AS total_trees,\n",
        "  COUNTIF(health != 'Poor' AND health IS NOT NULL) AS healthy_trees\n",
        "FROM `bigquery-public-data.new_york_trees.tree_census_2015`\n",
        "\"\"\"\n",
        "query_job2a = client.query(query2a)  # Make an API request.\n",
        "\n",
        "# Output and print\n",
        "df2a = pd.DataFrame(query_job2a.result().to_dataframe())\n",
        "df2a.head()"
      ]
    },
    {
      "cell_type": "markdown",
      "id": "FNZxz2bzNw_M",
      "metadata": {
        "id": "FNZxz2bzNw_M"
      },
      "source": [
        "##### Q2a Explanations\n",
        "The query retrieves the total number of trees and the number of healthy trees in New York City in 2015 from the dataset `bigquery-public-data.new_york_trees.tree_census_2015`.\n",
        "\n",
        "- **Total Trees**: 683,788\n",
        "- **Healthy Trees**: 625,354\n",
        "\n",
        "A tree is considered healthy if its `health` status is neither \"Poor\" nor `NULL`. These numbers indicate that approximately **91.4%** of the trees in the dataset were healthy in 2015."
      ]
    },
    {
      "cell_type": "markdown",
      "id": "hu9OmdKBnc41",
      "metadata": {
        "id": "hu9OmdKBnc41"
      },
      "source": [
        "#### Q2b"
      ]
    },
    {
      "cell_type": "code",
      "execution_count": 25,
      "id": "YB1Q-oRNAKle",
      "metadata": {
        "colab": {
          "base_uri": "https://localhost:8080/",
          "height": 206
        },
        "id": "YB1Q-oRNAKle",
        "outputId": "b45e5dc7-be5a-4c0c-b7ed-a681e5f8c2e6"
      },
      "outputs": [
        {
          "data": {
            "text/html": [
              "<div>\n",
              "<style scoped>\n",
              "    .dataframe tbody tr th:only-of-type {\n",
              "        vertical-align: middle;\n",
              "    }\n",
              "\n",
              "    .dataframe tbody tr th {\n",
              "        vertical-align: top;\n",
              "    }\n",
              "\n",
              "    .dataframe thead th {\n",
              "        text-align: right;\n",
              "    }\n",
              "</style>\n",
              "<table border=\"1\" class=\"dataframe\">\n",
              "  <thead>\n",
              "    <tr style=\"text-align: right;\">\n",
              "      <th></th>\n",
              "      <th>species</th>\n",
              "      <th>total_trees</th>\n",
              "      <th>healthy_trees</th>\n",
              "      <th>healthy_percentage</th>\n",
              "    </tr>\n",
              "  </thead>\n",
              "  <tbody>\n",
              "    <tr>\n",
              "      <th>0</th>\n",
              "      <td>London planetree</td>\n",
              "      <td>87014</td>\n",
              "      <td>84816</td>\n",
              "      <td>97.47</td>\n",
              "    </tr>\n",
              "    <tr>\n",
              "      <th>1</th>\n",
              "      <td>honeylocust</td>\n",
              "      <td>64264</td>\n",
              "      <td>63073</td>\n",
              "      <td>98.15</td>\n",
              "    </tr>\n",
              "    <tr>\n",
              "      <th>2</th>\n",
              "      <td>Callery pear</td>\n",
              "      <td>58931</td>\n",
              "      <td>56842</td>\n",
              "      <td>96.46</td>\n",
              "    </tr>\n",
              "    <tr>\n",
              "      <th>3</th>\n",
              "      <td>pin oak</td>\n",
              "      <td>53185</td>\n",
              "      <td>51950</td>\n",
              "      <td>97.68</td>\n",
              "    </tr>\n",
              "    <tr>\n",
              "      <th>4</th>\n",
              "      <td>Norway maple</td>\n",
              "      <td>34189</td>\n",
              "      <td>30410</td>\n",
              "      <td>88.95</td>\n",
              "    </tr>\n",
              "  </tbody>\n",
              "</table>\n",
              "</div>"
            ],
            "text/plain": [
              "            species  total_trees  healthy_trees  healthy_percentage\n",
              "0  London planetree        87014          84816               97.47\n",
              "1       honeylocust        64264          63073               98.15\n",
              "2      Callery pear        58931          56842               96.46\n",
              "3           pin oak        53185          51950               97.68\n",
              "4      Norway maple        34189          30410               88.95"
            ]
          },
          "execution_count": 25,
          "metadata": {},
          "output_type": "execute_result"
        }
      ],
      "source": [
        "# 2b)\n",
        "query2b = \"\"\"\n",
        "SELECT\n",
        "  spc_common AS species,\n",
        "  COUNT(*) AS total_trees,\n",
        "  COUNTIF(health != 'Poor' AND health IS NOT NULL) AS healthy_trees,\n",
        "  ROUND(COUNTIF(health != 'Poor' AND health IS NOT NULL) / COUNT(*) * 100, 2) AS healthy_percentage\n",
        "FROM `bigquery-public-data.new_york_trees.tree_census_2015`\n",
        "WHERE spc_common IS NOT NULL\n",
        "GROUP BY species\n",
        "ORDER BY total_trees DESC\n",
        "LIMIT 10\n",
        "\"\"\"\n",
        "\n",
        "query_job2b = client.query(query2b)  # Make an API request.\n",
        "\n",
        "# Output and print\n",
        "df2b = pd.DataFrame(query_job2b.result().to_dataframe())\n",
        "df2b.head()"
      ]
    },
    {
      "cell_type": "markdown",
      "id": "f6jfNQTasOpQ",
      "metadata": {
        "id": "f6jfNQTasOpQ"
      },
      "source": [
        "##### Q2b Explanations\n",
        "The query identifies the ten most common tree species in New York City in 2015 based on the dataset `bigquery-public-data.new_york_trees.tree_census_2015`. For each species, it calculates:\n",
        "1. **Total Trees**: The total number of trees of that species.\n",
        "2. **Healthy Trees**: The number of trees with a `health` status that is not \"Poor\" or `NULL`.\n",
        "3. **Healthy Percentage**: The percentage of healthy trees within the species.\n",
        "\n",
        "#### Observations:\n",
        "- The **London planetree** is the most common species with 87,014 trees, of which 97.47% are healthy.\n",
        "- The **Honeylocust** has the highest healthy percentage among the top five species, with 98.15% of its 64,264 trees being healthy.\n",
        "- The **Norway maple** has the lowest healthy percentage among the top five, with 88.95% of its 34,189 trees being healthy."
      ]
    },
    {
      "cell_type": "code",
      "execution_count": 26,
      "id": "9E4-Oh_LpH8K",
      "metadata": {
        "colab": {
          "base_uri": "https://localhost:8080/",
          "height": 469
        },
        "id": "9E4-Oh_LpH8K",
        "outputId": "dab9ce6d-dc3b-4d45-c6fc-5f288845c47a"
      },
      "outputs": [
        {
          "data": {
            "application/vnd.vegalite.v5+json": {
              "$schema": "https://vega.github.io/schema/vega-lite/v5.20.1.json",
              "config": {
                "view": {
                  "continuousHeight": 300,
                  "continuousWidth": 300
                }
              },
              "datasets": {
                "data-fc2c2b499014055a8ddce859edfa0449": [
                  {
                    "healthy_percentage": 97.47,
                    "healthy_trees": 84816,
                    "species": "London planetree",
                    "total_trees": 87014
                  },
                  {
                    "healthy_percentage": 98.15,
                    "healthy_trees": 63073,
                    "species": "honeylocust",
                    "total_trees": 64264
                  },
                  {
                    "healthy_percentage": 96.46,
                    "healthy_trees": 56842,
                    "species": "Callery pear",
                    "total_trees": 58931
                  },
                  {
                    "healthy_percentage": 97.68,
                    "healthy_trees": 51950,
                    "species": "pin oak",
                    "total_trees": 53185
                  },
                  {
                    "healthy_percentage": 88.95,
                    "healthy_trees": 30410,
                    "species": "Norway maple",
                    "total_trees": 34189
                  }
                ]
              },
              "vconcat": [
                {
                  "data": {
                    "name": "data-fc2c2b499014055a8ddce859edfa0449"
                  },
                  "encoding": {
                    "color": {
                      "field": "species",
                      "legend": null,
                      "type": "nominal"
                    },
                    "tooltip": [
                      {
                        "field": "species",
                        "type": "nominal"
                      },
                      {
                        "field": "total_trees",
                        "type": "quantitative"
                      }
                    ],
                    "x": {
                      "axis": {
                        "format": "~s"
                      },
                      "field": "total_trees",
                      "title": "Total Trees",
                      "type": "quantitative"
                    },
                    "y": {
                      "field": "species",
                      "sort": "-x",
                      "title": "Species",
                      "type": "nominal"
                    }
                  },
                  "height": 100,
                  "mark": {
                    "size": 10,
                    "type": "bar"
                  },
                  "width": 850
                },
                {
                  "data": {
                    "name": "data-fc2c2b499014055a8ddce859edfa0449"
                  },
                  "encoding": {
                    "color": {
                      "field": "species",
                      "legend": null,
                      "type": "nominal"
                    },
                    "tooltip": [
                      {
                        "field": "species",
                        "type": "nominal"
                      },
                      {
                        "field": "healthy_trees",
                        "type": "quantitative"
                      }
                    ],
                    "x": {
                      "axis": {
                        "format": "~s"
                      },
                      "field": "healthy_trees",
                      "title": "Healthy Trees",
                      "type": "quantitative"
                    },
                    "y": {
                      "field": "species",
                      "sort": {
                        "field": "total_trees",
                        "order": "descending"
                      },
                      "title": "Species",
                      "type": "nominal"
                    }
                  },
                  "height": 100,
                  "mark": {
                    "size": 10,
                    "type": "bar"
                  },
                  "width": 850
                },
                {
                  "data": {
                    "name": "data-fc2c2b499014055a8ddce859edfa0449"
                  },
                  "encoding": {
                    "color": {
                      "field": "species",
                      "legend": null,
                      "type": "nominal"
                    },
                    "tooltip": [
                      {
                        "field": "species",
                        "type": "nominal"
                      },
                      {
                        "field": "healthy_percentage",
                        "type": "quantitative"
                      }
                    ],
                    "x": {
                      "axis": {
                        "format": "~s"
                      },
                      "field": "healthy_percentage",
                      "title": "Healthy Percentage",
                      "type": "quantitative"
                    },
                    "y": {
                      "field": "species",
                      "sort": {
                        "field": "total_trees",
                        "order": "descending"
                      },
                      "title": "Species",
                      "type": "nominal"
                    }
                  },
                  "height": 100,
                  "mark": {
                    "size": 10,
                    "type": "bar"
                  },
                  "width": 850
                }
              ]
            },
            "text/plain": [
              "<VegaLite 5 object>\n",
              "\n",
              "If you see this message, it means the renderer has not been properly enabled\n",
              "for the frontend that you are using. For more information, see\n",
              "https://altair-viz.github.io/user_guide/display_frontends.html#troubleshooting\n"
            ]
          },
          "execution_count": 26,
          "metadata": {},
          "output_type": "execute_result"
        }
      ],
      "source": [
        "# Chart 1: Total Trees (Defines the sorting order)\n",
        "chart1 = alt.Chart(df2b.head()).mark_bar(size=10).encode(\n",
        "    x=alt.X(\"total_trees:Q\", title=\"Total Trees\", axis=alt.Axis(format=\"~s\")),\n",
        "    y=alt.Y(\"species:N\", title=\"Species\", sort=\"-x\"),  # Sort by total_trees\n",
        "    color=alt.Color(\"species:N\", legend=None),\n",
        "    tooltip=[\"species\", \"total_trees\"]\n",
        ").properties(\n",
        "    width=850,  # Keep width 850\n",
        "    height=100,  # Keep height 100\n",
        ")\n",
        "\n",
        "# Chart 2: Healthy Trees (Use the same sorting as chart1)\n",
        "chart2 = alt.Chart(df2b.head()).mark_bar(size=10).encode(\n",
        "    x=alt.X(\"healthy_trees:Q\", title=\"Healthy Trees\", axis=alt.Axis(format=\"~s\")),\n",
        "    y=alt.Y(\"species:N\", title=\"Species\", sort=alt.EncodingSortField(field=\"total_trees\", order=\"descending\")),\n",
        "    color=alt.Color(\"species:N\", legend=None),\n",
        "    tooltip=[\"species\", \"healthy_trees\"]\n",
        ").properties(\n",
        "    width=850,\n",
        "    height=100,\n",
        ")\n",
        "\n",
        "# Chart 3: Healthy Percentage (Use the same sorting as chart1)\n",
        "chart3 = alt.Chart(df2b.head()).mark_bar(size=10).encode(\n",
        "    x=alt.X(\"healthy_percentage:Q\", title=\"Healthy Percentage\", axis=alt.Axis(format=\"~s\")),\n",
        "    y=alt.Y(\"species:N\", title=\"Species\", sort=alt.EncodingSortField(field=\"total_trees\", order=\"descending\")),\n",
        "    color=alt.Color(\"species:N\", legend=None),\n",
        "    tooltip=[\"species\", \"healthy_percentage\"]\n",
        ").properties(\n",
        "    width=850,\n",
        "    height=100,\n",
        ")\n",
        "\n",
        "# Combine charts vertically\n",
        "chart1 & chart2 & chart3"
      ]
    },
    {
      "cell_type": "markdown",
      "id": "APJxXVSeneb8",
      "metadata": {
        "id": "APJxXVSeneb8"
      },
      "source": [
        "#### Q2c"
      ]
    },
    {
      "cell_type": "code",
      "execution_count": 27,
      "id": "hRfcs2LRsNvS",
      "metadata": {
        "colab": {
          "base_uri": "https://localhost:8080/",
          "height": 206
        },
        "id": "hRfcs2LRsNvS",
        "outputId": "575b7f49-7a8c-4a42-8585-f98564299400"
      },
      "outputs": [
        {
          "data": {
            "text/html": [
              "<div>\n",
              "<style scoped>\n",
              "    .dataframe tbody tr th:only-of-type {\n",
              "        vertical-align: middle;\n",
              "    }\n",
              "\n",
              "    .dataframe tbody tr th {\n",
              "        vertical-align: top;\n",
              "    }\n",
              "\n",
              "    .dataframe thead th {\n",
              "        text-align: right;\n",
              "    }\n",
              "</style>\n",
              "<table border=\"1\" class=\"dataframe\">\n",
              "  <thead>\n",
              "    <tr style=\"text-align: right;\">\n",
              "      <th></th>\n",
              "      <th>zipcode</th>\n",
              "      <th>total_trees</th>\n",
              "      <th>good_percentage</th>\n",
              "      <th>fair_percentage</th>\n",
              "      <th>poor_percentage</th>\n",
              "    </tr>\n",
              "  </thead>\n",
              "  <tbody>\n",
              "    <tr>\n",
              "      <th>0</th>\n",
              "      <td>10312</td>\n",
              "      <td>21356</td>\n",
              "      <td>78.16</td>\n",
              "      <td>16.83</td>\n",
              "      <td>5.01</td>\n",
              "    </tr>\n",
              "    <tr>\n",
              "      <th>1</th>\n",
              "      <td>10314</td>\n",
              "      <td>16330</td>\n",
              "      <td>81.62</td>\n",
              "      <td>14.33</td>\n",
              "      <td>4.05</td>\n",
              "    </tr>\n",
              "    <tr>\n",
              "      <th>2</th>\n",
              "      <td>10306</td>\n",
              "      <td>12616</td>\n",
              "      <td>82.80</td>\n",
              "      <td>14.28</td>\n",
              "      <td>2.92</td>\n",
              "    </tr>\n",
              "    <tr>\n",
              "      <th>3</th>\n",
              "      <td>10309</td>\n",
              "      <td>12105</td>\n",
              "      <td>81.69</td>\n",
              "      <td>13.41</td>\n",
              "      <td>4.90</td>\n",
              "    </tr>\n",
              "    <tr>\n",
              "      <th>4</th>\n",
              "      <td>11234</td>\n",
              "      <td>10838</td>\n",
              "      <td>85.14</td>\n",
              "      <td>11.72</td>\n",
              "      <td>3.15</td>\n",
              "    </tr>\n",
              "  </tbody>\n",
              "</table>\n",
              "</div>"
            ],
            "text/plain": [
              "   zipcode  total_trees  good_percentage  fair_percentage  poor_percentage\n",
              "0    10312        21356            78.16            16.83             5.01\n",
              "1    10314        16330            81.62            14.33             4.05\n",
              "2    10306        12616            82.80            14.28             2.92\n",
              "3    10309        12105            81.69            13.41             4.90\n",
              "4    11234        10838            85.14            11.72             3.15"
            ]
          },
          "execution_count": 27,
          "metadata": {},
          "output_type": "execute_result"
        }
      ],
      "source": [
        "# 2c)\n",
        "query2c = \"\"\"\n",
        "SELECT\n",
        "  zipcode,\n",
        "  COUNT(*) AS total_trees,\n",
        "  ROUND(COUNTIF(health = 'Good') / COUNT(*) * 100, 2) AS good_percentage,\n",
        "  ROUND(COUNTIF(health = 'Fair') / COUNT(*) * 100, 2) AS fair_percentage,\n",
        "  ROUND(COUNTIF(health = 'Poor') / COUNT(*) * 100, 2) AS poor_percentage\n",
        "FROM `bigquery-public-data.new_york_trees.tree_census_2015`\n",
        "WHERE zipcode IS NOT NULL AND health IS NOT NULL\n",
        "GROUP BY zipcode\n",
        "ORDER BY total_trees DESC\n",
        "LIMIT 5\n",
        "\"\"\"\n",
        "\n",
        "# Execute the query\n",
        "query_job2c = client.query(query2c)\n",
        "df2c = query_job2c.result().to_dataframe()\n",
        "\n",
        "# Display the results\n",
        "df2c.head()"
      ]
    },
    {
      "cell_type": "markdown",
      "id": "h4rtQxxx5PRo",
      "metadata": {
        "id": "h4rtQxxx5PRo"
      },
      "source": [
        "##### Q2c Explanations\n",
        "The query examines the distribution of tree health status across ZIP code areas in New York City, based on the dataset `bigquery-public-data.new_york_trees.tree_census_2015`. It calculates:\n",
        "1. **Total Trees**: The number of trees in each ZIP code.\n",
        "2. **Good Percentage**: The percentage of trees with \"Good\" health in each ZIP code.\n",
        "3. **Fair Percentage**: The percentage of trees with \"Fair\" health in each ZIP code.\n",
        "4. **Poor Percentage**: The percentage of trees with \"Poor\" health in each ZIP code.\n",
        "\n",
        "#### Observations:\n",
        "- **ZIP Code 10312** has the highest total number of trees, with 21,356 trees, where 78.16% are in \"Good\" health.\n",
        "- **ZIP Code 11234** has the highest percentage of \"Good\" health trees (85.14%) among the top five ZIP codes with the most trees.\n",
        "- Across all listed ZIP codes, the percentage of trees in \"Poor\" health remains below 6%, indicating an overall positive trend in tree health."
      ]
    },
    {
      "cell_type": "code",
      "execution_count": 28,
      "id": "EueWTNkvpiTP",
      "metadata": {
        "colab": {
          "base_uri": "https://localhost:8080/",
          "height": 623
        },
        "id": "EueWTNkvpiTP",
        "outputId": "7592df67-e67b-4595-aa25-92294fb07e12"
      },
      "outputs": [
        {
          "data": {
            "application/vnd.vegalite.v5+json": {
              "$schema": "https://vega.github.io/schema/vega-lite/v5.20.1.json",
              "config": {
                "view": {
                  "continuousHeight": 300,
                  "continuousWidth": 300
                }
              },
              "datasets": {
                "data-5c4f666988233a02cf6039a26fad876a": [
                  {
                    "fair_percentage": 16.83,
                    "good_percentage": 78.16,
                    "poor_percentage": 5.01,
                    "total_trees": 21356,
                    "zipcode": 10312
                  },
                  {
                    "fair_percentage": 14.33,
                    "good_percentage": 81.62,
                    "poor_percentage": 4.05,
                    "total_trees": 16330,
                    "zipcode": 10314
                  },
                  {
                    "fair_percentage": 14.28,
                    "good_percentage": 82.8,
                    "poor_percentage": 2.92,
                    "total_trees": 12616,
                    "zipcode": 10306
                  },
                  {
                    "fair_percentage": 13.41,
                    "good_percentage": 81.69,
                    "poor_percentage": 4.9,
                    "total_trees": 12105,
                    "zipcode": 10309
                  },
                  {
                    "fair_percentage": 11.72,
                    "good_percentage": 85.14,
                    "poor_percentage": 3.15,
                    "total_trees": 10838,
                    "zipcode": 11234
                  }
                ]
              },
              "vconcat": [
                {
                  "data": {
                    "name": "data-5c4f666988233a02cf6039a26fad876a"
                  },
                  "encoding": {
                    "color": {
                      "field": "zipcode",
                      "legend": null,
                      "type": "nominal"
                    },
                    "tooltip": [
                      {
                        "field": "zipcode",
                        "type": "quantitative"
                      },
                      {
                        "field": "total_trees",
                        "type": "quantitative"
                      }
                    ],
                    "x": {
                      "axis": {
                        "format": "~s"
                      },
                      "field": "total_trees",
                      "title": "Total Trees",
                      "type": "quantitative"
                    },
                    "y": {
                      "field": "zipcode",
                      "sort": "-x",
                      "title": "Zipcode",
                      "type": "nominal"
                    }
                  },
                  "height": 100,
                  "mark": {
                    "size": 10,
                    "type": "bar"
                  },
                  "width": 850
                },
                {
                  "data": {
                    "name": "data-5c4f666988233a02cf6039a26fad876a"
                  },
                  "encoding": {
                    "color": {
                      "field": "zipcode",
                      "legend": null,
                      "type": "nominal"
                    },
                    "tooltip": [
                      {
                        "field": "zipcode",
                        "type": "quantitative"
                      },
                      {
                        "field": "good_percentage",
                        "type": "quantitative"
                      }
                    ],
                    "x": {
                      "axis": {
                        "format": "~s"
                      },
                      "field": "good_percentage",
                      "title": "Good Percentage",
                      "type": "quantitative"
                    },
                    "y": {
                      "field": "zipcode",
                      "sort": {
                        "field": "total_trees",
                        "order": "descending"
                      },
                      "title": "Zipcode",
                      "type": "nominal"
                    }
                  },
                  "height": 100,
                  "mark": {
                    "size": 10,
                    "type": "bar"
                  },
                  "width": 850
                },
                {
                  "data": {
                    "name": "data-5c4f666988233a02cf6039a26fad876a"
                  },
                  "encoding": {
                    "color": {
                      "field": "zipcode",
                      "legend": null,
                      "type": "nominal"
                    },
                    "tooltip": [
                      {
                        "field": "zipcode",
                        "type": "quantitative"
                      },
                      {
                        "field": "fair_percentage",
                        "type": "quantitative"
                      }
                    ],
                    "x": {
                      "axis": {
                        "format": "~s"
                      },
                      "field": "fair_percentage",
                      "title": "Fair Percentage",
                      "type": "quantitative"
                    },
                    "y": {
                      "field": "zipcode",
                      "sort": {
                        "field": "total_trees",
                        "order": "descending"
                      },
                      "title": "Zipcode",
                      "type": "nominal"
                    }
                  },
                  "height": 100,
                  "mark": {
                    "size": 10,
                    "type": "bar"
                  },
                  "width": 850
                },
                {
                  "data": {
                    "name": "data-5c4f666988233a02cf6039a26fad876a"
                  },
                  "encoding": {
                    "color": {
                      "field": "zipcode",
                      "legend": null,
                      "type": "nominal"
                    },
                    "tooltip": [
                      {
                        "field": "zipcode",
                        "type": "quantitative"
                      },
                      {
                        "field": "poor_percentage",
                        "type": "quantitative"
                      }
                    ],
                    "x": {
                      "axis": {
                        "format": "~s"
                      },
                      "field": "poor_percentage",
                      "title": "Poor Percentage",
                      "type": "quantitative"
                    },
                    "y": {
                      "field": "zipcode",
                      "sort": {
                        "field": "total_trees",
                        "order": "descending"
                      },
                      "title": "Zipcode",
                      "type": "nominal"
                    }
                  },
                  "height": 100,
                  "mark": {
                    "size": 10,
                    "type": "bar"
                  },
                  "width": 850
                }
              ]
            },
            "text/plain": [
              "<VegaLite 5 object>\n",
              "\n",
              "If you see this message, it means the renderer has not been properly enabled\n",
              "for the frontend that you are using. For more information, see\n",
              "https://altair-viz.github.io/user_guide/display_frontends.html#troubleshooting\n"
            ]
          },
          "execution_count": 28,
          "metadata": {},
          "output_type": "execute_result"
        }
      ],
      "source": [
        "import altair as alt\n",
        "\n",
        "# Chart 1: Total Trees (Defines the sorting order)\n",
        "chart1 = alt.Chart(df2c.head()).mark_bar(size=10).encode(\n",
        "    x=alt.X(\"total_trees:Q\", title=\"Total Trees\", axis=alt.Axis(format=\"~s\")),\n",
        "    y=alt.Y(\"zipcode:N\", title=\"Zipcode\", sort=\"-x\"),  # Sort by total_trees\n",
        "    color=alt.Color(\"zipcode:N\", legend=None),\n",
        "    tooltip=[\"zipcode\", \"total_trees\"]\n",
        ").properties(\n",
        "    width=850,  # Keep width 850\n",
        "    height=100,  # Keep height 100\n",
        ")\n",
        "\n",
        "# Chart 2: Good Percentage (Use the same sorting as chart1)\n",
        "chart2 = alt.Chart(df2c.head()).mark_bar(size=10).encode(\n",
        "    x=alt.X(\"good_percentage:Q\", title=\"Good Percentage\", axis=alt.Axis(format=\"~s\")),\n",
        "    y=alt.Y(\"zipcode:N\", title=\"Zipcode\", sort=alt.EncodingSortField(field=\"total_trees\", order=\"descending\")),\n",
        "    color=alt.Color(\"zipcode:N\", legend=None),\n",
        "    tooltip=[\"zipcode\", \"good_percentage\"]\n",
        ").properties(\n",
        "    width=850,\n",
        "    height=100,\n",
        ")\n",
        "\n",
        "# Chart 3: Fair Percentage (Use the same sorting as chart1)\n",
        "chart3 = alt.Chart(df2c.head()).mark_bar(size=10).encode(\n",
        "    x=alt.X(\"fair_percentage:Q\", title=\"Fair Percentage\", axis=alt.Axis(format=\"~s\")),\n",
        "    y=alt.Y(\"zipcode:N\", title=\"Zipcode\", sort=alt.EncodingSortField(field=\"total_trees\", order=\"descending\")),\n",
        "    color=alt.Color(\"zipcode:N\", legend=None),\n",
        "    tooltip=[\"zipcode\", \"fair_percentage\"]\n",
        ").properties(\n",
        "    width=850,\n",
        "    height=100,\n",
        ")\n",
        "\n",
        "# Chart 4: Poor Percentage (Use the same sorting as chart1)\n",
        "chart4 = alt.Chart(df2c.head()).mark_bar(size=10).encode(\n",
        "    x=alt.X(\"poor_percentage:Q\", title=\"Poor Percentage\", axis=alt.Axis(format=\"~s\")),\n",
        "    y=alt.Y(\"zipcode:N\", title=\"Zipcode\", sort=alt.EncodingSortField(field=\"total_trees\", order=\"descending\")),\n",
        "    color=alt.Color(\"zipcode:N\", legend=None),\n",
        "    tooltip=[\"zipcode\", \"poor_percentage\"]\n",
        ").properties(\n",
        "    width=850,\n",
        "    height=100,\n",
        ")\n",
        "\n",
        "# Combine charts vertically\n",
        "chart1 & chart2 & chart3 & chart4"
      ]
    },
    {
      "cell_type": "markdown",
      "id": "4e385915-367b-44dd-a3a8-beb143ad3f7d",
      "metadata": {
        "id": "4e385915-367b-44dd-a3a8-beb143ad3f7d"
      },
      "source": [
        "### Q3: Changes Over Time\n",
        "**3a.** Write a query that extracts for each tree species the change in the the number of trees in New York State from 1995 to 2015, using the dataset `'bigquery-public-data.new_york_trees.tree_census_1995'` in addition to `'bigquery-public-data.new_york_trees.tree_census_2015'`. Sort the resulting list by the absolute value of the change in the number of trees, and display the five species with the highest absolute change in the number of trees. Show the number of trees in 1995, in 2015 and the change for these species. Since the names sometimes differ between the years, use the uppercase version of `spc_latin` for each year. Then, merge the data using a `CROSS JOIN`, with the condition that the [`EDIT_DISTANCE`](https://cloud.google.com/bigquery/docs/reference/standard-sql/string_functions#edit_distance) between the names is less than or equal to 2.\n",
        "\n",
        "**3b.** Compare the percentage trees of each fall foliage color for the years 1995 and 2015 separately using the `bigquery-public-data.new_york_trees.tree_species` dataset. If a tree species is not found in the dataset, assume its foliage color is \"Unknown.\" Output a table showing for each fall foilage color the percent of trees in 1995, the percent of trees in 2015 and their difference, sorted by the aboslute value of the difference.\n",
        "Use the same criteria for `CROSS JOIN` as in 3a. ('EDIT_DISTANCE' at most 2 for the uppercase names).\n",
        "\n",
        "*Remark:* Consider each combination of colors (e.g. `Red/Bronze`) as a color of its own (different from the colors `Red` or `Bronze` in this example).\n"
      ]
    },
    {
      "cell_type": "markdown",
      "id": "bf834826-10d3-47a8-835f-c914eb4e4b68",
      "metadata": {
        "id": "bf834826-10d3-47a8-835f-c914eb4e4b68"
      },
      "source": [
        "**Answer:**"
      ]
    },
    {
      "cell_type": "markdown",
      "id": "dsY3vJ17n650",
      "metadata": {
        "id": "dsY3vJ17n650"
      },
      "source": [
        "#### Q3a"
      ]
    },
    {
      "cell_type": "code",
      "execution_count": 29,
      "id": "2976e53c-91b4-4ace-ac0a-1684cda8cddd",
      "metadata": {
        "colab": {
          "base_uri": "https://localhost:8080/",
          "height": 206
        },
        "id": "2976e53c-91b4-4ace-ac0a-1684cda8cddd",
        "outputId": "8c4aed20-6e41-406e-c0e1-6bcba10dd38f"
      },
      "outputs": [
        {
          "data": {
            "text/html": [
              "<div>\n",
              "<style scoped>\n",
              "    .dataframe tbody tr th:only-of-type {\n",
              "        vertical-align: middle;\n",
              "    }\n",
              "\n",
              "    .dataframe tbody tr th {\n",
              "        vertical-align: top;\n",
              "    }\n",
              "\n",
              "    .dataframe thead th {\n",
              "        text-align: right;\n",
              "    }\n",
              "</style>\n",
              "<table border=\"1\" class=\"dataframe\">\n",
              "  <thead>\n",
              "    <tr style=\"text-align: right;\">\n",
              "      <th></th>\n",
              "      <th>species</th>\n",
              "      <th>trees_1995</th>\n",
              "      <th>trees_2015</th>\n",
              "      <th>change_in_trees</th>\n",
              "    </tr>\n",
              "  </thead>\n",
              "  <tbody>\n",
              "    <tr>\n",
              "      <th>0</th>\n",
              "      <td>ACER PLATANOIDES</td>\n",
              "      <td>109325</td>\n",
              "      <td>34189</td>\n",
              "      <td>75136</td>\n",
              "    </tr>\n",
              "    <tr>\n",
              "      <th>1</th>\n",
              "      <td>PYRUS CALLERYANA</td>\n",
              "      <td>31295</td>\n",
              "      <td>58931</td>\n",
              "      <td>27636</td>\n",
              "    </tr>\n",
              "    <tr>\n",
              "      <th>2</th>\n",
              "      <td>ZELKOVA SERRATA</td>\n",
              "      <td>5740</td>\n",
              "      <td>29258</td>\n",
              "      <td>23518</td>\n",
              "    </tr>\n",
              "    <tr>\n",
              "      <th>3</th>\n",
              "      <td>ACER SACCHARINUM</td>\n",
              "      <td>22347</td>\n",
              "      <td>2844</td>\n",
              "      <td>19503</td>\n",
              "    </tr>\n",
              "    <tr>\n",
              "      <th>4</th>\n",
              "      <td>QUERCUS PALUSTRIS</td>\n",
              "      <td>36553</td>\n",
              "      <td>53185</td>\n",
              "      <td>16632</td>\n",
              "    </tr>\n",
              "  </tbody>\n",
              "</table>\n",
              "</div>"
            ],
            "text/plain": [
              "             species  trees_1995  trees_2015  change_in_trees\n",
              "0   ACER PLATANOIDES      109325       34189            75136\n",
              "1   PYRUS CALLERYANA       31295       58931            27636\n",
              "2    ZELKOVA SERRATA        5740       29258            23518\n",
              "3   ACER SACCHARINUM       22347        2844            19503\n",
              "4  QUERCUS PALUSTRIS       36553       53185            16632"
            ]
          },
          "execution_count": 29,
          "metadata": {},
          "output_type": "execute_result"
        }
      ],
      "source": [
        "# 3a)\n",
        "query3a = \"\"\"\n",
        "WITH census_1995 AS (\n",
        "  SELECT\n",
        "    UPPER(spc_latin) AS species_1995,\n",
        "    COUNT(*) AS trees_1995\n",
        "  FROM `bigquery-public-data.new_york_trees.tree_census_1995`\n",
        "  GROUP BY species_1995\n",
        "),\n",
        "census_2015 AS (\n",
        "  SELECT\n",
        "    UPPER(spc_latin) AS species_2015,\n",
        "    COUNT(*) AS trees_2015\n",
        "  FROM `bigquery-public-data.new_york_trees.tree_census_2015`\n",
        "  GROUP BY species_2015\n",
        ")\n",
        "SELECT\n",
        "  c1995.species_1995 AS species,\n",
        "  c1995.trees_1995,\n",
        "  c2015.trees_2015,\n",
        "  ABS(c1995.trees_1995 - c2015.trees_2015) AS change_in_trees\n",
        "FROM census_1995 c1995\n",
        "CROSS JOIN census_2015 c2015\n",
        "WHERE EDIT_DISTANCE(c1995.species_1995, c2015.species_2015) <= 2\n",
        "ORDER BY change_in_trees DESC\n",
        "LIMIT 5\n",
        "\"\"\"\n",
        "\n",
        "# Execute the query\n",
        "query_job3a = client.query(query3a)\n",
        "df3a = query_job3a.result().to_dataframe()\n",
        "\n",
        "# Display the results\n",
        "df3a.head()"
      ]
    },
    {
      "cell_type": "markdown",
      "id": "UdoaqrSeNz7M",
      "metadata": {
        "id": "UdoaqrSeNz7M"
      },
      "source": [
        "##### Q3a Explanation\n",
        "\n",
        "#### **Query**:\n",
        "1. **Subquery for Census Data in 1995** (`census_1995`):\n",
        "   - We extract the species names (`spc_latin`) from the `tree_census_1995` dataset and use the `UPPER()` function to convert them to uppercase for easier matching.\n",
        "   - We count the number of trees for each species in 1995 and group the results by the species name.\n",
        "\n",
        "2. **Subquery for Census Data in 2015** (`census_2015`):\n",
        "   - Similar to the previous subquery, we extract and count the number of trees for each species in 2015, grouping by the species name (also converted to uppercase).\n",
        "\n",
        "3. **Combining the 1995 and 2015 Data**:\n",
        "   - A `CROSS JOIN` is used to combine every row from `census_1995` with every row from `census_2015`. This is necessary because we need to compare each species from 1995 with each species from 2015. The `CROSS JOIN` produces a Cartesian product of the two subqueries.\n",
        "   \n",
        "4. **Using `EDIT_DISTANCE` for Name Matching**:\n",
        "   - Since the species names may differ slightly between the two years (e.g., spelling variations), we use the `EDIT_DISTANCE()` function to match species names that are similar. We only include pairs of species whose names have an edit distance of 2 or less, which indicates a small difference (i.e., slight spelling discrepancies).\n",
        "   \n",
        "5. **Calculating the Change in the Number of Trees**:\n",
        "   - The query computes the absolute difference between the number of trees for each species in 1995 and 2015. This is stored as `change_in_trees`.\n",
        "   \n",
        "6. **Sorting and Limiting**:\n",
        "   - The results are ordered by the absolute change in the number of trees (`change_in_trees`) in descending order to identify the species with the highest changes. The query then limits the results to the top 5 species with the largest change.\n",
        "\n",
        "\n",
        "#### **Interpretation of Results**:\n",
        "- The table displays the **species** of trees, along with the number of trees in **1995** and **2015**, and the **absolute change** in the number of trees between these two years.\n",
        "- For example, **ACER PLATANOIDES** had 109,325 trees in 1995, but this number dropped to 34,189 in 2015, resulting in a decrease of 75,136 trees. This is the largest change among the species in this table.\n",
        "- On the other hand, **PYRUS CALLERYANA** saw an increase in the number of trees from 31,295 in 1995 to 58,931 in 2015, with a change of 27,636 trees.\n",
        "- **ZELKOVA SERRATA** experienced a significant increase in tree numbers as well, growing from 5,740 trees in 1995 to 29,258 in 2015, an increase of 23,518 trees.\n",
        "- Other species, such as **ACER SACCHARINUM** and **QUERCUS PALUSTRIS**, show different growth patterns, with some having notable declines or increases in tree numbers."
      ]
    },
    {
      "cell_type": "code",
      "execution_count": 30,
      "id": "BdJDFUihqkiV",
      "metadata": {
        "colab": {
          "base_uri": "https://localhost:8080/",
          "height": 469
        },
        "id": "BdJDFUihqkiV",
        "outputId": "1497a4b3-db38-412d-ef0b-dabefe52af68"
      },
      "outputs": [
        {
          "data": {
            "application/vnd.vegalite.v5+json": {
              "$schema": "https://vega.github.io/schema/vega-lite/v5.20.1.json",
              "config": {
                "view": {
                  "continuousHeight": 300,
                  "continuousWidth": 300
                }
              },
              "data": {
                "name": "data-927b8c36effe6f0d1737baf2802d66d4"
              },
              "datasets": {
                "data-927b8c36effe6f0d1737baf2802d66d4": [
                  {
                    "change_in_trees": 75136,
                    "species": "ACER PLATANOIDES",
                    "trees_1995": 109325,
                    "trees_2015": 34189
                  },
                  {
                    "change_in_trees": 27636,
                    "species": "PYRUS CALLERYANA",
                    "trees_1995": 31295,
                    "trees_2015": 58931
                  },
                  {
                    "change_in_trees": 23518,
                    "species": "ZELKOVA SERRATA",
                    "trees_1995": 5740,
                    "trees_2015": 29258
                  },
                  {
                    "change_in_trees": 19503,
                    "species": "ACER SACCHARINUM",
                    "trees_1995": 22347,
                    "trees_2015": 2844
                  },
                  {
                    "change_in_trees": 16632,
                    "species": "QUERCUS PALUSTRIS",
                    "trees_1995": 36553,
                    "trees_2015": 53185
                  }
                ]
              },
              "vconcat": [
                {
                  "encoding": {
                    "color": {
                      "field": "species",
                      "legend": null,
                      "type": "nominal"
                    },
                    "tooltip": [
                      {
                        "field": "species",
                        "type": "nominal"
                      },
                      {
                        "field": "trees_1995",
                        "type": "quantitative"
                      }
                    ],
                    "x": {
                      "axis": {
                        "format": "~s"
                      },
                      "field": "trees_1995",
                      "title": "Trees in 1995",
                      "type": "quantitative"
                    },
                    "y": {
                      "field": "species",
                      "sort": "-x",
                      "title": "Species",
                      "type": "nominal"
                    }
                  },
                  "height": 100,
                  "mark": {
                    "size": 10,
                    "type": "bar"
                  },
                  "width": 850
                },
                {
                  "encoding": {
                    "color": {
                      "field": "species",
                      "legend": null,
                      "type": "nominal"
                    },
                    "tooltip": [
                      {
                        "field": "species",
                        "type": "nominal"
                      },
                      {
                        "field": "trees_2015",
                        "type": "quantitative"
                      }
                    ],
                    "x": {
                      "axis": {
                        "format": "~s"
                      },
                      "field": "trees_2015",
                      "title": "Trees in 2015",
                      "type": "quantitative"
                    },
                    "y": {
                      "field": "species",
                      "sort": {
                        "field": "trees_1995",
                        "order": "descending"
                      },
                      "title": "Species",
                      "type": "nominal"
                    }
                  },
                  "height": 100,
                  "mark": {
                    "size": 10,
                    "type": "bar"
                  },
                  "width": 850
                },
                {
                  "encoding": {
                    "color": {
                      "field": "species",
                      "legend": null,
                      "type": "nominal"
                    },
                    "tooltip": [
                      {
                        "field": "species",
                        "type": "nominal"
                      },
                      {
                        "field": "change_in_trees",
                        "type": "quantitative"
                      }
                    ],
                    "x": {
                      "axis": {
                        "format": "~s"
                      },
                      "field": "change_in_trees",
                      "title": "Change in Trees",
                      "type": "quantitative"
                    },
                    "y": {
                      "field": "species",
                      "sort": {
                        "field": "trees_1995",
                        "order": "descending"
                      },
                      "title": "Species",
                      "type": "nominal"
                    }
                  },
                  "height": 100,
                  "mark": {
                    "size": 10,
                    "type": "bar"
                  },
                  "width": 850
                }
              ]
            },
            "text/plain": [
              "<VegaLite 5 object>\n",
              "\n",
              "If you see this message, it means the renderer has not been properly enabled\n",
              "for the frontend that you are using. For more information, see\n",
              "https://altair-viz.github.io/user_guide/display_frontends.html#troubleshooting\n"
            ]
          },
          "execution_count": 30,
          "metadata": {},
          "output_type": "execute_result"
        }
      ],
      "source": [
        "# Chart 1: Trees in 1995\n",
        "chart1 = alt.Chart(df3a).mark_bar(size=10).encode(\n",
        "    x=alt.X(\"trees_1995:Q\", title=\"Trees in 1995\", axis=alt.Axis(format=\"~s\")),\n",
        "    y=alt.Y(\"species:N\", title=\"Species\", sort=\"-x\"),  # Sort by trees_1995\n",
        "    color=alt.Color(\"species:N\", legend=None),\n",
        "    tooltip=[\"species\", \"trees_1995\"]\n",
        ").properties(\n",
        "    width=850,\n",
        "    height=100,\n",
        ")\n",
        "\n",
        "# Chart 2: Trees in 2015\n",
        "chart2 = alt.Chart(df3a).mark_bar(size=10).encode(\n",
        "    x=alt.X(\"trees_2015:Q\", title=\"Trees in 2015\", axis=alt.Axis(format=\"~s\")),\n",
        "    y=alt.Y(\"species:N\", title=\"Species\", sort=alt.EncodingSortField(field=\"trees_1995\", order=\"descending\")),\n",
        "    color=alt.Color(\"species:N\", legend=None),\n",
        "    tooltip=[\"species\", \"trees_2015\"]\n",
        ").properties(\n",
        "    width=850,\n",
        "    height=100,\n",
        ")\n",
        "\n",
        "# Chart 3: Change in Trees\n",
        "chart3 = alt.Chart(df3a).mark_bar(size=10).encode(\n",
        "    x=alt.X(\"change_in_trees:Q\", title=\"Change in Trees\", axis=alt.Axis(format=\"~s\")),\n",
        "    y=alt.Y(\"species:N\", title=\"Species\", sort=alt.EncodingSortField(field=\"trees_1995\", order=\"descending\")),\n",
        "    color=alt.Color(\"species:N\", legend=None),\n",
        "    tooltip=[\"species\", \"change_in_trees\"]\n",
        ").properties(\n",
        "    width=850,\n",
        "    height=100,\n",
        ")\n",
        "\n",
        "# Combine the charts vertically\n",
        "chart1 & chart2 & chart3"
      ]
    },
    {
      "cell_type": "markdown",
      "id": "rfsd0SBdoAf-",
      "metadata": {
        "id": "rfsd0SBdoAf-"
      },
      "source": [
        "#### Q3b"
      ]
    },
    {
      "cell_type": "code",
      "execution_count": 31,
      "id": "j9TR8gwSNuLF",
      "metadata": {
        "id": "j9TR8gwSNuLF"
      },
      "outputs": [],
      "source": [
        "# 3b)\n",
        "# Your answer here:\n"
      ]
    },
    {
      "cell_type": "markdown",
      "id": "npkm_MD5N2dJ",
      "metadata": {
        "id": "npkm_MD5N2dJ"
      },
      "source": [
        "##### Q3b Explanations"
      ]
    },
    {
      "cell_type": "markdown",
      "id": "YjDeurmON5TR",
      "metadata": {
        "id": "YjDeurmON5TR"
      },
      "source": [
        "### Q4: Broken Windows Theory\n",
        "**4a.** The [Broken Windows Theory](https://en.wikipedia.org/wiki/Broken_windows_theory) suggests that poor condition of city areas may affect crime levels. In this section, we’ll look for a correlation between the proportion of dead trees (relative to total trees) and the number of `NYPD` service requests in different zip codes.\n",
        "\n",
        "Before calculating the correlation, run a query showing the different categories of the service requests to the `NYPD` and their counts (number of requests for each category) and explain whether they can be used as an imperfect measure of crime trends.\n",
        "\n",
        "Next, extract the proportion of dead trees in 2015\n",
        "for each zip code that is not `null` and has at least 100 trees, and the number of `NYPD` servise request excluding `Noise` normalized by the total number of requests in each of these zip codes for that year using SQL commands within python.\n",
        "Next, extract the results as a python object (e.g. a pandas data-frame), display a scatter-plot showing the percent of dead trees and the number of service requests across the zip codes and compute their Pearson correlation.\n",
        "\n",
        "\n",
        "Analyze the results to determine if they support the hypothesis. If they do, provide an explanation; if they don't, propose a confounding variable that might lead to inaccuracies.\n",
        "\n",
        "**Hint:** Consider using `Having` in your query"
      ]
    },
    {
      "cell_type": "code",
      "execution_count": 32,
      "id": "CurIBhd3O0YV",
      "metadata": {
        "id": "CurIBhd3O0YV"
      },
      "outputs": [],
      "source": [
        "# 4a)\n",
        "# Your answer here:\n"
      ]
    },
    {
      "cell_type": "markdown",
      "id": "gOtBn9149GQF",
      "metadata": {
        "id": "gOtBn9149GQF"
      },
      "source": [
        "Explanation here"
      ]
    },
    {
      "cell_type": "code",
      "execution_count": 33,
      "id": "sk7jhLYHCIXs",
      "metadata": {
        "id": "sk7jhLYHCIXs"
      },
      "outputs": [],
      "source": [
        "# 4b)\n",
        "# Your answer here:"
      ]
    },
    {
      "cell_type": "markdown",
      "id": "1W4fRkOk-vOr",
      "metadata": {
        "id": "1W4fRkOk-vOr"
      },
      "source": [
        "Explanation here"
      ]
    },
    {
      "cell_type": "markdown",
      "id": "rbYLXPtPtROV",
      "metadata": {
        "id": "rbYLXPtPtROV"
      },
      "source": [
        "### Q5: Tree-Related Complaints  \n",
        "**5.a** Use the 311 dataset to count how many tree-related complaints each agency (for example `NYPD` or other agencies) received. Tree-related complaints are those that include the word `\"Tree\"` in the `complaint_type` field (case sensitive).\n",
        "\n",
        "**5.b** Filter the tree-related complaints to include only such complaints to the agency with the highest number of tree-related complaints you have found in (a.). Find the three most common types of these tree-related complains and display them in a table with their counts.\n",
        "Finally, create a bar chart that shows the number of the tree-related complaints of these three types for each year, where each bar is divided into three sub-bars of different colors, each indicating the tree-related complaint of each type in this year.\n",
        "\n",
        "**Hint:** consider using a window function and the pivot function in Python to simplify the plot."
      ]
    },
    {
      "cell_type": "code",
      "execution_count": 34,
      "id": "kNofek1DxGn1",
      "metadata": {
        "id": "kNofek1DxGn1"
      },
      "outputs": [],
      "source": [
        "# 5a)\n",
        "# Your answer here:\n"
      ]
    },
    {
      "cell_type": "markdown",
      "id": "d2PL4G3o-wk3",
      "metadata": {
        "id": "d2PL4G3o-wk3"
      },
      "source": [
        "Explanation here"
      ]
    },
    {
      "cell_type": "code",
      "execution_count": 35,
      "id": "dVy3v62Isdq-",
      "metadata": {
        "id": "dVy3v62Isdq-"
      },
      "outputs": [],
      "source": [
        "# # 5b)\n",
        "# Your answer here:\n"
      ]
    },
    {
      "cell_type": "markdown",
      "id": "Lm_2bosp-xJv",
      "metadata": {
        "id": "Lm_2bosp-xJv"
      },
      "source": [
        "Explanation here"
      ]
    },
    {
      "cell_type": "markdown",
      "id": "-JLTtQ7KGSsI",
      "metadata": {
        "id": "-JLTtQ7KGSsI"
      },
      "source": [
        "# Unix  - 32 points\n",
        "There are 5 questions in this part. Every question is worth 6 points except question 5 that is worth 8 points. You should solve all the questions using unix commands and include them in your answer, together with additional code/analysis required and the requested results."
      ]
    },
    {
      "cell_type": "markdown",
      "id": "EPHyPaqyHt1z",
      "metadata": {
        "id": "EPHyPaqyHt1z"
      },
      "source": [
        "## Q1: Simple Counting\n",
        " Copy the `review-Oregon.json.gz` file from the moriah cluster, located at\n",
        " the path `/sci/labs/orzuk/orzuk/teaching/big_data_mining_52002/midterm_2024_25` or at `/sci/home/orzuk`.\n",
        " You may work at the moriah cluster (recommended) or your personal computer.\n",
        "Extract the file's content, and use the `wc` command to display the number of lines,words, and characters in the `review-Oregon.json` file. Print the first line of the file and briefly explain what the data represents.  \n"
      ]
    },
    {
      "cell_type": "markdown",
      "id": "PmhRD0ttIID8",
      "metadata": {
        "id": "PmhRD0ttIID8"
      },
      "source": [
        "**Solutions:**\n",
        "\n",
        "**Add Question 1 Shell Commands here:**\n",
        "```\n",
        "[commands to add]\n",
        "```\n",
        "\n",
        "**Add Question 1 Shell Output here:**\n",
        "```\n",
        "[copy output to here]\n",
        "```\n",
        "\n",
        "\n",
        "**Explanation:**\n",
        "\n",
        "\n",
        "[Explain your solution here]\n",
        "\n"
      ]
    },
    {
      "cell_type": "markdown",
      "id": "w2uUdkSvHwxQ",
      "metadata": {
        "id": "w2uUdkSvHwxQ"
      },
      "source": [
        "## Q2: Food and Images\n",
        "Count the number of comments that include the word `\"food\"` (**not** case sensative). Out of those comments, determine how many included at least one image.\n",
        "\n",
        "Next, perform the same query for the rest of the comments (that don't contain the word \"food\") and compare the proportions of comments with an image in the two categories. Is the difference in proportions statistically significant?\n",
        "\n",
        "Describe a statistical test and test statistic and display the results. For the last calculation of the `test statistic` and `p-value` manual computation is allowed, but all previous steps should be implemented in unix commands. Explain the Unix command you wrote in simple language.\n",
        "\n",
        "**Solutions:**\n",
        "\n",
        "**Add Question 2 Shell Commands here:**\n",
        "```\n",
        "[commands to add]\n",
        "```\n",
        "\n",
        "**Add Question 2 Shell Output here:**\n",
        "```\n",
        "[copy output to here]\n",
        "```\n",
        "\n",
        "**Add Question 2 Statistical analysis here:**\n",
        "\n",
        "\n",
        "**Explanation:**\n",
        "\n",
        "\n",
        "[Explain your solution here]\n",
        "\n",
        "\n"
      ]
    },
    {
      "cell_type": "markdown",
      "id": "edXz-xv0Hzit",
      "metadata": {
        "id": "edXz-xv0Hzit"
      },
      "source": [
        "## Q3: Top Users\n",
        "From the people who mentioned `\"food\"` (**not** case sensative) in their comments, find the three users with the highest number of comments about `food` and display their user-ids together with the number of such comments for each one.\n",
        "\n",
        "\n",
        "\n"
      ]
    },
    {
      "cell_type": "markdown",
      "id": "YejuijfxI9Zl",
      "metadata": {
        "id": "YejuijfxI9Zl"
      },
      "source": [
        "**Solutions:**\n",
        "\n",
        "**Add Question 3 Shell Commands here:**\n",
        "```\n",
        "[commands to add]\n",
        "```\n",
        "\n",
        "**Add Question 3 Shell Output here:**\n",
        "```\n",
        "[copy output to here]\n",
        "```\n",
        "\n",
        "\n",
        "**Explanation:**\n",
        "\n",
        "\n",
        "[Explain your solution here]\n",
        "\n"
      ]
    },
    {
      "cell_type": "markdown",
      "id": "lRXMOhkmH3rx",
      "metadata": {
        "id": "lRXMOhkmH3rx"
      },
      "source": [
        "## Q4: Splitting\n",
        "Split the `review-Oregon.json` file into different files based on the `rating` value. Name each file as `reviews_rating_i`, where `i` represents the rating value, and count the number of comments in each of these files.  \n"
      ]
    },
    {
      "cell_type": "markdown",
      "id": "Tu2K9_99Xi4J",
      "metadata": {
        "id": "Tu2K9_99Xi4J"
      },
      "source": [
        "**Solutions:**\n",
        "\n",
        "**Add Question 4 Shell Commands here:**\n",
        "```\n",
        "[commands to add]\n",
        "```\n",
        "\n",
        "**Add Question 4 Shell Output here:**\n",
        "```\n",
        "[copy output to here]\n",
        "```\n",
        "\n",
        "\n",
        "**Explanation:**\n",
        "\n",
        "\n",
        "[Explain your solution here]\n",
        "\n"
      ]
    },
    {
      "cell_type": "markdown",
      "id": "aEE0dOB6H6N7",
      "metadata": {
        "id": "aEE0dOB6H6N7"
      },
      "source": [
        "##Q5: Count Frequent Words\n",
        " Write a Python program (.py format) that takes a file name (as a string) and a natural number `k` as input. The program should read the file, extract the words from the reviews, split them into individual words, and print the top `k` most frequent words. Remove any stop words (common words) before computing the frequencies.  \n",
        "\n",
        " Next, run a shell script that runs the Python program you wrote on all the different rating files created earlier in Qu. 4 and print the top 5 most frequent words for each rating.  \n",
        "\n"
      ]
    },
    {
      "cell_type": "code",
      "execution_count": 36,
      "id": "bMYXuvBT7NuS",
      "metadata": {
        "id": "bMYXuvBT7NuS"
      },
      "outputs": [],
      "source": [
        "# Copy code of python program here"
      ]
    },
    {
      "cell_type": "markdown",
      "id": "s_xqX98fXxML",
      "metadata": {
        "id": "s_xqX98fXxML"
      },
      "source": [
        "**Solutions:**\n",
        "\n",
        "**Add Question 5 Shell Commands here:**\n",
        "```\n",
        "[commands to add]\n",
        "```\n",
        "\n",
        "**Add Question 5 Shell Output here:**\n",
        "```\n",
        "[copy output to here]\n",
        "```\n",
        "\n",
        "\n",
        "**Explanation:**\n",
        "\n",
        "\n",
        "[Explain your solution here]\n",
        "\n",
        "\n"
      ]
    },
    {
      "cell_type": "markdown",
      "id": "wgMLZFaFnP2g",
      "metadata": {
        "id": "wgMLZFaFnP2g"
      },
      "source": [
        "# Networks - 28 points\n",
        "There are 4 questions in this part. Every question is worth 7 points"
      ]
    },
    {
      "cell_type": "code",
      "execution_count": 37,
      "id": "CMyl4Y4sFu60",
      "metadata": {
        "id": "CMyl4Y4sFu60"
      },
      "outputs": [
        {
          "ename": "ModuleNotFoundError",
          "evalue": "No module named 'networkx'",
          "output_type": "error",
          "traceback": [
            "\u001b[0;31m---------------------------------------------------------------------------\u001b[0m",
            "\u001b[0;31mModuleNotFoundError\u001b[0m                       Traceback (most recent call last)",
            "Cell \u001b[0;32mIn[37], line 2\u001b[0m\n\u001b[1;32m      1\u001b[0m \u001b[38;5;28;01mimport\u001b[39;00m \u001b[38;5;21;01mpandas\u001b[39;00m \u001b[38;5;28;01mas\u001b[39;00m \u001b[38;5;21;01mpd\u001b[39;00m\n\u001b[0;32m----> 2\u001b[0m \u001b[38;5;28;01mimport\u001b[39;00m \u001b[38;5;21;01mnetworkx\u001b[39;00m \u001b[38;5;28;01mas\u001b[39;00m \u001b[38;5;21;01mnx\u001b[39;00m\n\u001b[1;32m      3\u001b[0m \u001b[38;5;28;01mimport\u001b[39;00m \u001b[38;5;21;01mmatplotlib\u001b[39;00m\u001b[38;5;21;01m.\u001b[39;00m\u001b[38;5;21;01mpyplot\u001b[39;00m \u001b[38;5;28;01mas\u001b[39;00m \u001b[38;5;21;01mplt\u001b[39;00m\n\u001b[1;32m      4\u001b[0m \u001b[38;5;28;01mimport\u001b[39;00m \u001b[38;5;21;01mnumpy\u001b[39;00m \u001b[38;5;28;01mas\u001b[39;00m \u001b[38;5;21;01mnp\u001b[39;00m\n",
            "\u001b[0;31mModuleNotFoundError\u001b[0m: No module named 'networkx'"
          ]
        }
      ],
      "source": [
        "import pandas as pd\n",
        "import networkx as nx\n",
        "import matplotlib.pyplot as plt\n",
        "import numpy as np\n",
        "from geopy.distance import geodesic\n",
        "import random\n",
        "from scipy.sparse import csr_matrix\n",
        "import time\n",
        "import copy\n"
      ]
    },
    {
      "cell_type": "markdown",
      "id": "l0Lwtv82MlWd",
      "metadata": {
        "id": "l0Lwtv82MlWd"
      },
      "source": [
        "## Q1: Exploratory Data Analysis"
      ]
    },
    {
      "cell_type": "markdown",
      "id": "pSe2zDpdnQ0o",
      "metadata": {
        "id": "pSe2zDpdnQ0o"
      },
      "source": [
        "*Download* the `web-sk-2005` network dataset available here:\n",
        "https://networkrepository.com/web.php.  \n",
        "Unzip the file and read it to python (*Note:* this can take a few minutes to upload)\n",
        "\n",
        "Display the first five rows of the dataset and explain what is shown and what the data represents.\n",
        "Count the number of nodes and edges and display them to verify that your file is correct.\n",
        "\n",
        "Finally, show two separate histograms, one for the distribution of in-degrees in the network, and one for the distribution of out-degrees. Descrbine your results."
      ]
    },
    {
      "cell_type": "code",
      "execution_count": 238,
      "id": "EAGrjdMmbeB1",
      "metadata": {
        "id": "EAGrjdMmbeB1"
      },
      "outputs": [],
      "source": [
        "from google.colab import files\n",
        "\n",
        "# Upload the dataset file here\n",
        "# uploaded = files.upload()"
      ]
    },
    {
      "cell_type": "code",
      "execution_count": 239,
      "id": "i2P53q4NMtzJ",
      "metadata": {
        "id": "i2P53q4NMtzJ"
      },
      "outputs": [],
      "source": [
        "def load_network_data(file_name):\n",
        "    \"\"\"\n",
        "    Write a function that loads the graph data\n",
        "    \"\"\"\n",
        "\n",
        "# Load Filepath to the web-network dataset\n",
        "graph = load_network_data(\"web-sk-2005.mtx\")\n",
        "\n",
        "# Display number of nodes and edges, and first 10 lines\n",
        "\n",
        "# Comptue and plot degree distributions"
      ]
    },
    {
      "cell_type": "markdown",
      "id": "JbraxICSAL4Y",
      "metadata": {
        "id": "JbraxICSAL4Y"
      },
      "source": [
        "[Explanation of results here]"
      ]
    },
    {
      "cell_type": "markdown",
      "id": "RW1u6ZryTnM6",
      "metadata": {
        "id": "RW1u6ZryTnM6"
      },
      "source": [
        "## Q2: Page Rank Analysis\n",
        "Run the PageRank algorithm with $\\beta=0.9$ (i.e. teleport probability of $0.1$) and with tolerance of $\\epsilon = 10^{-6}$. Plot the tolerance at each iteraction. Record the number of iterations needed for convergence.\n",
        "\n",
        "Plot the *in-degree* vs. PageRank of each node in a scatter plot. Next, plot the *out-degree* vs. PageRank of each node in a separate scatter-plot. Compute in each plot the correlation coefficient. Which one of them is more correlated to PageRank? are the results surprising? explain\n"
      ]
    },
    {
      "cell_type": "markdown",
      "id": "0tCRKrdhhEkC",
      "metadata": {
        "id": "0tCRKrdhhEkC"
      },
      "source": [
        "Explain in words -\n"
      ]
    },
    {
      "cell_type": "code",
      "execution_count": 240,
      "id": "TmPibyoqFxMJ",
      "metadata": {
        "id": "TmPibyoqFxMJ"
      },
      "outputs": [],
      "source": [
        "\n",
        "# Code for computing pagerank here\n",
        "\n",
        "\n",
        "# Display nodes with top pagerank score , with node ids\n",
        "\n"
      ]
    },
    {
      "cell_type": "markdown",
      "id": "HjHw5EHTn41K",
      "metadata": {
        "id": "HjHw5EHTn41K"
      },
      "source": [
        "[Explanation of results here]"
      ]
    },
    {
      "cell_type": "code",
      "execution_count": 241,
      "id": "oqi_oHR2p-Dy",
      "metadata": {
        "id": "oqi_oHR2p-Dy"
      },
      "outputs": [],
      "source": [
        "# Plot degrees histograms and degrees vs. pagerank scatter plots here\n",
        "\n"
      ]
    },
    {
      "cell_type": "markdown",
      "id": "8_Q46wvV46nw",
      "metadata": {
        "id": "8_Q46wvV46nw"
      },
      "source": [
        "[Explanation of results here]\n"
      ]
    },
    {
      "cell_type": "markdown",
      "id": "jFUofGrUaBaz",
      "metadata": {
        "id": "jFUofGrUaBaz"
      },
      "source": [
        "## Q3: PageRank Analysis of Spammers\n",
        "\n",
        "Suppose that a spammer wants to inflater the PageRank of some pages. Choose random 100 pages and add edges between every pair of them (in both directions). Comptue the resulting PageRank for the new network. Next make two scatter plots:\n",
        "(i.) The page-rank of each page before and after the change to the network by the spammers\n",
        "(ii.) The in-degree vs. the pagerank after the change to the network by the spammer\n",
        "\n",
        "Explain the changes observed after spamming.\n",
        "\n",
        "Finally, repeat all steps above (adding spam edges, computing modified page-rank, plotting and explaining the results) for a different spammer strategy: choosing two distinct random sets of 100 nodes, and adding all possible links form the first set to the second set.\n",
        "Which spamming strategy is more effective?\n",
        "\n",
        "*Note:* Highlight in different colors the different sets of nodes in your scatter plots"
      ]
    },
    {
      "cell_type": "code",
      "execution_count": 242,
      "id": "qGkiLLhtazLd",
      "metadata": {
        "id": "qGkiLLhtazLd"
      },
      "outputs": [],
      "source": [
        "# Code for adding edges here"
      ]
    },
    {
      "cell_type": "markdown",
      "id": "7YJ5PzDa5OIa",
      "metadata": {
        "id": "7YJ5PzDa5OIa"
      },
      "source": [
        "[Explanation  here]"
      ]
    },
    {
      "cell_type": "code",
      "execution_count": 243,
      "id": "exReS8t-d4T5",
      "metadata": {
        "id": "exReS8t-d4T5"
      },
      "outputs": [],
      "source": [
        "# Code for computing and displaying updated pagerank and degrees here"
      ]
    },
    {
      "cell_type": "markdown",
      "id": "1FGQ9IeeB7K4",
      "metadata": {
        "id": "1FGQ9IeeB7K4"
      },
      "source": [
        "[Explanation of results here]\n",
        "\n",
        "\n",
        "\n",
        "\n",
        "\n",
        "\n"
      ]
    },
    {
      "cell_type": "markdown",
      "id": "xOi47Rn9UGhP",
      "metadata": {
        "id": "xOi47Rn9UGhP"
      },
      "source": [
        "## Q4: PageRank Computational Complexity\n",
        "\n",
        "Suppose that $A$ is an $n \\times n$ matrix with distinct real eigenvalues and we implement the power method to find the leading eigenvector of $A$.\n",
        "\n",
        "- What is the computational complexity of each iteration of the Power method as a function of $n$ for a general (dense) matrix $A$ as a function of $n$ (use Big-O notation)?\n",
        "\n",
        "- Suppose that we know that $A = B+C$ where $B$ is a sparse matrix with $s$ non-zero values, and $C$ is a low-rank matrix with $rank(C)=k$. Write the algorithm of the Power method using $C$ and $B$ as input and utilizing their structure. What is the computational complexity as a function of $n$, $k$ and $s$? (use Big-O notation). You should represent $B$ and $C$ in a way that will minimize memory usage and computations.\n",
        "\n",
        "- Suppose that we know that the convergence rate of the Power method is quadratic. That is, after $t$ iterations the $L_2$ distance between the pagerank vector $r^t$ computed after $t$ iterations and the true pagerank vector $r$ satisfies $||r^t - r||_2 \\leq \\frac{a}{t^2}$ for some constant $a > 0$. \\\\\n",
        "We run the algorithm until reaching tolearance $\\epsilon$ , i.e. our algorithm should return a vector $r'$ such that $||r'-r||_2 \\leq \\epsilon$. What will be the computational complexity of the entire algorithm for the above two cases as a function of $n,k,s$ and $\\epsilon$? (you may assume that the constant $a$ is known)."
      ]
    },
    {
      "cell_type": "markdown",
      "id": "pPeQO3en5dNC",
      "metadata": {
        "id": "pPeQO3en5dNC"
      },
      "source": [
        "[Solution text with Explanations of Computational Complexity of the different algorithms here]"
      ]
    }
  ],
  "metadata": {
    "colab": {
      "provenance": [],
      "toc_visible": true
    },
    "kernelspec": {
      "display_name": "venv",
      "language": "python",
      "name": "python3"
    },
    "language_info": {
      "codemirror_mode": {
        "name": "ipython",
        "version": 3
      },
      "file_extension": ".py",
      "mimetype": "text/x-python",
      "name": "python",
      "nbconvert_exporter": "python",
      "pygments_lexer": "ipython3",
      "version": "3.13.0"
    }
  },
  "nbformat": 4,
  "nbformat_minor": 5
}
