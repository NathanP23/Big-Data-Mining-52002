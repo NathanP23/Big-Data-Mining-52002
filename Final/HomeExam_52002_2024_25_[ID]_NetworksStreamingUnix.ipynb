{
 "cells": [
  {
   "cell_type": "markdown",
   "id": "c71a501a-e69f-4db7-871f-905e9861fe4a",
   "metadata": {
    "id": "c71a501a-e69f-4db7-871f-905e9861fe4a"
   },
   "source": [
    "# Home Exam 52002 - 2024-2025"
   ]
  },
  {
   "cell_type": "markdown",
   "id": "yi4B9L4mjR8b",
   "metadata": {
    "id": "yi4B9L4mjR8b"
   },
   "source": [
    "#**Instructions**\n",
    "* **Fill your ID Here:** [replace the bracketed text with your ID number]\n",
    "* Work on the assignment and submit your solution *individually*. <br>\n",
    "No sharing of information on the assignment is allowed between students.\n",
    "\n",
    "\n",
    "* **Format:** Fill code, text explanations and output (figures, tables ..) in the designated places. <br>For some questions, the code you fill should run in this .ipynb notebook and generate the output automatically after running (e.g. in `google colab`). <br>For the Unix part you will need to run commands in other environments (Ubuntu) - in this case, just copy the commands and the relevant outputs in the designated text blocks.\n",
    "Rename the solution file to 'HomeExam_52002_2045_25_[ID].ipynb' where [ID] should be replaced by your ID number.\n",
    "* Submit your filled solution by Febuary 28th 23:59 your solution on moodle.\n",
    "\n",
    "\n",
    "* **Data:** Some of the questions requires analyzing and manipulating data files. All the files required for the exam are located in the directory:\n",
    "'/sci/home/orzuk/FinalExamBigData'\n",
    "in Moriah.\n",
    "You may copy them to your working directory in Moriah, to your personal computer or any other computing environment you use. You may need to unzip the files before using them.\n",
    "\n",
    "\n",
    "* **Grading:**\n",
    "*  There are overall $11$ questions in this home exam. Each question is worth $9$ points to your total grade. One additional point will be given for submitting  files with correct formats and file names. * **Note:** Points from your grade may be deducted for submitting wrong/missing parts of files OR if not submitting the complete generated/complied output.\n",
    "* **Note:** Some parts of the code may take a long time  to run.\n",
    " Be patient. However, don't leave everything to run at the last minute but prepare in advance so that your entire solution runs and finishes on time.\n",
    "* **Note**: Solutions with naive or inefficient implementations may reduce the score\n",
    "\n",
    "###Submission Guidelines:\n",
    "\n",
    "\n",
    "By the end of the exercise, please submit the following **four** files:\n",
    "\n",
    "\n",
    "1. **Networks, Streaming, Unix, and Batch Task Processing:**  \n",
    "   - Provide your solutions in both `.ipynb` (Jupyter Notebook) and `.html` formats. Submit after running all parts of the `.ipynb` notebook except the unix part , check that the outputs of each question were created and saved. For the unix part, copy the code and results manually to the `.ipynb` notebook.\n",
    "\n",
    "2. **Spark Section:**  \n",
    "   - Submit the fully executed Jupyter Notebook (`.ipynb`) with all expected outputs, after running it in the Databricks environment.\n",
    "   - Include an `.html` export of the executed notebook displaying the outputs.  \n",
    "\n",
    "\n",
    "Ensure that all submitted files are clearly labeled and display the required outputs where applicable.\n",
    "\n",
    "* **Good luck!**\n"
   ]
  },
  {
   "cell_type": "markdown",
   "id": "-JLTtQ7KGSsI",
   "metadata": {
    "id": "-JLTtQ7KGSsI"
   },
   "source": [
    "# Part 1: Unix"
   ]
  },
  {
   "cell_type": "markdown",
   "id": "-02tm8Q9H1xz",
   "metadata": {
    "id": "-02tm8Q9H1xz"
   },
   "source": [
    "## Q1. Preprocessing using Unix\n",
    "The file `network-review-Oregon.json` contains user reviews of different buisnesses (it is a sample from a full `review-Oregon.json` file).\n",
    "\n",
    "a. Use Unix commands to generate a new file called `bipartite_network.txt'\n",
    "containing a table from the file `network-review-Oregon.json`\n",
    "The table should contain only the next columns:\n",
    "`user_id,gmap_id_from,rating` separated by commmas\n",
    "\n",
    "Finally, show all the rows in which the user-id is `100000837087364476756`\n",
    "\n",
    "b. Use Unix commands and the file from (a.) to generate a new\n",
    "`network-table.txt` containing one row for each pair of buisnesses (`gmap_id`) that were reviewed by the same user (`user_id`).  \n",
    "\n",
    "The table should contain only the next columns:\n",
    "`gmap_id_from,user_id,rating_from,gmap_id_to,rating_to` separated by commmas\n",
    "\n",
    "You can split your process into multiple steps, creating intermediate CSV/TXT files and then merging them.\n",
    "\n",
    "Finally, show all the rows in which the user-id is `100000837087364476756`\n",
    "\n",
    "**Note:** If two different users rate the same two buisnesses, there should be separate rows for the ratings. In addition, the pair of buisnesses should appear twice in the two possible orders.\n",
    "For example if user1 rated the two buisnesses as 3,4 and user2 rated them as 4,2, the following lines should be in your output file:\n",
    "gmap_id1, user1, 3, gmap_id2, 4\n",
    "gmap_id2, user1, 4, gmap_id1, 3\n",
    "gmap_id1, user2, 4, gmap_id2, 2\n",
    "gmap_id2, user2, 2, gmap_id1, 4"
   ]
  },
  {
   "cell_type": "markdown",
   "id": "Rsu2wqohXVFv",
   "metadata": {
    "id": "Rsu2wqohXVFv"
   },
   "source": [
    "**Question 1 Shell Commands ($):**<br>\n",
    "\n",
    "a.\n",
    "\n",
    "```\n",
    "zcat /sci/home/orzuk/BigDataMiningExam/network-review-Oregon.json.gz | jq -r '[.user_id, .gmap_id, .rating] | @csv' > bipartite_network.txt\n",
    "grep '\"100000837087364476756\",' bipartite_network.txt\n",
    "```\n",
    "\n",
    "b.\n",
    "```\n",
    "awk -F, '\n",
    "{\n",
    "    key = $1 \"_\" $2  # Create a unique key: \"user_id_gmap_id\"\n",
    "    ratings[key] = $3\n",
    "    user_reviews[$1] = user_reviews[$1] \",\" $2  # Append business IDs for this user\n",
    "} \n",
    "END {\n",
    "    for (user in user_reviews) {\n",
    "        split(user_reviews[user], businesses, \",\")  # Convert list to array\n",
    "        n = length(businesses)\n",
    "        for (i = 2; i < n; i++) {  # Start at index 2 to skip leading comma\n",
    "            for (j = i + 1; j <= n; j++) {  # Ensure i ≠ j and avoid duplicates\n",
    "                key1 = user \"_\" businesses[i]\n",
    "                key2 = user \"_\" businesses[j]\n",
    "\n",
    "                # Print the pair in both orders\n",
    "                print businesses[i] \",\" user \",\" ratings[key1] \",\" businesses[j] \",\" ratings[key2]\n",
    "                print businesses[j] \",\" user \",\" ratings[key2] \",\" businesses[i] \",\" ratings[key1]\n",
    "            }\n",
    "        }\n",
    "    }\n",
    "}' bipartite_network.txt > network-table.txt\n",
    "grep '\"100000837087364476756\",' network-table.txt\n",
    "```\n",
    "\n",
    "**Question 1 Shell Output ($):**<br>\n",
    "a.\n",
    "```\n",
    "\"100000837087364476756\",\"0x54950a755cc35d8d:0x92d6d400144b2141\",5\n",
    "\"100000837087364476756\",\"0x54c17ff7bcaa7c31:0x2970a958143cc922\",4\n",
    "```\n",
    "\n",
    "b.\n",
    "```\n",
    "\"0x54950a755cc35d8d:0x92d6d400144b2141\",\"100000837087364476756\",5,\"0x54c17ff7bcaa7c31:0x2970a958143cc922\",4\n",
    "\"0x54c17ff7bcaa7c31:0x2970a958143cc922\",\"100000837087364476756\",4,\"0x54950a755cc35d8d:0x92d6d400144b2141\",5\n",
    "```"
   ]
  },
  {
   "cell_type": "markdown",
   "id": "SMKMrB9_V-J7",
   "metadata": {
    "id": "SMKMrB9_V-J7"
   },
   "source": [
    "## Q2. Batch Task Processing- Moriah\n",
    "\n",
    "We want to calcaulte the total number of reviews and the average rating for each `gmap_id` of the full review file (`review-Oregon.json`)\n",
    "\n",
    "Implement the following pipeline for this task:\n",
    "1. Split the input file into five files, one for each rating from 1 to 5 (e.g., `rating_i.txt`) using unix.\n",
    "2. For each file, submit a job with python script that calculates how many times each `gmap_id` appears. Save the results in a CSV file (e.g. `rating_i_counts.txt`.)\n",
    "3. Run a final Python script to:\n",
    " - Read all the CSV files.\n",
    " - Combine the results.\n",
    " - Calculate the average rating of `gmap_id` and the total number of reviews.\n",
    " - Use the file `meta-Oregon.json` to map `gmap_id` to the buisness name\n",
    "\n",
    "Print the top three `gmap_id` values sorted by rating, with ties broken by sorting by the number of reviews (both in descending order).\n",
    "The output table should be with the next columns:\n",
    " `gmap_id`,`name`,`avg_rating`,`total_reviews`.\n",
    "\n",
    "\n",
    "**Note: Steps 2-3 should be as pipline in single bash file**\n",
    "\n",
    "**Hint:** Use job dependencies because the tasks need to run in order.\n",
    "You can use [moriah wiki](https://wiki.rcs.huji.ac.il/hurcs/guides/slurm) to learn more.\n",
    "\n",
    "**Guidence:** Every user has limited compute power. So first write your script on sample of the data and run on the local machine and only when you think that you code is good run on Moriah.\n",
    "\n",
    "After completing and running the pipelinee, copy the unix script, python code and the results table in the next chunks."
   ]
  },
  {
   "cell_type": "markdown",
   "id": "dQR0e4uFjL1b",
   "metadata": {
    "id": "dQR0e4uFjL1b"
   },
   "source": [
    "Python files (First.py and Second.py):"
   ]
  },
  {
   "cell_type": "code",
   "execution_count": null,
   "id": "-muIbXnSIMef",
   "metadata": {
    "id": "-muIbXnSIMef"
   },
   "outputs": [],
   "source": [
    "import pandas as pd\n",
    "import sys\n",
    "\n",
    "def count_gmap_ids(input_file, output_file):\n",
    "    try:\n",
    "        # Load CSV file (ensuring proper column names)\n",
    "        df = pd.read_csv(input_file)\n",
    "        # Ensure 'gmap_id' column exists\n",
    "        if \"gmap_id\" not in df.columns:\n",
    "            print(f\"❌ Error: 'gmap_id' column not found in {input_file}\")\n",
    "            return\n",
    "        # Count occurrences of gmap_id\n",
    "        gmap_counts = df[\"gmap_id\"].value_counts().reset_index()\n",
    "        gmap_counts.columns = [\"gmap_id\", \"count\"]\n",
    "        # Save results to a CSV-formatted TXT file\n",
    "        gmap_counts.to_csv(output_file, index=False)\n",
    "        print(f\"✅ Completed processing: {input_file} -> {output_file}\")\n",
    "    except Exception as e:\n",
    "        print(f\"❌ Error processing {input_file}: {e}\")\n",
    "\n",
    "if __name__ == '__main__':\n",
    "    if len(sys.argv) < 3:\n",
    "        print(\"Usage: python3 count_gmap.py <input_file> <output_file>\")\n",
    "        sys.exit(1)\n",
    "    input_file = sys.argv[1]\n",
    "    output_file = sys.argv[2]\n",
    "    count_gmap_ids(input_file, output_file)\n"
   ]
  },
  {
   "cell_type": "code",
   "execution_count": null,
   "id": "0BOM3MfDMz9W",
   "metadata": {
    "id": "0BOM3MfDMz9W"
   },
   "outputs": [],
   "source": [
    "import pandas as pd\n",
    "import json\n",
    "import sys\n",
    "import os\n",
    "\n",
    "def aggregate_reviews(data_dir, meta_file, output_file):\n",
    "    try:\n",
    "        # Load metadata to map gmap_id -> business name\n",
    "        gmap_to_name = {}\n",
    "        with open(meta_file, 'r', encoding='utf-8') as f:\n",
    "            for line in f:\n",
    "                try:\n",
    "                    item = json.loads(line.strip())  # Read each line as a JSON object\n",
    "                    gmap_to_name[item[\"gmap_id\"]] = item[\"name\"]\n",
    "                except json.JSONDecodeError:\n",
    "                    print(f\"⚠️ Skipping malformed JSON line: {line.strip()}\")\n",
    "\n",
    "        # Initialize dataframe\n",
    "        all_data = pd.DataFrame(columns=[\"gmap_id\", \"count\", \"rating\"])\n",
    "\n",
    "        # Process each rating_i_counts.txt file\n",
    "        for i in range(1, 6):\n",
    "            rating_file = os.path.join(data_dir, f\"rating_{i}_counts.txt\")\n",
    "            if os.path.exists(rating_file) and os.path.getsize(rating_file) > 0:\n",
    "                df = pd.read_csv(rating_file)\n",
    "                df[\"rating\"] = i  # Assign the rating value to each row\n",
    "                all_data = pd.concat([all_data, df], ignore_index=True)\n",
    "\n",
    "        # Aggregate: Calculate total reviews & average rating per gmap_id\n",
    "        grouped = all_data.groupby(\"gmap_id\").agg(\n",
    "            total_reviews=pd.NamedAgg(column=\"count\", aggfunc=\"sum\"),\n",
    "            avg_rating=pd.NamedAgg(column=\"rating\", aggfunc=\"mean\")\n",
    "        ).reset_index()\n",
    "\n",
    "        # Map business names\n",
    "        grouped[\"name\"] = grouped[\"gmap_id\"].map(gmap_to_name)\n",
    "\n",
    "        # Sort: First by avg_rating (desc), then by total_reviews (desc)\n",
    "        grouped = grouped.sort_values(by=[\"avg_rating\", \"total_reviews\"], ascending=[False, False])\n",
    "\n",
    "        # Save results\n",
    "        grouped.to_csv(output_file, index=False)\n",
    "        print(f\"✅ Final results saved to: {output_file}\")\n",
    "\n",
    "        # Print top 3 businesses\n",
    "        print(\"\\n🏆 Top 3 Businesses:\")\n",
    "        print(grouped.head(3).to_string(index=False))\n",
    "\n",
    "    except Exception as e:\n",
    "        print(f\"❌ Error in aggregation: {e}\")\n",
    "\n",
    "if __name__ == '__main__':\n",
    "    if len(sys.argv) < 4:\n",
    "        print(\"Usage: python3 Second.py <data_directory> <meta_file> <output_file>\")\n",
    "        sys.exit(1)\n",
    "\n",
    "    data_dir = sys.argv[1]\n",
    "    meta_file = sys.argv[2]\n",
    "    output_file = sys.argv[3]\n",
    "\n",
    "    aggregate_reviews(data_dir, meta_file, output_file)"
   ]
  },
  {
   "cell_type": "markdown",
   "id": "zCRAETQ6jOsT",
   "metadata": {
    "id": "zCRAETQ6jOsT"
   },
   "source": [
    "Bash file (main_batch.sh):"
   ]
  },
  {
   "cell_type": "code",
   "execution_count": null,
   "id": "f72895f2",
   "metadata": {
    "vscode": {
     "languageId": "shellscript"
    }
   },
   "outputs": [],
   "source": [
    "#!/bin/bash\n",
    "#SBATCH --job-name=BigDataMiningP1Q2_bigdata_pipeline\n",
    "#SBATCH --output=bigdata_pipeline.out\n",
    "#SBATCH --error=bigdata_pipeline.err\n",
    "#SBATCH --time=2:00:00\n",
    "#SBATCH --mem=16G\n",
    "#SBATCH --cpus-per-task=4\n",
    "\n",
    "DATA_DIR=\"Data\"\n",
    "mkdir -p \"$DATA_DIR\"\n",
    "OrZukData=\"/sci/home/orzuk/BigDataMiningExam\"\n",
    "REVIEW_FILE=\"$OrZukData/review-Oregon.json.gz\"\n",
    "META_FILE=\"$OrZukData/meta-Oregon.json.gz\"\n",
    "STEP_2_PYTHON_SCRIPT=\"First.py\"\n",
    "STEP_3_PYTHON_SCRIPT=\"Second.py\"\n",
    "FINAL_OUTPUT=\"$DATA_DIR/final_results.csv\"\n",
    "\n",
    "wait_for_jobs() {\n",
    "    local job_ids=($1)  # Convert job IDs to an array\n",
    "    local step_name=$2\n",
    "    local start_time=$(date +%s)\n",
    "\n",
    "    echo -n \"⏳ Waiting for $step_name to complete... (00:00:00)\"\n",
    "    \n",
    "    while true; do\n",
    "        all_completed=true  # Assume all jobs are done unless proven otherwise\n",
    "        sleep 1  # Check every 1 second\n",
    "\n",
    "        for job_id in \"${job_ids[@]}\"; do\n",
    "            # Check if the job is still running\n",
    "            if squeue -j \"$job_id\" | grep -q \"$job_id\"; then\n",
    "                all_completed=false  # At least one job is still running\n",
    "                break\n",
    "            fi\n",
    "\n",
    "            # If job is not in squeue, check its historical status in sacct\n",
    "            job_status=$(sacct -j \"$job_id\" --format=State --noheader | awk '{print $1}' | sort | uniq)\n",
    "\n",
    "            if [[ \"$job_status\" =~ \"FAILED|CANCELLED|TIMEOUT\" ]]; then\n",
    "                echo -e \"\\n❌ $step_name failed. Job ID: $job_id, Status: $job_status\"\n",
    "                exit 1\n",
    "            elif [[ \"$job_status\" == \"COMPLETED\" ]]; then\n",
    "                continue  # Job is done, check the next one\n",
    "            elif [[ -z \"$job_status\" ]]; then\n",
    "                echo -e \"\\n⚠️  Warning: Job ID $job_id not found in SLURM history. Assuming completed.\"\n",
    "            else\n",
    "                all_completed=false  # Job status is unclear, so keep waiting\n",
    "                break\n",
    "            fi\n",
    "        done\n",
    "\n",
    "        # If all jobs are completed, exit the loop\n",
    "        if $all_completed; then\n",
    "            break\n",
    "        fi\n",
    "\n",
    "        # Update elapsed time dynamically\n",
    "        current_time=$(date +%s)\n",
    "        elapsed=$((current_time - start_time))\n",
    "        hours=$((elapsed / 3600))\n",
    "        minutes=$(((elapsed % 3600) / 60))\n",
    "        seconds=$((elapsed % 60))\n",
    "        printf \"\\r⏳ Waiting for $step_name to complete... (%02d:%02d:%02d)\" $hours $minutes $seconds\n",
    "    done\n",
    "\n",
    "    # Final message\n",
    "    printf \"\\r✅ $step_name completed in (%02d:%02d:%02d)\\n\" $hours $minutes $seconds\n",
    "}\n",
    "\n",
    "echo \"🚀 Submitting SLURM Jobs for Optimized Pipeline...\"\n",
    "\n",
    "# ===================== STEP 1: SPLIT REVIEWS (PARALLEL JOBS) =====================\n",
    "echo \"📂 Submitting Step 1: Splitting reviews into parallel jobs...\"\n",
    "\n",
    "STEP1_JOB_IDS=()\n",
    "for i in {1..5}; do\n",
    "    STEP1_JOB=$(sbatch --parsable <<EOF\n",
    "#!/bin/bash\n",
    "#SBATCH --job-name=BigDataMiningP1Q2_split_rating_$i\n",
    "#SBATCH --output=split_rating_$i.out\n",
    "#SBATCH --mem=4G\n",
    "#SBATCH --cpus-per-task=1\n",
    "\n",
    "output_file=\"$DATA_DIR/rating_$i.txt\"\n",
    "echo \"user_id,rating,gmap_id\" > \"\\$output_file\"\n",
    "\n",
    "zcat \"$REVIEW_FILE\" | jq --argjson i \"$i\" -r 'select(.rating == $i) | [.user_id, .rating, .gmap_id] | @csv' >> \"\\$output_file\"\n",
    "\n",
    "echo \"✅ Created \\$output_file with \\$(wc -l < \"\\$output_file\") lines.\"\n",
    "EOF\n",
    ")\n",
    "    STEP1_JOB_IDS+=(\"$STEP1_JOB\")\n",
    "done\n",
    "\n",
    "echo \"📊 Step 1 Jobs Submitted: ${STEP1_JOB_IDS[*]}\"\n",
    "\n",
    "DEPENDENCY_STEP1=$(IFS=,; echo \"${STEP1_JOB_IDS[*]}\")\n",
    "\n",
    "# ===================== WAIT FOR STEP 1 TO FINISH =====================\n",
    "wait_for_jobs \"$DEPENDENCY_STEP1\" \"Step 1 (Splitting Reviews)\"\n",
    "\n",
    "# ===================== STEP 2: COUNT gmap_id (PARALLEL JOBS) =====================\n",
    "echo \"📂 Submitting Step 2: Counting gmap_id occurrences...\"\n",
    "\n",
    "STEP2_JOB_IDS=()\n",
    "for i in {1..5}; do\n",
    "    STEP2_JOB=$(sbatch --parsable --dependency=afterok:$DEPENDENCY_STEP1 <<EOF\n",
    "#!/bin/bash\n",
    "#SBATCH --job-name=BigDataMiningP1Q2_count_rating_$i\n",
    "#SBATCH --output=count_rating_$i.out\n",
    "#SBATCH --mem=4G\n",
    "#SBATCH --cpus-per-task=1\n",
    "\n",
    "input_file=\"$DATA_DIR/rating_$i.txt\"\n",
    "output_file=\"$DATA_DIR/rating_${i}_counts.txt\"\n",
    "\n",
    "if [ -s \"\\$input_file\" ]; then\n",
    "    python3 \"$STEP_2_PYTHON_SCRIPT\" \"\\$input_file\" \"\\$output_file\"\n",
    "\n",
    "    if [ -s \"\\$output_file\" ]; then\n",
    "        echo \"✅ Created \\$output_file with \\$(wc -l < \"\\$output_file\") lines.\"\n",
    "    else\n",
    "        echo \"❌ Error: Output file \\$output_file was not created.\"\n",
    "    fi\n",
    "else\n",
    "    echo \"⚠️ Skipping empty file: \\$input_file\"\n",
    "fi\n",
    "EOF\n",
    ")\n",
    "    STEP2_JOB_IDS+=(\"$STEP2_JOB\")\n",
    "done\n",
    "\n",
    "echo \"📊 Step 2 Jobs Submitted: ${STEP2_JOB_IDS[*]}\"\n",
    "\n",
    "DEPENDENCY_STEP2=$(IFS=,; echo \"${STEP2_JOB_IDS[*]}\")\n",
    "\n",
    "# ===================== WAIT FOR STEP 2 TO FINISH =====================\n",
    "wait_for_jobs \"$DEPENDENCY_STEP2\" \"Step 2 (Counting gmap_id)\"\n",
    "\n",
    "# ===================== STEP 3: AGGREGATE RESULTS =====================\n",
    "echo \"📂 Submitting Step 3: Aggregating final results...\"\n",
    "\n",
    "STEP3_JOB=$(sbatch --parsable --dependency=afterok:$DEPENDENCY_STEP2 <<EOF\n",
    "#!/bin/bash\n",
    "#SBATCH --job-name=BigDataMiningP1Q2_aggregate_results\n",
    "#SBATCH --output=aggregate_results.out\n",
    "#SBATCH --mem=8G\n",
    "#SBATCH --cpus-per-task=2\n",
    "\n",
    "zcat \"$META_FILE\" | python3 \"$STEP_3_PYTHON_SCRIPT\" \"$DATA_DIR\" \"/dev/stdin\" \"$FINAL_OUTPUT\"\n",
    "\n",
    "if [ -s \"$FINAL_OUTPUT\" ]; then\n",
    "    echo \"✅ Step 3 completed successfully. Final results saved in $FINAL_OUTPUT\"\n",
    "else\n",
    "    echo \"❌ Step 3 failed. No output file generated.\"\n",
    "    exit 1\n",
    "fi\n",
    "EOF\n",
    ")\n",
    "\n",
    "echo \"📊 Step 3 Jobs Submitted: $STEP3_JOB\"\n",
    "\n",
    "# ===================== WAIT FOR STEP 3 TO FINISH =====================\n",
    "wait_for_jobs \"$STEP3_JOB\" \"Step 3 (Aggregation)\"\n",
    "\n",
    "# ===================== PRINT TOP 3 BUSINESSES =====================\n",
    "if [ -s \"$FINAL_OUTPUT\" ]; then\n",
    "    echo \"✅ Aggregation complete. Displaying top 3 businesses from $FINAL_OUTPUT\"\n",
    "\n",
    "    echo \"\"\n",
    "    echo \"🏆 Top 3 Businesses:\"\n",
    "    echo \"--------------------------\"\n",
    "    head -n 4 \"$FINAL_OUTPUT\" | tail -n 3 | column -t -s \",\"\n",
    "    echo \"--------------------------\"\n",
    "else\n",
    "    echo \"❌ Error: Aggregation failed or output file is empty.\"\n",
    "fi\n",
    "\n",
    "echo \"✅ Optimized SLURM Pipeline Completed Successfully.\""
   ]
  },
  {
   "cell_type": "markdown",
   "id": "305ada1e",
   "metadata": {},
   "source": [
    "Dear Bodek, on your local terminal, run sftp in order to upload/update files, and then re-enter the cluster to start submitting the job and track its live prints using the commands below(change my username):"
   ]
  },
  {
   "cell_type": "code",
   "execution_count": null,
   "id": "d9d36bed",
   "metadata": {
    "vscode": {
     "languageId": "shellscript"
    }
   },
   "outputs": [],
   "source": [
    "REMOTE_USER=\"nathan.pasder\"\n",
    "REMOTE_SFTP_HOST=\"ftp.rcs.huji.ac.il\"\n",
    "REMOTE_JUMP_HOST=\"bava.cs.huji.ac.il\"\n",
    "REMOTE_DIR=\"/sci/home/nathan.pasder\"\n",
    "LOCAL_DIR=~/Documents/HUJI/BigDataMining52002/Final/\n",
    "\n",
    "echo \"🚀 Uploading new scripts via SFTP...\"\n",
    "sftp -J \"$REMOTE_USER@$REMOTE_JUMP_HOST\" \"$REMOTE_USER@$REMOTE_SFTP_HOST\" << EOF\n",
    "    lcd \"$LOCAL_DIR\"\n",
    "    cd \"$REMOTE_DIR\"\n",
    "\n",
    "    # Ensure Data directory exists\n",
    "    mkdir Data 2>/dev/null  # Won't fail if it already exists\n",
    "\n",
    "    # Upload new scripts (will overwrite existing files)\n",
    "    lcd \"$LOCAL_DIR\"\n",
    "    put main_bash.sh\n",
    "    put First.py\n",
    "    put Second.py\n",
    "\n",
    "    echo \"✅ Upload complete.\"\n",
    "    bye\n",
    "EOF\n",
    "\n",
    "# ===================== EXECUTE JOB ON REMOTE =====================\n",
    "ssh -J \"$REMOTE_USER@$REMOTE_JUMP_HOST\" \"$REMOTE_USER@moriah-gw.cs.huji.ac.il\"\n",
    "ls\n",
    "sbatch main_bash.sh\n",
    "squeue -u $USER\n",
    "tail -f bigdata_pipeline.out\n"
   ]
  },
  {
   "cell_type": "code",
   "execution_count": null,
   "id": "271eaa10",
   "metadata": {
    "vscode": {
     "languageId": "shellscript"
    }
   },
   "outputs": [],
   "source": [
    "\n",
    "output:\n",
    "\n",
    "```\n",
    "nathan.pasder@moriah-gw-02:~ $ ls \n",
    "Data/  First.py  Second.py*  main_bash.sh*\n",
    "nathan.pasder@moriah-gw-02:~ $ sbatch main_bash.sh\n",
    "\n",
    "Submitted batch job 29600284\n",
    "nathan.pasder@moriah-gw-02:~ $ squeue -u $USER\n",
    "\n",
    "             JOBID PARTITION     NAME     USER ST       TIME  NODES NODELIST(REASON)\n",
    "          29600285   glacier BigDataM nathan.p  R       0:05      1 glacier-28\n",
    "          29600286   glacier BigDataM nathan.p  R       0:05      1 glacier-29\n",
    "          29600287   glacier BigDataM nathan.p  R       0:05      1 glacier-38\n",
    "          29600288   glacier BigDataM nathan.p  R       0:05      1 glacier-38\n",
    "          29600289   glacier BigDataM nathan.p  R       0:05      1 glacier-38\n",
    "          29600284   glacier BigDataM nathan.p  R       0:06      1 glacier-29\n",
    "nathan.pasder@moriah-gw-02:~ $ tail -f bigdata_pipeline.out\n",
    "\n",
    "🚀 Submitting SLURM Jobs for Optimized Pipeline...\n",
    "📂 Submitting Step 1: Splitting reviews into parallel jobs...\n",
    "📊 Step 1 Jobs Submitted: 29600285 29600286 29600287 29600288 29600289\n",
    "✅ Step 1 (Splitting Reviews) completed in (00:02:08)... (00:02:08)\n",
    "📂 Submitting Step 2: Counting gmap_id occurrences...\n",
    "📊 Step 2 Jobs Submitted: 29600297 29600298 29600299 29600300 29600301\n",
    "✅ Step 2 (Counting gmap_id) completed in (00:00:16)... (00:00:16)\n",
    "📂 Submitting Step 3: Aggregating final results...\n",
    "📊 Step 3 Jobs Submitted: 29600302\n",
    "✅ Step 3 (Aggregation) completed in (00:00:13)... (00:00:13)\n",
    "✅ Aggregation complete. Displaying top 3 businesses from Data/final_results.csv\n",
    "\n",
    "🏆 Top 3 Businesses:\n",
    "--------------------------\n",
    "0x87b21fedbf7f4f5b:0xa379fce9177a3dc6  372  5.0  Tip Top K9 Dog Training              \n",
    "0x5495a269266d6e8b:0x8c2044a8b62bc3cb  348  5.0  Peniche and Associates               \n",
    "0x89aec3802de3cd09:0x1bd2662c90a6a12c  268  5.0  \"Pirate and Pixie Dust Destinations   LLC\"\n",
    "--------------------------\n",
    "✅ Optimized SLURM Pipeline Completed Successfully.\n",
    "^C\n",
    "```"
   ]
  },
  {
   "cell_type": "markdown",
   "id": "WAhUAOUy_ICy",
   "metadata": {
    "id": "WAhUAOUy_ICy"
   },
   "source": [
    "# Part 2 : Streaming Algorithms\n",
    "\n",
    "## Q1. Streaming Sampling Algorithm\n",
    "- Write python function that reads the `review-Oregon.json` file **line-by-line**, i,e, **one line at a time** (see code template below).  Your code should implement  \n",
    "online sampling of 1000 random users and all of their ratings. That is, you should initialize and update a data structue such that\n",
    "after each value of $n$ lines that were processed that correspond to $k \\leq n$ distinct users, it should hold that your data structure stores the identity of $min(k, 1000)$ users chosen uniformly at random from the first $k$ users (without replacement), and will also store **all** lines corresponding to these users\n",
    "\n",
    "- After finishing to process all lines in the file, compute 'ave_rating' for all buisnesses using this sample of $1000$ users, and make a scatter plot of this `ave_rating` vs. the `ave_rating` from Unix Q2 using all users. Decsribe the results\n",
    "\n",
    "**Notes:** You should never store the entire file in memory. After reading each line, if you decide to not include the corresponding user in your sample you should throw it away and never use it again.\n",
    "Exclude from the scatter plot buisnesses that were not reviewed by any of the 1000 users in your sample."
   ]
  },
  {
   "cell_type": "code",
   "execution_count": 36,
   "id": "4b1e9ea0",
   "metadata": {},
   "outputs": [
    {
     "name": "stdout",
     "output_type": "stream",
     "text": [
      "🚀 Starting streaming sampling of reviews...\n",
      "⌛ Processed 11012000 lines | Distinct users: 10620720 | Sample size: 10000\n",
      "✅ Finished processing for sampling.\n",
      "Total distinct users encountered: 10620888\n",
      "Final sample size: 10000\n",
      "\n"
     ]
    }
   ],
   "source": [
    "import json\n",
    "import random\n",
    "import sys\n",
    "import matplotlib.pyplot as plt\n",
    "import pandas as pd\n",
    "\n",
    "# Path to the file\n",
    "file_path = 'Data/review-Oregon.json'\n",
    "csv_path = 'Data/final_results.csv'\n",
    "\n",
    "# ------------------------------\n",
    "# Part 1: Streaming Sampling with Dynamic Progress Updates\n",
    "# ------------------------------\n",
    "\n",
    "reservoir_size = 10000\n",
    "sample_users = {}  # Dictionary: user_id -> list of reviews\n",
    "reservoir_ids = []  # List of user_ids currently in the reservoir\n",
    "distinct_users_count = 0  # Total distinct users seen so far\n",
    "\n",
    "progress_interval = 1000  # Update progress every 1000 lines\n",
    "line_count = 0\n",
    "\n",
    "print(\"🚀 Starting streaming sampling of reviews...\")\n",
    "\n",
    "with open(file_path, 'r') as f:\n",
    "    for line in f:\n",
    "        line_count += 1\n",
    "        try:\n",
    "            review = json.loads(line)\n",
    "        except json.JSONDecodeError:\n",
    "            continue  # Skip malformed lines\n",
    "\n",
    "        user_id = review.get('user_id')\n",
    "        biz_id = review.get('gmap_id')\n",
    "        rating = review.get('rating')\n",
    "        if not user_id or not biz_id or rating is None:\n",
    "            continue  # Skip invalid entries\n",
    "        \n",
    "        # If the user is already in the sample, add the review.\n",
    "        if user_id in sample_users:\n",
    "            sample_users[user_id].append(review)\n",
    "        else:\n",
    "            # New user encountered\n",
    "            distinct_users_count += 1\n",
    "            if len(reservoir_ids) < reservoir_size:\n",
    "                # Still space: add user directly.\n",
    "                reservoir_ids.append(user_id)\n",
    "                sample_users[user_id] = [review]\n",
    "            else:\n",
    "                # Decide whether to include the new user.\n",
    "                r = random.randint(0, distinct_users_count - 1)\n",
    "                if r < reservoir_size:\n",
    "                    # Evict an existing user from the reservoir.\n",
    "                    evicted_user = reservoir_ids[r]\n",
    "                    del sample_users[evicted_user]\n",
    "                    reservoir_ids[r] = user_id\n",
    "                    sample_users[user_id] = [review]\n",
    "                # Otherwise, discard the review.\n",
    "\n",
    "        # Dynamic progress update\n",
    "        if line_count % progress_interval == 0:\n",
    "            sys.stdout.write(f\"\\r⌛ Processed {line_count} lines | Distinct users: {distinct_users_count} | Sample size: {len(sample_users)}\")\n",
    "            sys.stdout.flush()\n",
    "\n",
    "sys.stdout.write(\"\\n✅ Finished processing for sampling.\\n\")\n",
    "print(f\"Total distinct users encountered: {distinct_users_count}\")\n",
    "print(f\"Final sample size: {len(sample_users)}\\n\")\n"
   ]
  },
  {
   "cell_type": "code",
   "execution_count": 37,
   "id": "3bcbdf0e",
   "metadata": {},
   "outputs": [
    {
     "name": "stdout",
     "output_type": "stream",
     "text": [
      "📊 Computing average ratings for businesses from the sample of users...\n",
      "✅ Completed computing sample average ratings. Total businesses in sample: 26247\n",
      "\n",
      "📂 Loading overall average ratings from CSV file...\n",
      "✅ Loaded 93006 businesses from CSV.\n",
      "\n",
      "📊 Preparing scatter plot comparing sample and overall average ratings...\n",
      "Number of businesses compared in scatter plot: 26247\n",
      "\n"
     ]
    },
    {
     "data": {
      "image/png": "[encoded data removed]",
      "text/plain": [
       "<Figure size 800x600 with 1 Axes>"
      ]
     },
     "metadata": {},
     "output_type": "display_data"
    },
    {
     "name": "stdout",
     "output_type": "stream",
     "text": [
      "✅ Scatter plot displayed.\n",
      "\n",
      "📌 **Graph Explanation:** The scatter plot compares the average ratings of businesses based on a sample of 1000 users versus the overall ratings from the entire dataset. If the sample is representative, points should align along the diagonal (y = x). Deviations indicate differences in sampled user behavior compared to the full dataset.\n"
     ]
    }
   ],
   "source": [
    "\n",
    "# ------------------------------\n",
    "# Part 2: Compute Average Ratings from the Sample\n",
    "# ------------------------------\n",
    "\n",
    "print(\"📊 Computing average ratings for businesses from the sample of users...\")\n",
    "sample_business_ratings = {}\n",
    "\n",
    "for reviews in sample_users.values():\n",
    "    for review in reviews:\n",
    "        biz_id = review['gmap_id']\n",
    "        rating = review['rating']\n",
    "        if biz_id in sample_business_ratings:\n",
    "            sample_business_ratings[biz_id]['sum'] += rating\n",
    "            sample_business_ratings[biz_id]['count'] += 1\n",
    "        else:\n",
    "            sample_business_ratings[biz_id] = {'sum': rating, 'count': 1}\n",
    "\n",
    "sample_business_avg = {biz_id: stats['sum'] / stats['count'] for biz_id, stats in sample_business_ratings.items()}\n",
    "print(f\"✅ Completed computing sample average ratings. Total businesses in sample: {len(sample_business_avg)}\\n\")\n",
    "\n",
    "# ------------------------------\n",
    "# Part 3: Load Overall Business Ratings from CSV\n",
    "# ------------------------------\n",
    "\n",
    "print(\"📂 Loading overall average ratings from CSV file...\")\n",
    "overall_df = pd.read_csv(csv_path)\n",
    "overall_business_avg = dict(zip(overall_df['gmap_id'], overall_df['avg_rating']))\n",
    "print(f\"✅ Loaded {len(overall_business_avg)} businesses from CSV.\\n\")\n",
    "\n",
    "# ------------------------------\n",
    "# Part 4: Scatter Plot Comparison\n",
    "# ------------------------------\n",
    "\n",
    "print(\"📊 Preparing scatter plot comparing sample and overall average ratings...\")\n",
    "\n",
    "x_vals, y_vals = [], []\n",
    "for biz_id, sample_avg in sample_business_avg.items():\n",
    "    if biz_id in overall_business_avg:\n",
    "        x_vals.append(sample_avg)\n",
    "        y_vals.append(overall_business_avg[biz_id])\n",
    "\n",
    "print(f\"Number of businesses compared in scatter plot: {len(x_vals)}\\n\")\n",
    "\n",
    "plt.figure(figsize=(8, 6))\n",
    "plt.scatter(x_vals, y_vals, alpha=0.5)\n",
    "plt.xlabel('Average Rating (Sample of 1000 Users)')\n",
    "plt.ylabel('Average Rating (Overall from CSV)')\n",
    "plt.title('Scatter Plot: Sample vs Overall Business Ratings')\n",
    "plt.grid(True)\n",
    "plt.show()\n",
    "\n",
    "print(\"✅ Scatter plot displayed.\\n\")\n",
    "print(\"📌 **Graph Explanation:** The scatter plot compares the average ratings of businesses based on a sample of 1000 users versus the overall ratings from the entire dataset. If the sample is representative, points should align along the diagonal (y = x). Deviations indicate differences in sampled user behavior compared to the full dataset.\")\n"
   ]
  },
  {
   "cell_type": "code",
   "execution_count": 38,
   "id": "jLIP9BvFlgQT",
   "metadata": {
    "id": "jLIP9BvFlgQT"
   },
   "outputs": [
    {
     "name": "stdout",
     "output_type": "stream",
     "text": [
      "Checking for missing values in sampled dataset:\n",
      "0  missing values found.\n",
      "\n",
      "Combined Statistics for Business Ratings:\n",
      "   Rating  Sampled Count  Sampled %  Full Count     Full %\n",
      "0       1            595   2.266926      684229   6.246867\n",
      "1       2            437   1.664952      339248   3.097263\n",
      "2       3           1760   6.705528      858467   7.837624\n",
      "3       4          10834  41.277098     2059032  18.798531\n",
      "4       5          12621  48.085495     7012178  64.019715 \n",
      "\n"
     ]
    },
    {
     "data": {
      "image/png": "[encoded data removed]",
      "text/plain": [
       "<Figure size 800x600 with 1 Axes>"
      ]
     },
     "metadata": {},
     "output_type": "display_data"
    },
    {
     "name": "stdout",
     "output_type": "stream",
     "text": [
      "⚠️ Using estimated review counts from overall_business_avg (assuming total count not stored).\n",
      "Statistics for Review Counts:\n",
      "        Dataset       Mean    Variance  Standard Deviation\n",
      "0  Sampled Data   7.493161  263.218521           16.224011\n",
      "1  Full Dataset  35.406318   61.911621            7.868394 \n",
      "\n"
     ]
    },
    {
     "data": {
      "image/png": "[encoded data removed]",
      "text/plain": [
       "<Figure size 800x600 with 1 Axes>"
      ]
     },
     "metadata": {},
     "output_type": "display_data"
    },
    {
     "name": "stdout",
     "output_type": "stream",
     "text": [
      "✅ Sampled vs. Full dataset analysis complete. Histograms and statistics displayed.\n"
     ]
    }
   ],
   "source": [
    "import matplotlib.pyplot as plt\n",
    "import numpy as np\n",
    "import pandas as pd\n",
    "import os\n",
    "\n",
    "# Check for missing values in sampled data\n",
    "print(\"Checking for missing values in sampled dataset:\")\n",
    "print(sum(v is None for v in sample_business_avg.values()), \" missing values found.\\n\")\n",
    "\n",
    "# Convert dictionary to list for histogram\n",
    "sample_ratings = list(sample_business_avg.values())\n",
    "full_ratings = list(overall_business_avg.values())\n",
    "\n",
    "# Compute statistical parameters\n",
    "sample_mean = np.mean(sample_ratings)\n",
    "full_mean = np.mean(full_ratings)\n",
    "\n",
    "sample_variance = np.var(sample_ratings)\n",
    "full_variance = np.var(full_ratings)\n",
    "\n",
    "sample_std = np.std(sample_ratings)\n",
    "full_std = np.std(full_ratings)\n",
    "\n",
    "# Load business counts from rating_i_counts.txt files\n",
    "full_rating_counts = {rating: 0 for rating in range(1, 6)}\n",
    "\n",
    "data_dir = \"Data\"  # Adjust this path if necessary\n",
    "for i in range(1, 6):\n",
    "    file_path = os.path.join(data_dir, f\"rating_{i}_counts.txt\")\n",
    "    if os.path.exists(file_path):\n",
    "        df = pd.read_csv(file_path)\n",
    "        full_rating_counts[i] = df['count'].sum()\n",
    "\n",
    "# Count number of businesses for each rating in sampled data\n",
    "sample_rating_counts = {rating: sum(1 for r in sample_ratings if int(np.round(r)) == rating) for rating in range(1, 6)}\n",
    "\n",
    "# Compute rating percentages\n",
    "sample_total = sum(sample_rating_counts.values())\n",
    "full_total = sum(full_rating_counts.values())\n",
    "\n",
    "sample_rating_percent = {r: (sample_rating_counts[r] / sample_total) * 100 for r in range(1, 6)}\n",
    "full_rating_percent = {r: (full_rating_counts[r] / full_total) * 100 for r in range(1, 6)}\n",
    "\n",
    "# Create combined DataFrame\n",
    "ratings_stats = pd.DataFrame({\n",
    "    \"Rating\": list(range(1, 6)),\n",
    "    \"Sampled Count\": [sample_rating_counts[r] for r in range(1, 6)],\n",
    "    \"Sampled %\": [sample_rating_percent[r] for r in range(1, 6)],\n",
    "    \"Full Count\": [full_rating_counts[r] for r in range(1, 6)],\n",
    "    \"Full %\": [full_rating_percent[r] for r in range(1, 6)]\n",
    "})\n",
    "\n",
    "print(\"Combined Statistics for Business Ratings:\")\n",
    "print(ratings_stats, \"\\n\")\n",
    "\n",
    "# Histogram of sampled vs. full business ratings\n",
    "plt.figure(figsize=(8, 6))\n",
    "plt.hist(full_ratings, bins=50, edgecolor='black', alpha=0.5, label='Full Dataset', color='blue')\n",
    "plt.hist(sample_ratings, bins=50, edgecolor='black', alpha=0.5, label='Sampled Data', color='red')\n",
    "plt.xlabel('Average Rating')\n",
    "plt.ylabel('Number of Businesses')\n",
    "plt.title('Distribution of Average Business Ratings (Full vs Sampled)')\n",
    "plt.legend()\n",
    "plt.grid(axis='y', linestyle='--', alpha=0.7)\n",
    "plt.show()\n",
    "\n",
    "# Check distribution of review counts in the sample vs full dataset\n",
    "sample_review_counts = [stats['count'] for stats in sample_business_ratings.values()]\n",
    "full_review_counts = []\n",
    "if 'overall_business_ratings' in globals():\n",
    "    full_review_counts = [stats['count'] for stats in overall_business_ratings.values()]\n",
    "elif 'overall_business_avg' in globals():\n",
    "    print(\"⚠️ Using estimated review counts from overall_business_avg (assuming total count not stored).\")\n",
    "    full_review_counts = [stats * 10 for stats in overall_business_avg.values()]  # Placeholder assumption\n",
    "\n",
    "# Compute statistical parameters for review counts\n",
    "if full_review_counts:\n",
    "    sample_review_mean = np.mean(sample_review_counts)\n",
    "    full_review_mean = np.mean(full_review_counts)\n",
    "\n",
    "    sample_review_variance = np.var(sample_review_counts)\n",
    "    full_review_variance = np.var(full_review_counts)\n",
    "\n",
    "    sample_review_std = np.std(sample_review_counts)\n",
    "    full_review_std = np.std(full_review_counts)\n",
    "\n",
    "    # Create DataFrame for review count statistics\n",
    "    review_stats = pd.DataFrame({\n",
    "        \"Dataset\": [\"Sampled Data\", \"Full Dataset\"],\n",
    "        \"Mean\": [sample_review_mean, full_review_mean],\n",
    "        \"Variance\": [sample_review_variance, full_review_variance],\n",
    "        \"Standard Deviation\": [sample_review_std, full_review_std]\n",
    "    })\n",
    "\n",
    "    print(\"Statistics for Review Counts:\")\n",
    "    print(review_stats, \"\\n\")\n",
    "else:\n",
    "    print(\"⚠️ Warning: No review count data available for the full dataset.\")\n",
    "\n",
    "plt.figure(figsize=(8, 6))\n",
    "plt.hist(full_review_counts, bins=50, edgecolor='black', alpha=0.5, label='Full Dataset', color='blue')\n",
    "plt.hist(sample_review_counts, bins=50, edgecolor='black', alpha=0.5, label='Sampled Data', color='red')\n",
    "plt.xlabel('Total Reviews per Business')\n",
    "plt.ylabel('Number of Businesses')\n",
    "plt.title('Distribution of Review Counts per Business (Full vs Sampled)')\n",
    "plt.yscale('log')  # Log scale for better visualization\n",
    "plt.legend()\n",
    "plt.grid(axis='y', linestyle='--', alpha=0.7)\n",
    "plt.show()\n",
    "\n",
    "print(\"✅ Sampled vs. Full dataset analysis complete. Histograms and statistics displayed.\")\n"
   ]
  },
  {
   "cell_type": "markdown",
   "id": "gdH-T-fhljbl",
   "metadata": {
    "id": "gdH-T-fhljbl"
   },
   "source": [
    "# Part 3: Networks\n"
   ]
  },
  {
   "cell_type": "code",
   "execution_count": 39,
   "id": "lMc8QAh6h5am",
   "metadata": {
    "colab": {
     "base_uri": "https://localhost:8080/"
    },
    "id": "lMc8QAh6h5am",
    "outputId": "8829a27d-7058-4315-ed87-b7010bc6ee93"
   },
   "outputs": [
    {
     "name": "stdout",
     "output_type": "stream",
     "text": [
      "Collecting python-louvain\n",
      "  Downloading python-louvain-0.16.tar.gz (204 kB)\n",
      "  Installing build dependencies ... \u001b[?25ldone\n",
      "\u001b[?25h  Getting requirements to build wheel ... \u001b[?25ldone\n",
      "\u001b[?25h  Preparing metadata (pyproject.toml) ... \u001b[?25ldone\n",
      "\u001b[?25hCollecting networkx (from python-louvain)\n",
      "  Downloading networkx-3.4.2-py3-none-any.whl.metadata (6.3 kB)\n",
      "Requirement already satisfied: numpy in ./.venv/lib/python3.13/site-packages (from python-louvain) (2.2.3)\n",
      "Downloading networkx-3.4.2-py3-none-any.whl (1.7 MB)\n",
      "\u001b[2K   \u001b[90m━━━━━━━━━━━━━━━━━━━━━━━━━━━━━━━━━━━━━━━━\u001b[0m \u001b[32m1.7/1.7 MB\u001b[0m \u001b[31m11.0 MB/s\u001b[0m eta \u001b[36m0:00:00\u001b[0m\n",
      "\u001b[?25hBuilding wheels for collected packages: python-louvain\n",
      "  Building wheel for python-louvain (pyproject.toml) ... \u001b[?25ldone\n",
      "\u001b[?25h  Created wheel for python-louvain: filename=python_louvain-0.16-py3-none-any.whl size=9429 sha256=b56323a12668b392c26bca1a24c046b7eff8a232286e96fb0562a7ea125a9024\n",
      "  Stored in directory: /Users/nathan/Library/Caches/pip/wheels/ee/52/54/7ecd0f1ebf5f5a8466f70a27ed2b94d20b955376879d6159c5\n",
      "Successfully built python-louvain\n",
      "Installing collected packages: networkx, python-louvain\n",
      "Successfully installed networkx-3.4.2 python-louvain-0.16\n",
      "Collecting folium\n",
      "  Downloading folium-0.19.5-py2.py3-none-any.whl.metadata (4.1 kB)\n",
      "Collecting branca>=0.6.0 (from folium)\n",
      "  Downloading branca-0.8.1-py3-none-any.whl.metadata (1.5 kB)\n",
      "Collecting jinja2>=2.9 (from folium)\n",
      "  Downloading jinja2-3.1.5-py3-none-any.whl.metadata (2.6 kB)\n",
      "Requirement already satisfied: numpy in ./.venv/lib/python3.13/site-packages (from folium) (2.2.3)\n",
      "Collecting requests (from folium)\n",
      "  Downloading requests-2.32.3-py3-none-any.whl.metadata (4.6 kB)\n",
      "Collecting xyzservices (from folium)\n",
      "  Downloading xyzservices-2025.1.0-py3-none-any.whl.metadata (4.3 kB)\n",
      "Collecting MarkupSafe>=2.0 (from jinja2>=2.9->folium)\n",
      "  Downloading MarkupSafe-3.0.2-cp313-cp313-macosx_10_13_universal2.whl.metadata (4.0 kB)\n",
      "Collecting charset-normalizer<4,>=2 (from requests->folium)\n",
      "  Downloading charset_normalizer-3.4.1-cp313-cp313-macosx_10_13_universal2.whl.metadata (35 kB)\n",
      "Collecting idna<4,>=2.5 (from requests->folium)\n",
      "  Downloading idna-3.10-py3-none-any.whl.metadata (10 kB)\n",
      "Collecting urllib3<3,>=1.21.1 (from requests->folium)\n",
      "  Downloading urllib3-2.3.0-py3-none-any.whl.metadata (6.5 kB)\n",
      "Collecting certifi>=2017.4.17 (from requests->folium)\n",
      "  Downloading certifi-2025.1.31-py3-none-any.whl.metadata (2.5 kB)\n",
      "Downloading folium-0.19.5-py2.py3-none-any.whl (110 kB)\n",
      "Downloading branca-0.8.1-py3-none-any.whl (26 kB)\n",
      "Downloading jinja2-3.1.5-py3-none-any.whl (134 kB)\n",
      "Downloading requests-2.32.3-py3-none-any.whl (64 kB)\n",
      "Downloading xyzservices-2025.1.0-py3-none-any.whl (88 kB)\n",
      "Downloading certifi-2025.1.31-py3-none-any.whl (166 kB)\n",
      "Downloading charset_normalizer-3.4.1-cp313-cp313-macosx_10_13_universal2.whl (195 kB)\n",
      "Downloading idna-3.10-py3-none-any.whl (70 kB)\n",
      "Downloading MarkupSafe-3.0.2-cp313-cp313-macosx_10_13_universal2.whl (14 kB)\n",
      "Downloading urllib3-2.3.0-py3-none-any.whl (128 kB)\n",
      "Installing collected packages: xyzservices, urllib3, MarkupSafe, idna, charset-normalizer, certifi, requests, jinja2, branca, folium\n",
      "Successfully installed MarkupSafe-3.0.2 branca-0.8.1 certifi-2025.1.31 charset-normalizer-3.4.1 folium-0.19.5 idna-3.10 jinja2-3.1.5 requests-2.32.3 urllib3-2.3.0 xyzservices-2025.1.0\n"
     ]
    }
   ],
   "source": [
    "! pip install python-louvain\n",
    "! pip install folium"
   ]
  },
  {
   "cell_type": "code",
   "execution_count": 40,
   "id": "CMyl4Y4sFu60",
   "metadata": {
    "id": "CMyl4Y4sFu60"
   },
   "outputs": [
    {
     "ename": "ModuleNotFoundError",
     "evalue": "No module named 'geopy'",
     "output_type": "error",
     "traceback": [
      "\u001b[0;31m---------------------------------------------------------------------------\u001b[0m",
      "\u001b[0;31mModuleNotFoundError\u001b[0m                       Traceback (most recent call last)",
      "Cell \u001b[0;32mIn[40], line 6\u001b[0m\n\u001b[1;32m      4\u001b[0m \u001b[38;5;28;01mimport\u001b[39;00m\u001b[38;5;250m \u001b[39m\u001b[38;5;21;01mnumpy\u001b[39;00m\u001b[38;5;250m \u001b[39m\u001b[38;5;28;01mas\u001b[39;00m\u001b[38;5;250m \u001b[39m\u001b[38;5;21;01mnp\u001b[39;00m\n\u001b[1;32m      5\u001b[0m \u001b[38;5;28;01mimport\u001b[39;00m\u001b[38;5;250m \u001b[39m\u001b[38;5;21;01mcommunity\u001b[39;00m\u001b[38;5;250m \u001b[39m\u001b[38;5;28;01mas\u001b[39;00m\u001b[38;5;250m \u001b[39m\u001b[38;5;21;01mcommunity_louvain\u001b[39;00m\n\u001b[0;32m----> 6\u001b[0m \u001b[38;5;28;01mfrom\u001b[39;00m\u001b[38;5;250m \u001b[39m\u001b[38;5;21;01mgeopy\u001b[39;00m\u001b[38;5;21;01m.\u001b[39;00m\u001b[38;5;21;01mdistance\u001b[39;00m\u001b[38;5;250m \u001b[39m\u001b[38;5;28;01mimport\u001b[39;00m geodesic\n\u001b[1;32m      7\u001b[0m \u001b[38;5;28;01mimport\u001b[39;00m\u001b[38;5;250m \u001b[39m\u001b[38;5;21;01mfolium\u001b[39;00m\n\u001b[1;32m      8\u001b[0m \u001b[38;5;28;01mimport\u001b[39;00m\u001b[38;5;250m \u001b[39m\u001b[38;5;21;01mrandom\u001b[39;00m\n",
      "\u001b[0;31mModuleNotFoundError\u001b[0m: No module named 'geopy'"
     ]
    }
   ],
   "source": [
    "import pandas as pd\n",
    "import networkx as nx\n",
    "import matplotlib.pyplot as plt\n",
    "import numpy as np\n",
    "import community as community_louvain\n",
    "from geopy.distance import geodesic\n",
    "import folium\n",
    "import random\n",
    "from branca.colormap import LinearColormap"
   ]
  },
  {
   "cell_type": "markdown",
   "id": "l0Lwtv82MlWd",
   "metadata": {
    "id": "l0Lwtv82MlWd"
   },
   "source": [
    "## Q1. Exploratory Data Analysis"
   ]
  },
  {
   "cell_type": "markdown",
   "id": "pSe2zDpdnQ0o",
   "metadata": {
    "id": "pSe2zDpdnQ0o"
   },
   "source": [
    "a. Read the data file `network-table.txt` you created in the the previous Unix question.  \n",
    "In addition, read the file *meta-Oregon.json*, which contains additional information about each `gmap_id`, such as category, website, and more.  \n",
    "Display the first five rows of each dataset and explain what is shown and what does the data represents.\n",
    "\n",
    "**Note:** If you failed to create the correct `network-table.txt` file in the unix part, you can use for this question the file we supply.\n",
    "\n",
    "b. Read the file `network-table.txt` and plot a histogram showing the number of reviews by each user (`user_id`).\n",
    "Next, plot a histogram showing the number of unique users reviewing each buisness (`gmap_id`).\n",
    "\n",
    "c.\n",
    "  - Display the distribution of buisness categories using the `meta-Oregon` file. For each buisness having multiple categories use only the first `category`. Show only the top 30 categories having the largest number of buisnesses. Highlight all the restaurant cateories  in a different color.  \n",
    "  - Choose 4 of the top 30 categories and show for each one of them the distribution of `avg_rating` (from the `meta-Oregon` file) for this cateroy.\n",
    "\n",
    "d. Finally, filter the  the `meta-Oregon` file to include only buisnesses with more than 100 reviews. Use `Folium` to create a map showing the buisnesses with more than 100 reviews as circles, color them by the `avg_rating` between red to green and make their size proportional to the number of reviews (use `radius` = `num_reviews` / 1000).\n",
    "Using all of these, describe the data and explain its meaning"
   ]
  },
  {
   "cell_type": "markdown",
   "id": "i2P53q4NMtzJ",
   "metadata": {
    "id": "i2P53q4NMtzJ"
   },
   "source": [
    "**Solution**\n"
   ]
  },
  {
   "cell_type": "code",
   "execution_count": null,
   "id": "xRfoLHX7O_ye",
   "metadata": {
    "colab": {
     "base_uri": "https://localhost:8080/"
    },
    "id": "xRfoLHX7O_ye",
    "outputId": "a6c2ded4-9008-4a3f-9378-85f84ab6273e"
   },
   "outputs": [],
   "source": [
    "from google.colab import drive\n",
    "drive.mount('/content/drive')"
   ]
  },
  {
   "cell_type": "code",
   "execution_count": null,
   "id": "gXajitWYjy1X",
   "metadata": {
    "id": "gXajitWYjy1X"
   },
   "outputs": [],
   "source": [
    "# Load the data and show the tables ..."
   ]
  },
  {
   "cell_type": "code",
   "execution_count": null,
   "id": "P6Duc7msj8yj",
   "metadata": {
    "id": "P6Duc7msj8yj"
   },
   "outputs": [],
   "source": []
  },
  {
   "cell_type": "markdown",
   "id": "Ohve7JtzUMDh",
   "metadata": {
    "id": "Ohve7JtzUMDh"
   },
   "source": [
    "explnation..."
   ]
  },
  {
   "cell_type": "code",
   "execution_count": null,
   "id": "11ISAHLrkAW0",
   "metadata": {
    "id": "11ISAHLrkAW0"
   },
   "outputs": [],
   "source": []
  },
  {
   "cell_type": "markdown",
   "id": "-WMval9NkGoN",
   "metadata": {
    "id": "-WMval9NkGoN"
   },
   "source": [
    "explnation..."
   ]
  },
  {
   "cell_type": "markdown",
   "id": "RW1u6ZryTnM6",
   "metadata": {
    "id": "RW1u6ZryTnM6"
   },
   "source": [
    "## Q2. Community Detection - The Louvain Algorithm\n",
    "- Explain the Louvain algorithm in words, provide an example with at least 6 nodes, display it on a plot, and mark the communities that are formed in the example according to the algorithm (you can use the `community_louvain` implementation).\n",
    "\n",
    "-  Make one change in the divison to communities (move at least one node from one community to another) and show that the resulting division is sub-optimal by comparing the cost function of the two communities. Write explicitly the formulas that you use."
   ]
  },
  {
   "cell_type": "markdown",
   "id": "dGD-xVHnlLfY",
   "metadata": {
    "id": "dGD-xVHnlLfY"
   },
   "source": [
    "**Solution**\n"
   ]
  },
  {
   "cell_type": "markdown",
   "id": "0tCRKrdhhEkC",
   "metadata": {
    "id": "0tCRKrdhhEkC"
   },
   "source": [
    "Explaining in words:\n",
    "\n"
   ]
  },
  {
   "cell_type": "code",
   "execution_count": null,
   "id": "na0_SHP1kXM8",
   "metadata": {
    "id": "na0_SHP1kXM8"
   },
   "outputs": [],
   "source": [
    "# Code that plot the example of 6 nodes devided into communites"
   ]
  },
  {
   "cell_type": "markdown",
   "id": "SagiEuNtkmd7",
   "metadata": {
    "id": "SagiEuNtkmd7"
   },
   "source": [
    "Suggest change and show the impact using the formulas..  \n",
    "\n"
   ]
  },
  {
   "cell_type": "markdown",
   "id": "ADImk8l6iamc",
   "metadata": {
    "id": "ADImk8l6iamc"
   },
   "source": [
    "## Q3. Network Preliminary Analysis\n",
    "Represent the data file 'network_data.txt' you've loaded as an **undirected** graph using the `gmap_id_from` and `gmap_id_to` fields:\n",
    "Make sure that each undorederd (`gmap_id_from` and `gmap_id_to`) appears only once, and remove self loops.\n",
    "\n",
    "Next, analyze the network:\n",
    "- First, print the number nodes and edges in the graph.\n",
    "- Then, plot the degree distribution and explain what the plot reveals.\n",
    "- Finally, visualize the entire graph and describe what you observe. Use the default layout of `networkx` draw function.\n",
    "\n",
    "**Note: the plot might take a while to run..**"
   ]
  },
  {
   "cell_type": "markdown",
   "id": "8HyGo4cplM7-",
   "metadata": {
    "id": "8HyGo4cplM7-"
   },
   "source": [
    "**Solution**\n"
   ]
  },
  {
   "cell_type": "code",
   "execution_count": null,
   "id": "SwGcA5BdTTcw",
   "metadata": {
    "id": "SwGcA5BdTTcw"
   },
   "outputs": [],
   "source": [
    "G = nx.Graph()\n",
    "\n",
    "for _, row in network_df.iterrows():\n",
    "    G.add_edge(\n",
    "        # ...\n",
    "       )\n"
   ]
  },
  {
   "cell_type": "code",
   "execution_count": null,
   "id": "YYHXxMtdXgfE",
   "metadata": {
    "id": "YYHXxMtdXgfE"
   },
   "outputs": [],
   "source": []
  },
  {
   "cell_type": "markdown",
   "id": "xOi47Rn9UGhP",
   "metadata": {
    "id": "xOi47Rn9UGhP"
   },
   "source": [
    "## Q4. Network Community Analysis\n",
    "\n",
    "- We want to focus on buisnesses with many reviews. Keep only the nodes that have at least 15 edges. Afterward, remove nodes that are not connected to the central part of the network, i.e. the largest connected component.  \n",
    "\n",
    "You can use the following code to help:  \n",
    "```\n",
    "largest_cc = max(nx.connected_components(subgraph), key=len)  \n",
    "main_component = subgraph.subgraph(largest_cc)  \n",
    "```\n",
    "\n",
    "- Next, run the **Louvain algorithm** to divide the buisnesses in the main connected component into communities. Plot the buisnesses colored by their coomunity and describe the results in detail.\n",
    "\n",
    "- Finally, we want to know whether communities reflect different categories.\n",
    "— For each community compute the fraction of buisnesses form this community in each of the 30 top cateories from Q1, plus a 31st cateorgy called 'other' for all buisnesses in a different category\n",
    "- Plot a heatmap showing the community-by-category fractions.\n",
    "Do you see a relationship between the communities and categories? derive a staitstical test testing the null hypothesis of no such relationship, and report your test results."
   ]
  },
  {
   "cell_type": "markdown",
   "id": "DpSIoFnjlP76",
   "metadata": {
    "id": "DpSIoFnjlP76"
   },
   "source": [
    "**Solution**\n"
   ]
  },
  {
   "cell_type": "code",
   "execution_count": null,
   "id": "93uY2CQ0fCWE",
   "metadata": {
    "id": "93uY2CQ0fCWE"
   },
   "outputs": [],
   "source": []
  },
  {
   "cell_type": "markdown",
   "id": "jFUofGrUaBaz",
   "metadata": {
    "id": "jFUofGrUaBaz"
   },
   "source": [
    "## Q5. Geographic Community Analysis\n",
    " In this question we will explore whether there is any geographical significance to the communities that were formed.\n",
    "-  Choose the **five largest communities**. For each one of them, calculate the average latitude and longitude $\\text{Lon, Lat}$ of all locations within it.\n",
    "\n",
    "- Then, compute the Empirical Cumulative Distribution Function (**ECDF**) of the distances from each location to the center of buisnesses in this community. Plot in addition the **ECDF** of the distance to the center for all locations in the entire dataset.\n",
    "What do the results show? Do you observe geographical clustering of the communities?  \n",
    "\n",
    "- Next, plot the points of the buisnesses in the largest five communities on a map using the `folium` library, with each community displayed in a different color. What do you observe? Explain in a couple of sentences the results and why they might occur."
   ]
  },
  {
   "cell_type": "markdown",
   "id": "uyMh01filWqr",
   "metadata": {
    "id": "uyMh01filWqr"
   },
   "source": [
    "**Solution**\n"
   ]
  },
  {
   "cell_type": "code",
   "execution_count": null,
   "id": "XnHXdgRVldeh",
   "metadata": {
    "id": "XnHXdgRVldeh"
   },
   "outputs": [],
   "source": []
  }
 ],
 "metadata": {
  "colab": {
   "provenance": [],
   "toc_visible": true
  },
  "kernelspec": {
   "display_name": ".venv",
   "language": "python",
   "name": "python3"
  },
  "language_info": {
   "codemirror_mode": {
    "name": "ipython",
    "version": 3
   },
   "file_extension": ".py",
   "mimetype": "text/x-python",
   "name": "python",
   "nbconvert_exporter": "python",
   "pygments_lexer": "ipython3",
   "version": "3.13.0"
  }
 },
 "nbformat": 4,
 "nbformat_minor": 5
}
